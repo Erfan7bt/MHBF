{
 "cells": [
  {
   "cell_type": "code",
   "execution_count": 2,
   "metadata": {},
   "outputs": [
    {
     "name": "stdout",
     "output_type": "stream",
     "text": [
      "cpu\n"
     ]
    }
   ],
   "source": [
    "import numpy as np\n",
    "import matplotlib.pyplot as plt\n",
    "import torch\n",
    "import torch.nn as nn\n",
    "from torch.utils.data import Dataset\n",
    "from torch.utils.data import DataLoader\n",
    "import numpy.linalg as la\n",
    "\n",
    "from data import *\n",
    "from models import train\n",
    "\n",
    "# Below snippit taken from PyTorch quickstart tutorial\n",
    "device = (\n",
    "    \"cuda\"\n",
    "    if torch.cuda.is_available()\n",
    "    else \"mps\"\n",
    "    if torch.backends.mps.is_available()\n",
    "    else \"cpu\"\n",
    ")\n",
    "print(device)"
   ]
  },
  {
   "cell_type": "markdown",
   "metadata": {},
   "source": [
    "# Data generation functions"
   ]
  },
  {
   "cell_type": "code",
   "execution_count": 3,
   "metadata": {},
   "outputs": [
    {
     "data": {
      "text/plain": [
       "[<matplotlib.lines.Line2D at 0x7f1d56d469d0>]"
      ]
     },
     "execution_count": 3,
     "metadata": {},
     "output_type": "execute_result"
    },
    {
     "data": {
      "image/png": "[encoded data removed]",
      "text/plain": [
       "<Figure size 432x288 with 1 Axes>"
      ]
     },
     "metadata": {
      "needs_background": "light"
     },
     "output_type": "display_data"
    }
   ],
   "source": [
    "u, y = single_decision(16*3.2/100)\n",
    "plt.plot(u)\n",
    "plt.plot(y)"
   ]
  },
  {
   "cell_type": "code",
   "execution_count": 4,
   "metadata": {
    "scrolled": false
   },
   "outputs": [
    {
     "data": {
      "text/plain": [
       "[<matplotlib.lines.Line2D at 0x7f1e00726ee0>]"
      ]
     },
     "execution_count": 4,
     "metadata": {},
     "output_type": "execute_result"
    },
    {
     "data": {
      "image/png": "[encoded data removed]",
      "text/plain": [
       "<Figure size 432x288 with 1 Axes>"
      ]
     },
     "metadata": {
      "needs_background": "light"
     },
     "output_type": "display_data"
    }
   ],
   "source": [
    "u, y = parametric(10, 34)\n",
    "plt.plot(u)\n",
    "plt.plot(y)"
   ]
  },
  {
   "cell_type": "code",
   "execution_count": 5,
   "metadata": {},
   "outputs": [
    {
     "data": {
      "text/plain": [
       "[<matplotlib.lines.Line2D at 0x7f1e006a91f0>]"
      ]
     },
     "execution_count": 5,
     "metadata": {},
     "output_type": "execute_result"
    },
    {
     "data": {
      "image/png": "[encoded data removed]",
      "text/plain": [
       "<Figure size 432x288 with 1 Axes>"
      ]
     },
     "metadata": {
      "needs_background": "light"
     },
     "output_type": "display_data"
    }
   ],
   "source": [
    "u, y = parametric(10, 34, pause=20)\n",
    "plt.plot(u)\n",
    "plt.plot(y)"
   ]
  },
  {
   "cell_type": "markdown",
   "metadata": {},
   "source": [
    "# RNN Class"
   ]
  },
  {
   "cell_type": "code",
   "execution_count": 6,
   "metadata": {},
   "outputs": [],
   "source": [
    "class RNN(nn.Module):\n",
    "\n",
    "    def __init__(self, network_size=128,rank=1):\n",
    "\n",
    "        super(RNN, self).__init__()\n",
    "        self.network_size = network_size\n",
    "        self.rank=rank\n",
    "\n",
    "        # Weight initialization\n",
    "        #unit rank rnn weight matrix J=mn^T/n\n",
    "#         if rank==1:\n",
    "        self.m = nn.Parameter(torch.Tensor(network_size, rank))\n",
    "        self.n = nn.Parameter(torch.Tensor(network_size, rank))\n",
    "        self.wi = torch.Tensor(network_size)\n",
    "        self.w = torch.Tensor(network_size, 1)\n",
    "        self.x0= torch.Tensor(network_size, 1)\n",
    "#         else:\n",
    "#             self.m = nn.Parameter(torch.Tensor(self.network_size,self.rank))\n",
    "#             self.n = nn.Parameter(torch.Tensor(self.network_size,self.rank))\n",
    "#             self.wi = torch.Tensor(self.network_size,1)\n",
    "#             self.w = torch.Tensor(self.network_size,1)\n",
    "#             self.x0= torch.Tensor(self.network_size,1)\n",
    "\n",
    "                # Parameters for weight update formula\n",
    "        self.tau = 100 #ms\n",
    "        self.dt = 20 #ms\n",
    "\n",
    "        # Activation function\n",
    "        self.activation = nn.Tanh()\n",
    "\n",
    "        with torch.no_grad():\n",
    "            self.m.normal_(std=1)\n",
    "            self.n.normal_(std=1)\n",
    "            self.w.normal_(std=4)\n",
    "            self.x0.zero_()\n",
    "            self.wi.normal_(std=1)\n",
    "\n",
    "    def forward(self, u, visible_activity=False):\n",
    "        \n",
    "        # print(u)\n",
    "        if len(u.shape) == 1:\n",
    "            u = u.unsqueeze(0)\n",
    "            \n",
    "            \n",
    "            \n",
    "        input_len=u.size(1)\n",
    "        batch_size=u.size(0)\n",
    "        \n",
    "        x = torch.zeros(batch_size, self.network_size)\n",
    "        z = torch.zeros(u.shape)\n",
    "\n",
    "        r = self.activation(x)\n",
    "\n",
    "        if visible_activity:\n",
    "            unit_activity = torch.zeros(batch_size, input_len+1, self.network_size)\n",
    "            unit_activity[:,0,:] = x\n",
    "\n",
    "        for i in range(input_len):\n",
    "            delta_x = (\n",
    "                -x\n",
    "                + r.matmul(self.n).matmul(self.m.t()) / self.network_size\n",
    "                + torch.outer(u[:,i], self.wi.squeeze())\n",
    "            ) * (self.dt / self.tau)\n",
    "\n",
    "            x = x + delta_x\n",
    "            r = self.activation(x)\n",
    "            if visible_activity:\n",
    "                unit_activity[:,i+1,:] = x\n",
    "\n",
    "            output = torch.matmul(r, self.w) / self.network_size\n",
    "            z[:, i] = output.squeeze()\n",
    "\n",
    "        if visible_activity:\n",
    "            return z, unit_activity\n",
    "        else:\n",
    "            return z"
   ]
  },
  {
   "cell_type": "markdown",
   "metadata": {},
   "source": [
    "# Rank-One Tests"
   ]
  },
  {
   "cell_type": "code",
   "execution_count": 7,
   "metadata": {},
   "outputs": [
    {
     "name": "stdout",
     "output_type": "stream",
     "text": [
      "loss: 0.999725  [    1/    1]\n"
     ]
    }
   ],
   "source": [
    "sd_single_data = SingleDecisionDataset(1)\n",
    "train_dataloader = DataLoader(sd_single_data, batch_size=1)\n",
    "model = RNN()\n",
    "train(train_dataloader, model, device)"
   ]
  },
  {
   "cell_type": "code",
   "execution_count": 8,
   "metadata": {},
   "outputs": [
    {
     "name": "stdout",
     "output_type": "stream",
     "text": [
      "loss: 0.996330  [    5/    5]\n"
     ]
    }
   ],
   "source": [
    "sd_single_data = SingleDecisionDataset(5)\n",
    "train_dataloader = DataLoader(sd_single_data, batch_size=5)\n",
    "model = RNN()\n",
    "train(train_dataloader, model, device)"
   ]
  },
  {
   "cell_type": "code",
   "execution_count": 9,
   "metadata": {},
   "outputs": [
    {
     "name": "stdout",
     "output_type": "stream",
     "text": [
      "loss: 0.998385  [   32/ 8000]\n",
      "loss: 0.043495  [ 3232/ 8000]\n",
      "loss: 0.000995  [ 6432/ 8000]\n"
     ]
    }
   ],
   "source": [
    "sd_dataset = SingleDecisionDataset(8000)\n",
    "train_dataloader = DataLoader(sd_dataset, batch_size=32)\n",
    "\n",
    "model = RNN()\n",
    "train(train_dataloader, model, device)"
   ]
  },
  {
   "cell_type": "code",
   "execution_count": 10,
   "metadata": {
    "scrolled": false
   },
   "outputs": [
    {
     "name": "stdout",
     "output_type": "stream",
     "text": [
      "torch.Size([75])\n",
      "(1, 76, 128)\n"
     ]
    },
    {
     "data": {
      "image/png": "[encoded data removed]",
      "text/plain": [
       "<Figure size 432x288 with 1 Axes>"
      ]
     },
     "metadata": {
      "needs_background": "light"
     },
     "output_type": "display_data"
    }
   ],
   "source": [
    "strength = -8\n",
    "u, y = single_decision(strength*3.2/100)\n",
    "u, y = torch.Tensor(u), torch.Tensor(y)\n",
    "print(u.shape)\n",
    "\n",
    "z = model(u).squeeze().detach().numpy()\n",
    "plt.plot(u.squeeze())\n",
    "plt.plot(y.squeeze())\n",
    "plt.plot(z)\n",
    "\n",
    "z, u_act = model(u, visible_activity=True)\n",
    "u_act = u_act.detach().numpy()\n",
    "print(u_act.shape)\n"
   ]
  },
  {
   "cell_type": "markdown",
   "metadata": {},
   "source": [
    "# Full rank single_decision"
   ]
  },
  {
   "cell_type": "code",
   "execution_count": 11,
   "metadata": {
    "scrolled": true
   },
   "outputs": [
    {
     "name": "stdout",
     "output_type": "stream",
     "text": [
      "loss: 1.061214  [   32/ 8000]\n",
      "loss: 0.000017  [ 3232/ 8000]\n",
      "loss: 0.000019  [ 6432/ 8000]\n"
     ]
    }
   ],
   "source": [
    "sd_dataset = SingleDecisionDataset(8000)\n",
    "train_dataloader = DataLoader(sd_dataset, batch_size=32)\n",
    "\n",
    "model = RNN(rank=128)\n",
    "train(train_dataloader, model, device)"
   ]
  },
  {
   "cell_type": "code",
   "execution_count": 12,
   "metadata": {},
   "outputs": [
    {
     "name": "stdout",
     "output_type": "stream",
     "text": [
      "torch.Size([75])\n",
      "(1, 76, 128)\n"
     ]
    },
    {
     "data": {
      "image/png": "[encoded data removed]",
      "text/plain": [
       "<Figure size 432x288 with 1 Axes>"
      ]
     },
     "metadata": {
      "needs_background": "light"
     },
     "output_type": "display_data"
    }
   ],
   "source": [
    "strength = -2\n",
    "u, y = single_decision(strength*3.2/100)\n",
    "u, y = torch.Tensor(u), torch.Tensor(y)\n",
    "print(u.shape)\n",
    "\n",
    "z = model(u).squeeze().detach().numpy()\n",
    "plt.plot(u.squeeze())\n",
    "plt.plot(y.squeeze())\n",
    "plt.plot(z)\n",
    "\n",
    "z, u_act = model(u, visible_activity=True)\n",
    "u_act = u_act.detach().numpy()\n",
    "print(u_act.shape)"
   ]
  },
  {
   "cell_type": "markdown",
   "metadata": {},
   "source": [
    "# Rank 2 Parametric"
   ]
  },
  {
   "cell_type": "code",
   "execution_count": 13,
   "metadata": {},
   "outputs": [
    {
     "name": "stdout",
     "output_type": "stream",
     "text": [
      "loss: 0.376527  [    1/    1]\n"
     ]
    }
   ],
   "source": [
    "p_data = ParametricDataset(1)\n",
    "train_dataloader = DataLoader(p_data, batch_size=1)\n",
    "model = RNN(rank=2)\n",
    "train(train_dataloader, model, device)\n"
   ]
  },
  {
   "cell_type": "code",
   "execution_count": 14,
   "metadata": {
    "scrolled": true
   },
   "outputs": [
    {
     "name": "stdout",
     "output_type": "stream",
     "text": [
      "loss: 0.112835  [    5/    5]\n"
     ]
    }
   ],
   "source": [
    "p_data = ParametricDataset(5)\n",
    "train_dataloader = DataLoader(p_data, batch_size=5)\n",
    "model = RNN(rank=2)\n",
    "train(train_dataloader, model, device)"
   ]
  },
  {
   "cell_type": "markdown",
   "metadata": {},
   "source": [
    "### Rank 2 network overfits on 1 sample parametric dataset (GOOD!)"
   ]
  },
  {
   "cell_type": "code",
   "execution_count": 15,
   "metadata": {
    "scrolled": true
   },
   "outputs": [
    {
     "name": "stdout",
     "output_type": "stream",
     "text": [
      "loss: 0.059505  [    1/    1]\n",
      "loss: 0.058724  [    1/    1]\n",
      "loss: 0.057949  [    1/    1]\n",
      "loss: 0.057179  [    1/    1]\n",
      "loss: 0.056416  [    1/    1]\n",
      "loss: 0.055659  [    1/    1]\n",
      "loss: 0.054907  [    1/    1]\n",
      "loss: 0.054162  [    1/    1]\n",
      "loss: 0.053422  [    1/    1]\n",
      "loss: 0.052688  [    1/    1]\n",
      "loss: 0.051960  [    1/    1]\n",
      "loss: 0.051237  [    1/    1]\n",
      "loss: 0.050521  [    1/    1]\n",
      "loss: 0.049809  [    1/    1]\n",
      "loss: 0.049104  [    1/    1]\n",
      "loss: 0.048404  [    1/    1]\n",
      "loss: 0.047709  [    1/    1]\n",
      "loss: 0.047000  [    1/    1]\n",
      "loss: 0.046268  [    1/    1]\n",
      "loss: 0.045514  [    1/    1]\n",
      "loss: 0.044739  [    1/    1]\n",
      "loss: 0.043943  [    1/    1]\n",
      "loss: 0.043127  [    1/    1]\n",
      "loss: 0.042292  [    1/    1]\n",
      "loss: 0.041439  [    1/    1]\n",
      "loss: 0.040568  [    1/    1]\n",
      "loss: 0.039679  [    1/    1]\n",
      "loss: 0.038775  [    1/    1]\n",
      "loss: 0.037855  [    1/    1]\n",
      "loss: 0.036920  [    1/    1]\n",
      "loss: 0.035972  [    1/    1]\n",
      "loss: 0.035012  [    1/    1]\n",
      "loss: 0.034039  [    1/    1]\n",
      "loss: 0.033056  [    1/    1]\n",
      "loss: 0.032064  [    1/    1]\n",
      "loss: 0.031063  [    1/    1]\n",
      "loss: 0.030054  [    1/    1]\n",
      "loss: 0.029040  [    1/    1]\n",
      "loss: 0.028020  [    1/    1]\n",
      "loss: 0.026996  [    1/    1]\n",
      "loss: 0.025969  [    1/    1]\n",
      "loss: 0.024941  [    1/    1]\n",
      "loss: 0.023912  [    1/    1]\n",
      "loss: 0.022885  [    1/    1]\n",
      "loss: 0.021860  [    1/    1]\n",
      "loss: 0.020839  [    1/    1]\n",
      "loss: 0.019823  [    1/    1]\n",
      "loss: 0.018814  [    1/    1]\n",
      "loss: 0.017812  [    1/    1]\n",
      "loss: 0.016821  [    1/    1]\n",
      "loss: 0.015841  [    1/    1]\n",
      "loss: 0.014873  [    1/    1]\n",
      "loss: 0.013921  [    1/    1]\n",
      "loss: 0.012984  [    1/    1]\n",
      "loss: 0.012066  [    1/    1]\n",
      "loss: 0.011168  [    1/    1]\n",
      "loss: 0.010291  [    1/    1]\n",
      "loss: 0.009437  [    1/    1]\n",
      "loss: 0.008609  [    1/    1]\n",
      "loss: 0.007808  [    1/    1]\n",
      "loss: 0.007037  [    1/    1]\n",
      "loss: 0.006297  [    1/    1]\n",
      "loss: 0.005590  [    1/    1]\n",
      "loss: 0.004920  [    1/    1]\n",
      "loss: 0.004287  [    1/    1]\n",
      "loss: 0.003695  [    1/    1]\n",
      "loss: 0.003145  [    1/    1]\n",
      "loss: 0.002641  [    1/    1]\n",
      "loss: 0.002184  [    1/    1]\n",
      "loss: 0.001777  [    1/    1]\n",
      "loss: 0.001423  [    1/    1]\n",
      "loss: 0.001124  [    1/    1]\n",
      "loss: 0.000883  [    1/    1]\n",
      "loss: 0.000703  [    1/    1]\n",
      "loss: 0.000586  [    1/    1]\n",
      "loss: 0.000535  [    1/    1]\n",
      "loss: 0.000527  [    1/    1]\n",
      "loss: 0.000518  [    1/    1]\n",
      "loss: 0.000511  [    1/    1]\n",
      "loss: 0.000502  [    1/    1]\n",
      "loss: 0.000496  [    1/    1]\n",
      "loss: 0.000487  [    1/    1]\n",
      "loss: 0.000481  [    1/    1]\n",
      "loss: 0.000473  [    1/    1]\n",
      "loss: 0.000467  [    1/    1]\n",
      "loss: 0.000459  [    1/    1]\n",
      "loss: 0.000453  [    1/    1]\n",
      "loss: 0.000446  [    1/    1]\n",
      "loss: 0.000440  [    1/    1]\n",
      "loss: 0.000433  [    1/    1]\n",
      "loss: 0.000427  [    1/    1]\n",
      "loss: 0.000420  [    1/    1]\n",
      "loss: 0.000414  [    1/    1]\n",
      "loss: 0.000408  [    1/    1]\n",
      "loss: 0.000402  [    1/    1]\n",
      "loss: 0.000395  [    1/    1]\n",
      "loss: 0.000390  [    1/    1]\n",
      "loss: 0.000384  [    1/    1]\n",
      "loss: 0.000379  [    1/    1]\n",
      "loss: 0.000372  [    1/    1]\n",
      "loss: 0.000369  [    1/    1]\n",
      "loss: 0.000362  [    1/    1]\n",
      "loss: 0.000359  [    1/    1]\n",
      "loss: 0.000351  [    1/    1]\n",
      "loss: 0.000349  [    1/    1]\n",
      "loss: 0.000342  [    1/    1]\n",
      "loss: 0.000340  [    1/    1]\n",
      "loss: 0.000332  [    1/    1]\n",
      "loss: 0.000331  [    1/    1]\n",
      "loss: 0.000323  [    1/    1]\n",
      "loss: 0.000322  [    1/    1]\n",
      "loss: 0.000314  [    1/    1]\n",
      "loss: 0.000313  [    1/    1]\n",
      "loss: 0.000306  [    1/    1]\n",
      "loss: 0.000305  [    1/    1]\n",
      "loss: 0.000298  [    1/    1]\n",
      "loss: 0.000297  [    1/    1]\n",
      "loss: 0.000290  [    1/    1]\n",
      "loss: 0.000289  [    1/    1]\n",
      "loss: 0.000282  [    1/    1]\n",
      "loss: 0.000281  [    1/    1]\n",
      "loss: 0.000274  [    1/    1]\n",
      "loss: 0.000273  [    1/    1]\n",
      "loss: 0.000267  [    1/    1]\n",
      "loss: 0.000266  [    1/    1]\n",
      "loss: 0.000260  [    1/    1]\n",
      "loss: 0.000260  [    1/    1]\n",
      "loss: 0.000253  [    1/    1]\n",
      "loss: 0.000253  [    1/    1]\n",
      "loss: 0.000247  [    1/    1]\n",
      "loss: 0.000247  [    1/    1]\n",
      "loss: 0.000241  [    1/    1]\n",
      "loss: 0.000241  [    1/    1]\n",
      "loss: 0.000236  [    1/    1]\n",
      "loss: 0.000235  [    1/    1]\n",
      "loss: 0.000231  [    1/    1]\n",
      "loss: 0.000229  [    1/    1]\n",
      "loss: 0.000225  [    1/    1]\n",
      "loss: 0.000224  [    1/    1]\n",
      "loss: 0.000220  [    1/    1]\n",
      "loss: 0.000218  [    1/    1]\n",
      "loss: 0.000215  [    1/    1]\n",
      "loss: 0.000213  [    1/    1]\n",
      "loss: 0.000210  [    1/    1]\n",
      "loss: 0.000208  [    1/    1]\n",
      "loss: 0.000205  [    1/    1]\n",
      "loss: 0.000203  [    1/    1]\n",
      "loss: 0.000201  [    1/    1]\n",
      "loss: 0.000199  [    1/    1]\n",
      "loss: 0.000197  [    1/    1]\n",
      "loss: 0.000194  [    1/    1]\n",
      "loss: 0.000192  [    1/    1]\n",
      "loss: 0.000190  [    1/    1]\n",
      "loss: 0.000188  [    1/    1]\n",
      "loss: 0.000186  [    1/    1]\n",
      "loss: 0.000184  [    1/    1]\n",
      "loss: 0.000183  [    1/    1]\n",
      "loss: 0.000181  [    1/    1]\n",
      "loss: 0.000179  [    1/    1]\n",
      "loss: 0.000178  [    1/    1]\n",
      "loss: 0.000176  [    1/    1]\n",
      "loss: 0.000175  [    1/    1]\n",
      "loss: 0.000173  [    1/    1]\n",
      "loss: 0.000172  [    1/    1]\n",
      "loss: 0.000170  [    1/    1]\n",
      "loss: 0.000169  [    1/    1]\n",
      "loss: 0.000167  [    1/    1]\n",
      "loss: 0.000166  [    1/    1]\n",
      "loss: 0.000164  [    1/    1]\n",
      "loss: 0.000163  [    1/    1]\n",
      "loss: 0.000161  [    1/    1]\n",
      "loss: 0.000161  [    1/    1]\n",
      "loss: 0.000159  [    1/    1]\n",
      "loss: 0.000158  [    1/    1]\n",
      "loss: 0.000156  [    1/    1]\n",
      "loss: 0.000156  [    1/    1]\n",
      "loss: 0.000154  [    1/    1]\n",
      "loss: 0.000153  [    1/    1]\n",
      "loss: 0.000151  [    1/    1]\n",
      "loss: 0.000151  [    1/    1]\n",
      "loss: 0.000149  [    1/    1]\n",
      "loss: 0.000148  [    1/    1]\n",
      "loss: 0.000147  [    1/    1]\n",
      "loss: 0.000146  [    1/    1]\n",
      "loss: 0.000145  [    1/    1]\n",
      "loss: 0.000144  [    1/    1]\n",
      "loss: 0.000143  [    1/    1]\n",
      "loss: 0.000142  [    1/    1]\n",
      "loss: 0.000141  [    1/    1]\n",
      "loss: 0.000140  [    1/    1]\n",
      "loss: 0.000139  [    1/    1]\n",
      "loss: 0.000138  [    1/    1]\n",
      "loss: 0.000137  [    1/    1]\n",
      "loss: 0.000136  [    1/    1]\n",
      "loss: 0.000135  [    1/    1]\n",
      "loss: 0.000134  [    1/    1]\n",
      "loss: 0.000133  [    1/    1]\n",
      "loss: 0.000132  [    1/    1]\n",
      "loss: 0.000132  [    1/    1]\n",
      "loss: 0.000130  [    1/    1]\n"
     ]
    }
   ],
   "source": [
    "p_data = ParametricDataset(1)\n",
    "train_dataloader = DataLoader(p_data, batch_size=1)\n",
    "model = RNN(rank=2)\n",
    "\n",
    "for _ in range(200):\n",
    "    train(train_dataloader, model, device, T=5)"
   ]
  },
  {
   "cell_type": "code",
   "execution_count": 21,
   "metadata": {
    "scrolled": true
   },
   "outputs": [
    {
     "name": "stdout",
     "output_type": "stream",
     "text": [
      "loss: 0.238379  [   32/32000]\n",
      "loss: 0.157851  [ 3232/32000]\n",
      "loss: 0.190081  [ 6432/32000]\n",
      "loss: 0.134134  [ 9632/32000]\n",
      "loss: 0.128377  [12832/32000]\n",
      "loss: 0.133791  [16032/32000]\n",
      "loss: 0.138438  [19232/32000]\n",
      "loss: 0.084201  [22432/32000]\n",
      "loss: 0.113508  [25632/32000]\n",
      "loss: 0.089511  [28832/32000]\n"
     ]
    }
   ],
   "source": [
    "p_data = ParametricDataset(32000)\n",
    "train_dataloader = DataLoader(p_data, batch_size=32)\n",
    "model = RNN(rank=2)\n",
    "train(train_dataloader, model, device, T=5, lr=1e-3)"
   ]
  },
  {
   "cell_type": "code",
   "execution_count": 17,
   "metadata": {},
   "outputs": [
    {
     "name": "stdout",
     "output_type": "stream",
     "text": [
      "torch.Size([75])\n",
      "(1, 76, 128)\n"
     ]
    },
    {
     "data": {
      "image/png": "[encoded data removed]",
      "text/plain": [
       "<Figure size 432x288 with 1 Axes>"
      ]
     },
     "metadata": {
      "needs_background": "light"
     },
     "output_type": "display_data"
    }
   ],
   "source": [
    "u, y = parametric(14, 30)\n",
    "u, y = torch.Tensor(u), torch.Tensor(y)\n",
    "print(u.shape)\n",
    "\n",
    "z = model(u).squeeze().detach().numpy()\n",
    "plt.plot(u.squeeze())\n",
    "plt.plot(y.squeeze())\n",
    "plt.plot(z)\n",
    "\n",
    "z, u_act = model(u, visible_activity=True)\n",
    "u_act = u_act.detach().numpy()\n",
    "print(u_act.shape)"
   ]
  },
  {
   "cell_type": "code",
   "execution_count": 18,
   "metadata": {},
   "outputs": [
    {
     "name": "stdout",
     "output_type": "stream",
     "text": [
      "loss: 0.256695  [   32/ 6400]\n",
      "loss: 0.131392  [ 3232/ 6400]\n",
      "loss: 0.137052  [   32/ 6400]\n",
      "loss: 0.092928  [ 3232/ 6400]\n",
      "loss: 0.029472  [   32/ 6400]\n",
      "loss: 0.006640  [ 3232/ 6400]\n",
      "loss: 0.012841  [   32/ 6400]\n",
      "loss: 0.004786  [ 3232/ 6400]\n",
      "loss: 0.020872  [   32/ 6400]\n",
      "loss: 0.010509  [ 3232/ 6400]\n",
      "loss: 0.044990  [   32/ 6400]\n",
      "loss: 0.033155  [ 3232/ 6400]\n"
     ]
    }
   ],
   "source": [
    "pause_lengths = np.arange(25, 51, 5)\n",
    "model = RNN(rank=2)\n",
    "\n",
    "for pl in pause_lengths:\n",
    "    p_data = ParametricDataset(6400, pause=pl)\n",
    "    train_dataloader = DataLoader(p_data, batch_size=32)\n",
    "    train(train_dataloader, model, device)\n",
    "    "
   ]
  },
  {
   "cell_type": "code",
   "execution_count": 19,
   "metadata": {},
   "outputs": [
    {
     "name": "stdout",
     "output_type": "stream",
     "text": [
      "torch.Size([75])\n",
      "(1, 76, 128)\n"
     ]
    },
    {
     "data": {
      "image/png": "[encoded data removed]",
      "text/plain": [
       "<Figure size 432x288 with 1 Axes>"
      ]
     },
     "metadata": {
      "needs_background": "light"
     },
     "output_type": "display_data"
    }
   ],
   "source": [
    "u, y = parametric(14, 30)\n",
    "u, y = torch.Tensor(u), torch.Tensor(y)\n",
    "print(u.shape)\n",
    "\n",
    "z = model(u).squeeze().detach().numpy()\n",
    "plt.plot(u.squeeze())\n",
    "plt.plot(y.squeeze())\n",
    "plt.plot(z)\n",
    "\n",
    "z, u_act = model(u, visible_activity=True)\n",
    "u_act = u_act.detach().numpy()\n",
    "print(u_act.shape)"
   ]
  },
  {
   "cell_type": "code",
   "execution_count": null,
   "metadata": {},
   "outputs": [],
   "source": []
  },
  {
   "cell_type": "code",
   "execution_count": null,
   "metadata": {},
   "outputs": [],
   "source": []
  }
 ],
 "metadata": {
  "kernelspec": {
   "display_name": "Python 3",
   "language": "python",
   "name": "python3"
  },
  "language_info": {
   "codemirror_mode": {
    "name": "ipython",
    "version": 3
   },
   "file_extension": ".py",
   "mimetype": "text/x-python",
   "name": "python",
   "nbconvert_exporter": "python",
   "pygments_lexer": "ipython3",
   "version": "3.8.10"
  }
 },
 "nbformat": 4,
 "nbformat_minor": 4
}
