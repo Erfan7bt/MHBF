{
 "cells": [
  {
   "cell_type": "code",
   "execution_count": 1,
   "metadata": {},
   "outputs": [
    {
     "name": "stdout",
     "output_type": "stream",
     "text": [
      "cpu\n"
     ]
    }
   ],
   "source": [
    "import numpy as np\n",
    "import matplotlib.pyplot as plt\n",
    "import torch\n",
    "import torch.nn as nn\n",
    "from torch.utils.data import Dataset\n",
    "from torch.utils.data import DataLoader\n",
    "import numpy.linalg as la\n",
    "\n",
    "from data import *\n",
    "from models import train, RNN\n",
    "\n",
    "# Below snippit taken from PyTorch quickstart tutorial\n",
    "device = (\n",
    "    \"cuda\"\n",
    "    if torch.cuda.is_available()\n",
    "    else \"mps\"\n",
    "    if torch.backends.mps.is_available()\n",
    "    else \"cpu\"\n",
    ")\n",
    "print(device)"
   ]
  },
  {
   "cell_type": "markdown",
   "metadata": {},
   "source": [
    "# Data generation functions"
   ]
  },
  {
   "cell_type": "code",
   "execution_count": 6,
   "metadata": {},
   "outputs": [
    {
     "data": {
      "text/plain": [
       "[<matplotlib.lines.Line2D at 0x7f2bcb1f1ee0>]"
      ]
     },
     "execution_count": 6,
     "metadata": {},
     "output_type": "execute_result"
    },
    {
     "data": {
      "image/png": "[encoded data removed]",
      "text/plain": [
       "<Figure size 432x288 with 1 Axes>"
      ]
     },
     "metadata": {
      "needs_background": "light"
     },
     "output_type": "display_data"
    }
   ],
   "source": [
    "u, y = single_decision(16*3.2/100)\n",
    "plt.plot(u)\n",
    "plt.plot(y)"
   ]
  },
  {
   "cell_type": "code",
   "execution_count": 7,
   "metadata": {
    "scrolled": false
   },
   "outputs": [
    {
     "data": {
      "text/plain": [
       "[<matplotlib.lines.Line2D at 0x7f2bcb15ba90>]"
      ]
     },
     "execution_count": 7,
     "metadata": {},
     "output_type": "execute_result"
    },
    {
     "data": {
      "image/png": "[encoded data removed]",
      "text/plain": [
       "<Figure size 432x288 with 1 Axes>"
      ]
     },
     "metadata": {
      "needs_background": "light"
     },
     "output_type": "display_data"
    }
   ],
   "source": [
    "u, y = parametric(10, 34)\n",
    "plt.plot(u)\n",
    "plt.plot(y)"
   ]
  },
  {
   "cell_type": "code",
   "execution_count": 8,
   "metadata": {},
   "outputs": [
    {
     "data": {
      "text/plain": [
       "[<matplotlib.lines.Line2D at 0x7f2bcb0d2850>]"
      ]
     },
     "execution_count": 8,
     "metadata": {},
     "output_type": "execute_result"
    },
    {
     "data": {
      "image/png": "[encoded data removed]",
      "text/plain": [
       "<Figure size 432x288 with 1 Axes>"
      ]
     },
     "metadata": {
      "needs_background": "light"
     },
     "output_type": "display_data"
    }
   ],
   "source": [
    "u, y = parametric(10, 34, pause=20)\n",
    "plt.plot(u)\n",
    "plt.plot(y)"
   ]
  },
  {
   "cell_type": "markdown",
   "metadata": {},
   "source": [
    "# RNN Class"
   ]
  },
  {
   "cell_type": "code",
   "execution_count": 28,
   "metadata": {},
   "outputs": [],
   "source": [
    "# class RNN(nn.Module):\n",
    "\n",
    "#     def __init__(self, network_size=128,rank=1):\n",
    "\n",
    "#         super(RNN, self).__init__()\n",
    "#         self.network_size = network_size\n",
    "#         self.rank=rank\n",
    "\n",
    "#         # Weight initialization\n",
    "#         self.m = nn.Parameter(torch.Tensor(network_size, rank))\n",
    "#         self.n = nn.Parameter(torch.Tensor(network_size, rank))\n",
    "#         self.wi = torch.Tensor(network_size)\n",
    "#         self.w = torch.Tensor(network_size, 1)\n",
    "#         self.x0= torch.Tensor(network_size, 1)\n",
    "#         self.tau = 100 #ms\n",
    "#         self.dt = 20 #ms\n",
    "\n",
    "#         # Activation function\n",
    "#         self.activation = nn.Tanh()\n",
    "\n",
    "#         with torch.no_grad():\n",
    "#             self.m.normal_(std=1)\n",
    "#             self.n.normal_(std=1)\n",
    "#             self.w.normal_(std=4)\n",
    "#             self.x0.zero_()\n",
    "#             self.wi.normal_(std=1)\n",
    "\n",
    "            \n",
    "#     def forward(self, u, visible_activity=False):\n",
    "        \n",
    "#         # print(u)\n",
    "#         if len(u.shape) == 1:\n",
    "#             u = u.unsqueeze(0)\n",
    "            \n",
    "#         input_len=u.size(1)\n",
    "#         batch_size=u.size(0)\n",
    "        \n",
    "#         x = torch.zeros(batch_size, self.network_size)\n",
    "#         z = torch.zeros(u.shape)\n",
    "\n",
    "#         r = self.activation(x)\n",
    "\n",
    "#         if visible_activity:\n",
    "#             unit_activity = torch.zeros(batch_size, input_len+1, self.network_size)\n",
    "#             unit_activity[:,0,:] = x\n",
    "\n",
    "#         for i in range(input_len):\n",
    "#             delta_x = (\n",
    "#                 -x\n",
    "#                 + r.matmul(self.n).matmul(self.m.t()) / self.network_size\n",
    "#                 + torch.outer(u[:,i], self.wi.squeeze())\n",
    "#             ) * (self.dt / self.tau)\n",
    "\n",
    "#             x = x + delta_x\n",
    "#             r = self.activation(x)\n",
    "#             if visible_activity:\n",
    "#                 unit_activity[:,i+1,:] = x\n",
    "\n",
    "#             output = torch.matmul(r, self.w) / self.network_size\n",
    "#             z[:, i] = output.squeeze()\n",
    "\n",
    "#         if visible_activity:\n",
    "#             return z, unit_activity\n",
    "#         else:\n",
    "#             return z\n",
    "        \n",
    "#     def get_mean_cov(self):\n",
    "#         \"\"\"\n",
    "#         Returns the mean and covariance matrix of internal\n",
    "#         parameters in the form [m, n, wi, w]\n",
    "#         \"\"\"\n",
    "#         m=self.m.detach().numpy()\n",
    "#         n=self.n.detach().numpy()\n",
    "#         wi=self.wi.detach().numpy()\n",
    "#         w=self.w.detach().numpy()\n",
    "        \n",
    "#         packaged_vectors = np.zeros((2*self.rank+2, self.network_size))\n",
    "        \n",
    "#         packaged_vectors[0:self.rank] = m.T\n",
    "#         packaged_vectors[self.rank:2*self.rank] = n.T\n",
    "#         packaged_vectors[2*self.rank] = wi.flatten()\n",
    "#         packaged_vectors[2*self.rank+1] = w.flatten()\n",
    "        \n",
    "#         print(packaged_vectors)\n",
    "\n",
    "#         mean = np.mean(packaged_vectors, axis=1)\n",
    "#         cov_matrix = np.cov(packaged_vectors)\n",
    "\n",
    "#         return torch.tensor(mean), torch.tensor(cov_matrix)"
   ]
  },
  {
   "cell_type": "markdown",
   "metadata": {},
   "source": [
    "# Rank-One Tests"
   ]
  },
  {
   "cell_type": "code",
   "execution_count": 2,
   "metadata": {},
   "outputs": [
    {
     "name": "stdout",
     "output_type": "stream",
     "text": [
      "loss: 1.017368  [    1/    1]\n"
     ]
    }
   ],
   "source": [
    "sd_single_data = SingleDecisionDataset(1)\n",
    "train_dataloader = DataLoader(sd_single_data, batch_size=1)\n",
    "model = RNN()\n",
    "train(train_dataloader, model, device)"
   ]
  },
  {
   "cell_type": "code",
   "execution_count": 4,
   "metadata": {},
   "outputs": [
    {
     "name": "stdout",
     "output_type": "stream",
     "text": [
      "tensor([-0.0237, -0.0160,  0.0318, -0.4353], dtype=torch.float64)\n",
      "tensor([[ 9.5534e-01, -7.4685e-04,  4.9229e-02,  3.8640e-01],\n",
      "        [-7.4685e-04,  9.8625e-01,  5.0092e-02, -3.1702e-01],\n",
      "        [ 4.9229e-02,  5.0092e-02,  1.1249e+00, -6.2130e-01],\n",
      "        [ 3.8640e-01, -3.1702e-01, -6.2130e-01,  1.6640e+01]],\n",
      "       dtype=torch.float64)\n"
     ]
    }
   ],
   "source": [
    "mean, cov = model.get_mean_cov()\n",
    "print(mean)\n",
    "print(cov)"
   ]
  },
  {
   "cell_type": "code",
   "execution_count": 5,
   "metadata": {},
   "outputs": [
    {
     "name": "stdout",
     "output_type": "stream",
     "text": [
      "loss: 1.000512  [    5/    5]\n"
     ]
    }
   ],
   "source": [
    "sd_single_data = SingleDecisionDataset(5)\n",
    "train_dataloader = DataLoader(sd_single_data, batch_size=5)\n",
    "model = RNN()\n",
    "train(train_dataloader, model, device)"
   ]
  },
  {
   "cell_type": "code",
   "execution_count": 6,
   "metadata": {},
   "outputs": [
    {
     "name": "stdout",
     "output_type": "stream",
     "text": [
      "loss: 1.000339  [   32/ 8000]\n",
      "loss: 0.435012  [ 3232/ 8000]\n",
      "loss: 0.000973  [ 6432/ 8000]\n"
     ]
    }
   ],
   "source": [
    "sd_dataset = SingleDecisionDataset(8000)\n",
    "train_dataloader = DataLoader(sd_dataset, batch_size=32)\n",
    "\n",
    "model = RNN()\n",
    "train(train_dataloader, model, device)"
   ]
  },
  {
   "cell_type": "code",
   "execution_count": 13,
   "metadata": {
    "scrolled": false
   },
   "outputs": [
    {
     "name": "stdout",
     "output_type": "stream",
     "text": [
      "torch.Size([75])\n",
      "(1, 76, 128)\n"
     ]
    },
    {
     "data": {
      "image/png": "[encoded data removed]",
      "text/plain": [
       "<Figure size 432x288 with 1 Axes>"
      ]
     },
     "metadata": {
      "needs_background": "light"
     },
     "output_type": "display_data"
    }
   ],
   "source": [
    "strength = -8\n",
    "u, y = single_decision(strength*3.2/100)\n",
    "u, y = torch.Tensor(u), torch.Tensor(y)\n",
    "print(u.shape)\n",
    "\n",
    "z = model(u).squeeze().detach().numpy()\n",
    "plt.plot(u.squeeze())\n",
    "plt.plot(y.squeeze())\n",
    "plt.plot(z)\n",
    "\n",
    "z, u_act = model(u, visible_activity=True)\n",
    "u_act = u_act.detach().numpy()\n",
    "print(u_act.shape)\n"
   ]
  },
  {
   "cell_type": "markdown",
   "metadata": {},
   "source": [
    "# Full rank single_decision"
   ]
  },
  {
   "cell_type": "code",
   "execution_count": 34,
   "metadata": {
    "scrolled": true
   },
   "outputs": [
    {
     "name": "stdout",
     "output_type": "stream",
     "text": [
      "loss: 0.899254  [   32/ 8000]\n",
      "loss: 0.000462  [ 3232/ 8000]\n",
      "loss: 0.000001  [ 6432/ 8000]\n"
     ]
    }
   ],
   "source": [
    "sd_dataset = SingleDecisionDataset(8000)\n",
    "train_dataloader = DataLoader(sd_dataset, batch_size=32)\n",
    "\n",
    "model = RNN(rank=128)\n",
    "train(train_dataloader, model, device)"
   ]
  },
  {
   "cell_type": "code",
   "execution_count": 35,
   "metadata": {},
   "outputs": [
    {
     "name": "stdout",
     "output_type": "stream",
     "text": [
      "torch.Size([75])\n",
      "(1, 76, 128)\n"
     ]
    },
    {
     "data": {
      "image/png": "[encoded data removed]",
      "text/plain": [
       "<Figure size 432x288 with 1 Axes>"
      ]
     },
     "metadata": {
      "needs_background": "light"
     },
     "output_type": "display_data"
    }
   ],
   "source": [
    "strength = -2\n",
    "u, y = single_decision(strength*3.2/100)\n",
    "u, y = torch.Tensor(u), torch.Tensor(y)\n",
    "print(u.shape)\n",
    "\n",
    "z = model(u).squeeze().detach().numpy()\n",
    "plt.plot(u.squeeze())\n",
    "plt.plot(y.squeeze())\n",
    "plt.plot(z)\n",
    "\n",
    "z, u_act = model(u, visible_activity=True)\n",
    "u_act = u_act.detach().numpy()\n",
    "print(u_act.shape)"
   ]
  },
  {
   "cell_type": "markdown",
   "metadata": {},
   "source": [
    "# Rank 2 Parametric"
   ]
  },
  {
   "cell_type": "code",
   "execution_count": 31,
   "metadata": {},
   "outputs": [
    {
     "name": "stdout",
     "output_type": "stream",
     "text": [
      "loss: 0.127391  [    1/    1]\n"
     ]
    }
   ],
   "source": [
    "p_data = ParametricDataset(1)\n",
    "train_dataloader = DataLoader(p_data, batch_size=1)\n",
    "model = RNN(rank=2)\n",
    "train(train_dataloader, model, device)\n"
   ]
  },
  {
   "cell_type": "code",
   "execution_count": 32,
   "metadata": {},
   "outputs": [
    {
     "name": "stdout",
     "output_type": "stream",
     "text": [
      "[[ 1.54896677e+00  1.18352592e+00 -1.54162943e+00 -4.91570860e-01\n",
      "  -8.15094054e-01  4.37790662e-01 -6.17817998e-01 -9.99394000e-01\n",
      "   6.66220129e-01  1.82275259e+00 -1.67838156e-01 -1.18802142e+00\n",
      "   5.64769387e-01  4.51779515e-01  6.23048425e-01 -1.15702987e+00\n",
      "   1.44465372e-01  7.60727286e-01  8.86606574e-01  1.92404926e+00\n",
      "  -1.14954722e+00  3.51166755e-01 -8.97518158e-01 -1.57491195e+00\n",
      "  -1.74406743e+00  5.51218688e-01  7.77389824e-01  1.39388704e+00\n",
      "   1.47009873e+00  1.17794156e+00 -4.84786391e-01  5.86692333e-01\n",
      "  -9.69174027e-01  4.63979959e-01  2.44935393e-01 -1.03812420e+00\n",
      "  -1.32936084e+00 -2.63734311e-01  5.22367299e-01 -5.48323154e-01\n",
      "   1.21469522e+00  1.09309661e+00  2.57091373e-01  1.87952626e+00\n",
      "   5.05914330e-01  3.75567287e-01 -6.90563083e-01 -1.79062080e+00\n",
      "   1.71628058e-01  1.07527941e-01  1.67067647e+00 -1.55324852e+00\n",
      "  -6.76046252e-01 -2.49641925e-01 -1.84784639e+00 -2.70647454e+00\n",
      "  -1.17799926e+00 -3.84819984e-01 -3.13891053e-01 -3.77638698e-01\n",
      "   2.05443692e+00  9.01287675e-01 -1.42678291e-01  1.37830293e+00\n",
      "  -7.93404758e-01  7.56905496e-01  4.73562151e-01 -2.60980874e-01\n",
      "  -1.57780921e+00 -1.00202549e+00  9.59466621e-02  1.87059772e+00\n",
      "  -1.28108346e+00  4.43743914e-01 -3.75494838e-01 -3.71949315e-01\n",
      "  -6.25026822e-01  4.10584360e-01  4.26383287e-01 -8.78325582e-01\n",
      "  -1.59465086e+00  1.01834095e+00  1.00476071e-01  7.51137912e-01\n",
      "  -6.85640395e-01  1.55880976e+00  9.08879876e-01 -1.37728083e+00\n",
      "   8.41678619e-01  2.72460990e-02  1.50870311e+00  5.25288463e-01\n",
      "   2.99379200e-01 -8.84154499e-01 -1.63219661e-01 -5.30868530e-01\n",
      "   1.14211226e+00 -4.24802825e-02 -5.59516773e-02 -2.31979080e-02\n",
      "  -1.66990614e+00 -6.21656299e-01  9.25314069e-01  1.59991115e-01\n",
      "  -8.15237314e-02  8.20403397e-01  1.26069236e+00  9.50221598e-01\n",
      "  -1.39486447e-01  1.11544095e-01  7.08115473e-02 -8.10764432e-01\n",
      "   7.78077692e-02 -3.16470742e-01 -1.90288615e+00  6.82676017e-01\n",
      "  -1.87605572e+00 -3.93747717e-01  4.77655500e-01  1.04602969e+00\n",
      "   1.08595645e+00 -2.55996561e+00 -1.78814518e+00 -1.66590035e+00\n",
      "   1.14932811e+00  1.00930917e+00  1.63824546e+00 -9.71537769e-01]\n",
      " [ 1.45471767e-02 -1.81742519e-01  1.61751103e+00 -2.60150266e+00\n",
      "  -1.35202396e+00  4.29866910e-01  2.20127892e+00  5.36785066e-01\n",
      "   1.28197753e+00  1.81185770e+00  6.47701621e-01  2.95675397e-02\n",
      "   5.39569974e-01  6.44060493e-01  8.69347513e-01  4.38489825e-01\n",
      "   7.20855176e-01 -7.29696378e-02 -2.18845233e-01 -5.37361622e-01\n",
      "   3.30590814e-01 -8.56997743e-02  1.71620905e+00 -8.46030712e-01\n",
      "   2.28425503e-01 -1.23976123e+00  8.22311342e-02 -1.67811263e+00\n",
      "   4.01777565e-01  2.33991075e+00  1.93463504e-01  3.20058465e-01\n",
      "   1.18319666e+00  3.78778875e-02  3.09240580e-01  1.14266896e+00\n",
      "   5.49974978e-01 -2.39051804e-01 -1.96232311e-02 -1.32327509e+00\n",
      "   5.33331990e-01 -1.36940384e+00  1.54504228e+00 -1.05432257e-01\n",
      "  -8.79352450e-01  4.58475649e-01  1.64215457e+00 -9.57503676e-01\n",
      "  -2.99427241e-01  8.85728657e-01  3.68148625e-01 -2.16987636e-02\n",
      "   1.81444490e+00  4.25360233e-01 -4.24389780e-01  6.33811593e-01\n",
      "  -5.00428617e-01 -1.87819111e+00 -4.34572697e-01 -4.70421940e-01\n",
      "   1.64108515e-01 -3.32712352e-01  1.71940565e+00  1.52153158e+00\n",
      "  -6.83400258e-02  1.47316241e+00  1.16989756e+00 -9.37164351e-02\n",
      "   1.83497083e+00 -1.98435330e+00  3.86256188e-01 -1.40943670e+00\n",
      "  -5.24342120e-01  1.03159451e+00 -2.15191171e-01 -2.28255439e+00\n",
      "  -4.88244474e-01  1.17754960e+00 -1.24510348e+00  9.84147787e-01\n",
      "   2.66525596e-01 -9.40836728e-01  7.56169409e-02 -1.74887180e-01\n",
      "  -1.03475857e+00  8.09435248e-01  1.44097066e+00  8.75293195e-01\n",
      "  -7.21091390e-01  9.25357103e-01  6.62114024e-02 -6.74788475e-01\n",
      "  -1.45655501e+00 -1.80345094e+00 -1.01086974e+00 -9.01888132e-01\n",
      "  -6.33419752e-01 -6.31974220e-01 -1.84847638e-01  1.44207275e+00\n",
      "  -7.97773898e-01 -2.43625909e-01  1.11044383e+00 -1.21572649e+00\n",
      "   7.53854394e-01 -1.51315838e-01 -2.14152068e-01 -1.85870230e+00\n",
      "  -5.20227432e-01 -2.00125504e+00 -5.73528886e-01 -2.13431209e-01\n",
      "  -1.82786906e+00 -1.16448212e+00 -9.38497126e-01 -1.02322376e+00\n",
      "   4.83019441e-01  4.61205274e-01 -1.62779713e+00  1.79484591e-01\n",
      "  -4.75752890e-01 -7.82605350e-01 -1.50661838e+00 -1.49804175e+00\n",
      "   1.25577056e+00  1.49555743e+00  7.89144218e-01 -1.12921154e+00]\n",
      " [-1.39180243e+00  3.20194900e-01  9.60123718e-01 -4.78074253e-01\n",
      "   1.23741090e+00  1.47489619e+00 -1.70431376e+00 -1.37420490e-01\n",
      "  -2.90128380e-01  9.32457626e-01  4.13473308e-01  5.39679170e-01\n",
      "   6.37098014e-01  6.63735390e-01  4.44355085e-02 -4.88216311e-01\n",
      "  -1.19208801e+00 -5.52200712e-02  5.96565485e-01  1.64240706e+00\n",
      "   3.93614769e-01 -1.04163933e+00 -1.85979640e+00 -1.18037522e+00\n",
      "   1.40225756e+00 -3.98002535e-01  3.13772202e-01  4.29407060e-01\n",
      "   1.03384852e+00 -1.02388847e+00 -3.47319961e-01 -7.39470243e-01\n",
      "   1.39314854e+00 -2.02626884e-01 -1.76035786e+00  1.38551974e+00\n",
      "  -7.02864468e-01  4.23852146e-01 -2.95997500e-01  8.10710907e-01\n",
      "   1.52761415e-01 -2.34287882e+00  9.55246568e-01  9.59347367e-01\n",
      "   3.25431228e-02 -1.67592689e-01  1.61919668e-01  1.68362045e+00\n",
      "   1.50217605e+00  1.03773165e+00 -2.56931037e-01 -1.62695158e+00\n",
      "  -1.01201177e-01 -1.05585146e+00 -7.93222114e-02  3.57190579e-01\n",
      "   7.98273206e-01  9.84772205e-01  2.90282011e-01  1.53014585e-01\n",
      "  -5.68167388e-01  6.80216014e-01 -4.92184669e-01  7.85668492e-01\n",
      "   5.56904078e-01 -3.31896037e-01 -1.17238736e+00  4.34667885e-01\n",
      "  -3.09016854e-01 -5.22641361e-01  3.25253218e-01 -3.56176466e-01\n",
      "  -1.80177271e-01  7.91951269e-02 -5.27499259e-01 -1.12270057e+00\n",
      "   6.27497077e-01  3.01294535e-01  2.60818273e-01  1.11458607e-01\n",
      "  -1.25349522e+00  3.44251931e-01 -4.60496455e-01  7.27556646e-01\n",
      "  -1.62011039e+00 -1.80579996e+00  1.04684794e+00  1.22430193e+00\n",
      "  -3.53798717e-01 -9.42620695e-01 -1.68332174e-01  2.45880461e+00\n",
      "   4.60139215e-01 -1.67797995e+00  1.46175492e+00 -8.16523314e-01\n",
      "   7.95305669e-01  3.85137349e-01 -4.51232716e-02  1.01958811e+00\n",
      "   1.51764846e+00 -1.04126287e+00  8.60335112e-01 -6.72299415e-02\n",
      "   7.10025966e-01 -1.17471051e+00  4.65126812e-01  5.59297025e-01\n",
      "  -4.65470761e-01 -7.73998678e-01  1.01912566e-01  1.86011577e+00\n",
      "   7.87713349e-01 -8.49358559e-01 -4.66591775e-01 -7.70637631e-01\n",
      "  -5.30154765e-01 -3.64633836e-02  4.13469851e-01  3.31192255e-01\n",
      "   1.61195472e-02 -8.55362594e-01 -1.26871383e+00 -7.85949230e-01\n",
      "   2.01567578e+00  8.33075404e-01 -8.97661030e-01  4.91463184e-01]\n",
      " [ 2.63095796e-01  1.74269021e+00  1.17968333e+00 -1.65636167e-01\n",
      "   1.43888068e+00 -7.87297785e-01 -5.90283632e-01  3.37866873e-01\n",
      "   1.36417961e+00  5.96938655e-02  8.11116219e-01 -1.73135507e+00\n",
      "  -1.22098958e+00  3.31335187e-01 -2.02350736e-01  4.10651714e-01\n",
      "  -1.22989857e+00  4.60746646e-01 -3.78370404e-01  6.09463036e-01\n",
      "   1.69469976e+00 -3.15682292e-02  3.02033424e+00 -1.27912617e+00\n",
      "   2.87094736e+00 -9.94272768e-01  4.24669772e-01 -1.61764407e+00\n",
      "   1.88371077e-01 -1.75057197e+00 -2.42711052e-01 -6.12530172e-01\n",
      "   2.57839650e-01 -2.56546688e+00 -4.55311567e-01 -1.82359055e-01\n",
      "   4.30568278e-01  2.22453141e+00  6.98012829e-01 -1.19872868e+00\n",
      "   2.31482774e-01 -1.08293355e+00  7.10701495e-02  5.34976363e-01\n",
      "   7.32112899e-02  9.70970452e-01  8.33006799e-01  9.54539329e-02\n",
      "  -8.47526908e-01 -1.06775224e-01 -7.40027666e-01 -7.48736620e-01\n",
      "   8.13475728e-01  4.77984577e-01 -6.18823290e-01  7.96535850e-01\n",
      "   1.03143442e+00  4.56434578e-01  1.82995343e+00  5.48186719e-01\n",
      "   1.09978974e+00  3.62481236e-01  1.56168818e+00  1.33186162e-01\n",
      "  -8.12288046e-01  2.20593238e+00  9.42435265e-01  1.54980505e+00\n",
      "  -1.08285427e+00  1.33400655e+00 -1.68129981e-01 -1.78397465e+00\n",
      "   1.67562902e+00  1.57053220e+00 -1.38850546e+00  1.00511408e+00\n",
      "  -3.11181158e-01  5.75162709e-01 -9.51959789e-01  1.09369755e+00\n",
      "  -1.80800915e+00  4.21250224e-01 -1.65821826e+00  5.83660126e-01\n",
      "  -5.18011749e-01  1.39439368e+00  2.66702533e-01 -5.61306953e-01\n",
      "   1.57570932e-02  5.48824370e-01  9.33949292e-01  1.18611884e+00\n",
      "  -3.70269865e-01 -6.17970109e-01 -9.60753977e-01 -2.71966279e-01\n",
      "   1.47721827e+00 -1.63838875e+00  8.94188941e-01 -1.33126545e+00\n",
      "  -8.59772786e-02 -3.27894539e-01  5.34962773e-01 -1.50493190e-01\n",
      "  -1.12017408e-01 -6.38668776e-01 -1.93266600e-01 -1.62993717e+00\n",
      "   2.80704916e-01 -6.56690478e-01 -1.97927034e+00 -1.27961123e+00\n",
      "  -9.52108484e-03  1.73021600e-01  2.35327601e+00 -1.79025471e-01\n",
      "   1.54146552e+00  1.39418983e+00 -4.07823265e-01  8.38847399e-01\n",
      "  -7.07202792e-01 -1.06893396e+00  3.76280304e-03  1.05724525e+00\n",
      "   3.86607915e-01  8.85556698e-01  5.07941246e-01  4.80850004e-02]\n",
      " [-8.36341619e-01  1.74163505e-01 -7.55320668e-01 -2.14996457e+00\n",
      "  -1.04424834e+00 -4.29080546e-01 -8.07193279e-01 -9.08205330e-01\n",
      "   1.08623020e-01  1.40537575e-01 -2.42299676e+00  1.33699214e+00\n",
      "  -9.47525024e-01  2.77095413e+00 -6.93826616e-01  1.29431039e-01\n",
      "  -1.95463687e-01 -2.03868794e+00  4.12001789e-01 -7.19762206e-01\n",
      "   1.21089375e+00 -4.30331022e-01 -7.65921414e-01 -6.99250937e-01\n",
      "   5.88546515e-01  1.23528659e+00 -2.36667895e+00 -2.11519644e-01\n",
      "  -7.52039433e-01 -1.17150915e+00  1.16891289e+00  1.35144067e+00\n",
      "   1.60737586e+00 -6.38875008e-01  2.35610291e-01 -3.37170810e-01\n",
      "  -7.95665562e-01  1.99396718e+00 -1.41602719e+00 -3.03123236e-01\n",
      "   2.87379354e-01 -3.39786649e-01  2.80545056e-01  9.42974351e-03\n",
      "   3.69155973e-01  3.56407791e-01 -1.68744653e-01 -1.68419290e+00\n",
      "   6.20599613e-02  8.56549144e-01  7.92438030e-01  4.82248992e-01\n",
      "   3.38692933e-01 -2.09990218e-01 -4.79209095e-01  9.48095500e-01\n",
      "   1.47175282e-01  3.23220223e-01 -1.07584536e+00  5.94956279e-01\n",
      "  -4.28461075e-01 -1.12226343e+00  2.18474627e-01 -2.00423908e+00\n",
      "   2.42595816e+00  7.08304763e-01 -1.08384073e+00 -1.17599808e-01\n",
      "   1.75418437e-01 -6.94570959e-01  1.10300772e-01 -1.32781863e-02\n",
      "  -1.88049936e+00 -8.95431042e-01  6.36679158e-02 -6.33729577e-01\n",
      "   5.69542229e-01 -5.89018881e-01 -3.58657360e-01 -4.08376545e-01\n",
      "  -1.29711509e+00  4.77114990e-02 -9.91543770e-01 -5.36782444e-01\n",
      "  -7.67595410e-01 -1.64424765e+00 -3.78666967e-01 -2.75306284e-01\n",
      "  -1.11072016e+00  1.21561373e-02  3.58643949e-01  1.20714736e+00\n",
      "  -5.06837629e-02 -8.38538766e-01  2.89736651e-02  1.76574692e-01\n",
      "   7.48703718e-01  1.12335396e+00  3.70262861e-01  4.03465271e-01\n",
      "  -3.07662201e+00 -5.13617814e-01  3.24228108e-01 -1.70585310e+00\n",
      "   1.63545823e+00  2.52072841e-01 -1.64777350e+00 -1.86491311e-01\n",
      "   1.54700637e+00  1.27177286e+00 -8.52512598e-01  1.70690346e+00\n",
      "  -1.34396803e+00 -2.57861614e-01 -2.85201311e-01  5.16516089e-01\n",
      "   5.33462465e-01 -1.42695099e-01  1.12863231e+00 -3.69155630e-02\n",
      "  -6.85972631e-01  1.26210868e+00  6.09782577e-01  8.19455802e-01\n",
      "   7.18631782e-03 -9.75291669e-01 -4.52963598e-02 -1.61455095e-01]\n",
      " [-2.56241351e-01  2.67128921e+00  8.13565254e+00  5.16107023e-01\n",
      "  -4.52680063e+00  2.06338596e+00 -1.88954735e+00  1.79574180e+00\n",
      "  -1.05678010e+00  5.21198416e+00 -3.60724807e+00  3.55053020e+00\n",
      "  -1.77131748e+00  6.19263220e+00  1.66513138e-02  9.77082312e-01\n",
      "  -7.51554632e+00 -1.03114331e+00 -9.75546479e-01  5.84169245e+00\n",
      "  -8.62984359e-01 -6.46802235e+00  5.96690083e+00 -2.13074756e+00\n",
      "   2.09901905e+00  6.70344114e+00  1.50259778e-01  9.22999668e+00\n",
      "  -2.53113580e+00  4.66946411e+00  4.05270576e+00  1.84455514e+00\n",
      "  -1.43822491e+00 -1.84075618e+00 -3.31873202e+00 -5.41045308e-01\n",
      "   3.08585668e+00  1.98800373e+00 -1.52254462e+00 -5.81274557e+00\n",
      "  -5.65789557e+00  6.56347179e+00  3.34175777e+00 -1.21304309e+00\n",
      "  -4.00245333e+00  1.27888644e+00 -3.54116607e+00  2.09347701e+00\n",
      "  -9.39305723e-01  5.66857147e+00  5.93903303e+00 -5.03588247e+00\n",
      "  -8.13390166e-02 -3.04307127e+00  1.57362902e+00 -3.95781636e+00\n",
      "   1.96411920e+00 -6.75061131e+00 -4.29706478e+00 -4.05392504e+00\n",
      "   2.33739567e+00 -2.14611936e+00 -1.06101191e+00  9.42929208e-01\n",
      "   2.95017028e+00 -1.22828569e+01  7.87671232e+00 -6.94545603e+00\n",
      "  -4.31086683e+00 -2.27096342e-02 -3.29493666e+00 -3.60903454e+00\n",
      "  -1.48140168e+00 -4.36341238e+00 -2.26493835e+00  6.60001945e+00\n",
      "   4.04765892e+00  1.31429970e+00  5.30003595e+00 -2.96348155e-01\n",
      "  -2.69328165e+00  7.89222956e-01 -8.35551357e+00  9.80183363e-01\n",
      "   4.78754997e+00  2.32726288e+00  7.60191560e-01 -1.57332325e+00\n",
      "  -3.20894885e+00  3.34949303e+00  1.59622520e-01  1.78622448e+00\n",
      "   1.72704792e+00 -1.86143970e+00  3.67438531e+00  5.08619308e+00\n",
      "  -8.33179653e-01  2.64293838e+00  1.97983122e+00  1.65099370e+00\n",
      "   1.55353516e-01 -6.20977259e+00  4.73551035e+00  5.71163845e+00\n",
      "   4.06411934e+00  2.37551880e+00 -1.76636207e+00  2.60814643e+00\n",
      "  -7.21179104e+00 -2.99320197e+00  1.86197019e+00 -4.72843200e-01\n",
      "  -7.09264874e-01  6.21497250e+00  5.13111472e-01 -8.05904984e-01\n",
      "  -4.29561186e+00 -1.69904041e+00  8.07071447e-01 -3.97711515e+00\n",
      "   3.75314641e+00 -1.57897663e+00  2.33184147e+00  2.99304652e+00\n",
      "   1.05479183e+01  4.16900730e+00  1.54862773e+00 -7.03607857e-01]]\n"
     ]
    }
   ],
   "source": [
    "mean, cov = model.get_mean_cov()"
   ]
  },
  {
   "cell_type": "code",
   "execution_count": 13,
   "metadata": {
    "scrolled": true
   },
   "outputs": [
    {
     "name": "stdout",
     "output_type": "stream",
     "text": [
      "loss: 0.379586  [    5/    5]\n"
     ]
    }
   ],
   "source": [
    "p_data = ParametricDataset(5)\n",
    "train_dataloader = DataLoader(p_data, batch_size=5)\n",
    "model = RNN(rank=2)\n",
    "train(train_dataloader, model, device)"
   ]
  },
  {
   "cell_type": "markdown",
   "metadata": {},
   "source": [
    "### Rank 2 network overfits on 1 sample parametric dataset (GOOD!)"
   ]
  },
  {
   "cell_type": "code",
   "execution_count": 7,
   "metadata": {
    "scrolled": true
   },
   "outputs": [
    {
     "name": "stdout",
     "output_type": "stream",
     "text": [
      "loss: 0.000000  [    1/    1]\n",
      "loss: 0.000000  [    1/    1]\n",
      "loss: 0.000000  [    1/    1]\n",
      "loss: 0.000000  [    1/    1]\n",
      "loss: 0.000000  [    1/    1]\n",
      "loss: 0.000000  [    1/    1]\n",
      "loss: 0.000000  [    1/    1]\n",
      "loss: 0.000000  [    1/    1]\n",
      "loss: 0.000000  [    1/    1]\n",
      "loss: 0.000000  [    1/    1]\n",
      "loss: 0.000000  [    1/    1]\n",
      "loss: 0.000000  [    1/    1]\n",
      "loss: 0.000000  [    1/    1]\n",
      "loss: 0.000000  [    1/    1]\n",
      "loss: 0.000000  [    1/    1]\n",
      "loss: 0.000000  [    1/    1]\n",
      "loss: 0.000000  [    1/    1]\n",
      "loss: 0.000000  [    1/    1]\n",
      "loss: 0.000000  [    1/    1]\n",
      "loss: 0.000000  [    1/    1]\n",
      "loss: 0.000000  [    1/    1]\n",
      "loss: 0.000000  [    1/    1]\n",
      "loss: 0.000000  [    1/    1]\n",
      "loss: 0.000000  [    1/    1]\n",
      "loss: 0.000000  [    1/    1]\n",
      "loss: 0.000000  [    1/    1]\n",
      "loss: 0.000000  [    1/    1]\n",
      "loss: 0.000000  [    1/    1]\n",
      "loss: 0.000000  [    1/    1]\n",
      "loss: 0.000000  [    1/    1]\n",
      "loss: 0.000000  [    1/    1]\n",
      "loss: 0.000000  [    1/    1]\n",
      "loss: 0.000000  [    1/    1]\n",
      "loss: 0.000000  [    1/    1]\n",
      "loss: 0.000000  [    1/    1]\n",
      "loss: 0.000000  [    1/    1]\n",
      "loss: 0.000000  [    1/    1]\n",
      "loss: 0.000000  [    1/    1]\n",
      "loss: 0.000000  [    1/    1]\n",
      "loss: 0.000000  [    1/    1]\n",
      "loss: 0.000000  [    1/    1]\n",
      "loss: 0.000000  [    1/    1]\n",
      "loss: 0.000000  [    1/    1]\n",
      "loss: 0.000000  [    1/    1]\n",
      "loss: 0.000000  [    1/    1]\n",
      "loss: 0.000000  [    1/    1]\n",
      "loss: 0.000000  [    1/    1]\n",
      "loss: 0.000000  [    1/    1]\n",
      "loss: 0.000000  [    1/    1]\n",
      "loss: 0.000000  [    1/    1]\n",
      "loss: 0.000000  [    1/    1]\n",
      "loss: 0.000000  [    1/    1]\n",
      "loss: 0.000000  [    1/    1]\n",
      "loss: 0.000000  [    1/    1]\n",
      "loss: 0.000000  [    1/    1]\n",
      "loss: 0.000000  [    1/    1]\n",
      "loss: 0.000000  [    1/    1]\n",
      "loss: 0.000000  [    1/    1]\n",
      "loss: 0.000000  [    1/    1]\n",
      "loss: 0.000000  [    1/    1]\n",
      "loss: 0.000000  [    1/    1]\n",
      "loss: 0.000000  [    1/    1]\n",
      "loss: 0.000000  [    1/    1]\n",
      "loss: 0.000000  [    1/    1]\n",
      "loss: 0.000000  [    1/    1]\n",
      "loss: 0.000000  [    1/    1]\n",
      "loss: 0.000000  [    1/    1]\n",
      "loss: 0.000000  [    1/    1]\n",
      "loss: 0.000000  [    1/    1]\n",
      "loss: 0.000000  [    1/    1]\n",
      "loss: 0.000000  [    1/    1]\n",
      "loss: 0.000000  [    1/    1]\n",
      "loss: 0.000000  [    1/    1]\n",
      "loss: 0.000000  [    1/    1]\n",
      "loss: 0.000000  [    1/    1]\n",
      "loss: 0.000000  [    1/    1]\n",
      "loss: 0.000000  [    1/    1]\n",
      "loss: 0.000000  [    1/    1]\n",
      "loss: 0.000000  [    1/    1]\n",
      "loss: 0.000000  [    1/    1]\n",
      "loss: 0.000000  [    1/    1]\n",
      "loss: 0.000000  [    1/    1]\n",
      "loss: 0.000000  [    1/    1]\n",
      "loss: 0.000000  [    1/    1]\n",
      "loss: 0.000000  [    1/    1]\n",
      "loss: 0.000000  [    1/    1]\n",
      "loss: 0.000000  [    1/    1]\n",
      "loss: 0.000000  [    1/    1]\n",
      "loss: 0.000000  [    1/    1]\n",
      "loss: 0.000000  [    1/    1]\n",
      "loss: 0.000000  [    1/    1]\n",
      "loss: 0.000000  [    1/    1]\n",
      "loss: 0.000000  [    1/    1]\n",
      "loss: 0.000000  [    1/    1]\n",
      "loss: 0.000000  [    1/    1]\n",
      "loss: 0.000000  [    1/    1]\n",
      "loss: 0.000000  [    1/    1]\n",
      "loss: 0.000000  [    1/    1]\n",
      "loss: 0.000000  [    1/    1]\n",
      "loss: 0.000000  [    1/    1]\n",
      "loss: 0.000000  [    1/    1]\n",
      "loss: 0.000000  [    1/    1]\n",
      "loss: 0.000000  [    1/    1]\n",
      "loss: 0.000000  [    1/    1]\n",
      "loss: 0.000000  [    1/    1]\n",
      "loss: 0.000000  [    1/    1]\n",
      "loss: 0.000000  [    1/    1]\n",
      "loss: 0.000000  [    1/    1]\n",
      "loss: 0.000000  [    1/    1]\n",
      "loss: 0.000000  [    1/    1]\n",
      "loss: 0.000000  [    1/    1]\n",
      "loss: 0.000000  [    1/    1]\n",
      "loss: 0.000000  [    1/    1]\n",
      "loss: 0.000000  [    1/    1]\n",
      "loss: 0.000000  [    1/    1]\n",
      "loss: 0.000000  [    1/    1]\n",
      "loss: 0.000000  [    1/    1]\n",
      "loss: 0.000000  [    1/    1]\n",
      "loss: 0.000000  [    1/    1]\n",
      "loss: 0.000000  [    1/    1]\n",
      "loss: 0.000000  [    1/    1]\n",
      "loss: 0.000000  [    1/    1]\n",
      "loss: 0.000000  [    1/    1]\n",
      "loss: 0.000000  [    1/    1]\n",
      "loss: 0.000000  [    1/    1]\n",
      "loss: 0.000000  [    1/    1]\n",
      "loss: 0.000000  [    1/    1]\n",
      "loss: 0.000000  [    1/    1]\n",
      "loss: 0.000000  [    1/    1]\n",
      "loss: 0.000000  [    1/    1]\n",
      "loss: 0.000000  [    1/    1]\n",
      "loss: 0.000000  [    1/    1]\n",
      "loss: 0.000000  [    1/    1]\n",
      "loss: 0.000000  [    1/    1]\n",
      "loss: 0.000000  [    1/    1]\n",
      "loss: 0.000000  [    1/    1]\n",
      "loss: 0.000000  [    1/    1]\n",
      "loss: 0.000000  [    1/    1]\n",
      "loss: 0.000000  [    1/    1]\n",
      "loss: 0.000000  [    1/    1]\n",
      "loss: 0.000000  [    1/    1]\n",
      "loss: 0.000000  [    1/    1]\n",
      "loss: 0.000000  [    1/    1]\n",
      "loss: 0.000000  [    1/    1]\n",
      "loss: 0.000000  [    1/    1]\n",
      "loss: 0.000000  [    1/    1]\n",
      "loss: 0.000000  [    1/    1]\n",
      "loss: 0.000000  [    1/    1]\n",
      "loss: 0.000000  [    1/    1]\n",
      "loss: 0.000000  [    1/    1]\n",
      "loss: 0.000000  [    1/    1]\n",
      "loss: 0.000000  [    1/    1]\n",
      "loss: 0.000000  [    1/    1]\n",
      "loss: 0.000000  [    1/    1]\n",
      "loss: 0.000000  [    1/    1]\n",
      "loss: 0.000000  [    1/    1]\n",
      "loss: 0.000000  [    1/    1]\n",
      "loss: 0.000000  [    1/    1]\n",
      "loss: 0.000000  [    1/    1]\n",
      "loss: 0.000000  [    1/    1]\n",
      "loss: 0.000000  [    1/    1]\n",
      "loss: 0.000000  [    1/    1]\n",
      "loss: 0.000000  [    1/    1]\n",
      "loss: 0.000000  [    1/    1]\n",
      "loss: 0.000000  [    1/    1]\n",
      "loss: 0.000000  [    1/    1]\n",
      "loss: 0.000000  [    1/    1]\n",
      "loss: 0.000000  [    1/    1]\n",
      "loss: 0.000000  [    1/    1]\n",
      "loss: 0.000000  [    1/    1]\n",
      "loss: 0.000000  [    1/    1]\n",
      "loss: 0.000000  [    1/    1]\n",
      "loss: 0.000000  [    1/    1]\n",
      "loss: 0.000000  [    1/    1]\n",
      "loss: 0.000000  [    1/    1]\n",
      "loss: 0.000000  [    1/    1]\n",
      "loss: 0.000000  [    1/    1]\n",
      "loss: 0.000000  [    1/    1]\n",
      "loss: 0.000000  [    1/    1]\n",
      "loss: 0.000000  [    1/    1]\n",
      "loss: 0.000000  [    1/    1]\n",
      "loss: 0.000000  [    1/    1]\n",
      "loss: 0.000000  [    1/    1]\n",
      "loss: 0.000000  [    1/    1]\n",
      "loss: 0.000000  [    1/    1]\n",
      "loss: 0.000000  [    1/    1]\n",
      "loss: 0.000000  [    1/    1]\n",
      "loss: 0.000000  [    1/    1]\n",
      "loss: 0.000000  [    1/    1]\n",
      "loss: 0.000000  [    1/    1]\n",
      "loss: 0.000000  [    1/    1]\n",
      "loss: 0.000000  [    1/    1]\n",
      "loss: 0.000000  [    1/    1]\n",
      "loss: 0.000000  [    1/    1]\n",
      "loss: 0.000000  [    1/    1]\n",
      "loss: 0.000000  [    1/    1]\n",
      "loss: 0.000000  [    1/    1]\n",
      "loss: 0.000000  [    1/    1]\n",
      "loss: 0.000000  [    1/    1]\n",
      "loss: 0.000000  [    1/    1]\n"
     ]
    }
   ],
   "source": [
    "p_data = ParametricDataset(1)\n",
    "train_dataloader = DataLoader(p_data, batch_size=1)\n",
    "model = RNN(rank=2)\n",
    "\n",
    "for _ in range(200):\n",
    "    train(train_dataloader, model, device, T=5)"
   ]
  },
  {
   "cell_type": "code",
   "execution_count": 11,
   "metadata": {
    "scrolled": true
   },
   "outputs": [
    {
     "name": "stdout",
     "output_type": "stream",
     "text": [
      "loss: 0.295282  [   32/32000]\n",
      "loss: 0.106136  [ 3232/32000]\n",
      "loss: 0.090801  [ 6432/32000]\n",
      "loss: 0.137575  [ 9632/32000]\n",
      "loss: 0.107656  [12832/32000]\n",
      "loss: 0.114125  [16032/32000]\n",
      "loss: 0.137373  [19232/32000]\n",
      "loss: 0.098361  [22432/32000]\n",
      "loss: 0.119138  [25632/32000]\n",
      "loss: 0.099000  [28832/32000]\n"
     ]
    }
   ],
   "source": [
    "p_data = ParametricDataset(32000)\n",
    "train_dataloader = DataLoader(p_data, batch_size=32)\n",
    "model = RNN(rank=2)\n",
    "train(train_dataloader, model, device, T=5, lr=5e-3)"
   ]
  },
  {
   "cell_type": "code",
   "execution_count": 12,
   "metadata": {},
   "outputs": [
    {
     "name": "stdout",
     "output_type": "stream",
     "text": [
      "torch.Size([75])\n",
      "(1, 76, 128)\n"
     ]
    },
    {
     "data": {
      "image/png": "[encoded data removed]",
      "text/plain": [
       "<Figure size 432x288 with 1 Axes>"
      ]
     },
     "metadata": {
      "needs_background": "light"
     },
     "output_type": "display_data"
    }
   ],
   "source": [
    "u, y = parametric((14, 30))\n",
    "u, y = torch.Tensor(u), torch.Tensor(y)\n",
    "print(u.shape)\n",
    "\n",
    "z = model(u).squeeze().detach().numpy()\n",
    "plt.plot(u.squeeze())\n",
    "plt.plot(y.squeeze())\n",
    "plt.plot(z)\n",
    "\n",
    "z, u_act = model(u, visible_activity=True)\n",
    "u_act = u_act.detach().numpy()\n",
    "print(u_act.shape)"
   ]
  },
  {
   "cell_type": "code",
   "execution_count": 13,
   "metadata": {},
   "outputs": [
    {
     "name": "stdout",
     "output_type": "stream",
     "text": [
      "loss: 0.215331  [   32/ 6400]\n",
      "loss: 0.133979  [ 3232/ 6400]\n",
      "loss: 0.118980  [   32/ 6400]\n",
      "loss: 0.071791  [ 3232/ 6400]\n",
      "loss: 0.012556  [   32/ 6400]\n",
      "loss: 0.005645  [ 3232/ 6400]\n",
      "loss: 0.007833  [   32/ 6400]\n",
      "loss: 0.003295  [ 3232/ 6400]\n",
      "loss: 0.017027  [   32/ 6400]\n",
      "loss: 0.008438  [ 3232/ 6400]\n",
      "loss: 0.029729  [   32/ 6400]\n",
      "loss: 0.042594  [ 3232/ 6400]\n"
     ]
    }
   ],
   "source": [
    "pause_lengths = np.arange(25, 51, 5)\n",
    "model = RNN(rank=2)\n",
    "\n",
    "for pl in pause_lengths:\n",
    "    p_data = ParametricDataset(6400, pause=pl)\n",
    "    train_dataloader = DataLoader(p_data, batch_size=32)\n",
    "    train(train_dataloader, model, device)\n",
    "    "
   ]
  },
  {
   "cell_type": "code",
   "execution_count": 16,
   "metadata": {},
   "outputs": [
    {
     "name": "stdout",
     "output_type": "stream",
     "text": [
      "torch.Size([75])\n",
      "(1, 76, 128)\n"
     ]
    },
    {
     "data": {
      "image/png": "[encoded data removed]",
      "text/plain": [
       "<Figure size 432x288 with 1 Axes>"
      ]
     },
     "metadata": {
      "needs_background": "light"
     },
     "output_type": "display_data"
    }
   ],
   "source": [
    "u, y = parametric((14, 30))\n",
    "u, y = torch.Tensor(u), torch.Tensor(y)\n",
    "print(u.shape)\n",
    "\n",
    "z = model(u).squeeze().detach().numpy()\n",
    "plt.plot(u.squeeze())\n",
    "plt.plot(y.squeeze())\n",
    "plt.plot(z)\n",
    "\n",
    "z, u_act = model(u, visible_activity=True)\n",
    "u_act = u_act.detach().numpy()\n",
    "print(u_act.shape)"
   ]
  },
  {
   "cell_type": "code",
   "execution_count": null,
   "metadata": {},
   "outputs": [],
   "source": []
  },
  {
   "cell_type": "code",
   "execution_count": null,
   "metadata": {},
   "outputs": [],
   "source": []
  },
  {
   "cell_type": "code",
   "execution_count": null,
   "metadata": {},
   "outputs": [],
   "source": []
  },
  {
   "cell_type": "code",
   "execution_count": null,
   "metadata": {},
   "outputs": [],
   "source": []
  }
 ],
 "metadata": {
  "kernelspec": {
   "display_name": "Python 3",
   "language": "python",
   "name": "python3"
  },
  "language_info": {
   "codemirror_mode": {
    "name": "ipython",
    "version": 3
   },
   "file_extension": ".py",
   "mimetype": "text/x-python",
   "name": "python",
   "nbconvert_exporter": "python",
   "pygments_lexer": "ipython3",
   "version": "3.8.10"
  }
 },
 "nbformat": 4,
 "nbformat_minor": 4
}
