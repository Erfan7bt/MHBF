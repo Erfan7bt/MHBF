{
 "cells": [
  {
   "cell_type": "code",
   "execution_count": 1,
   "metadata": {},
   "outputs": [
    {
     "name": "stdout",
     "output_type": "stream",
     "text": [
      "cpu\n"
     ]
    }
   ],
   "source": [
    "import numpy as np\n",
    "import matplotlib.pyplot as plt\n",
    "import torch\n",
    "import torch.nn as nn\n",
    "from torch.utils.data import Dataset\n",
    "from torch.utils.data import DataLoader\n",
    "import numpy.linalg as la\n",
    "\n",
    "from data import *\n",
    "from models import train\n",
    "\n",
    "# Below snippit taken from PyTorch quickstart tutorial\n",
    "device = (\n",
    "    \"cuda\"\n",
    "    if torch.cuda.is_available()\n",
    "    else \"mps\"\n",
    "    if torch.backends.mps.is_available()\n",
    "    else \"cpu\"\n",
    ")\n",
    "print(device)"
   ]
  },
  {
   "cell_type": "markdown",
   "metadata": {},
   "source": [
    "# Data generation functions"
   ]
  },
  {
   "cell_type": "code",
   "execution_count": 2,
   "metadata": {},
   "outputs": [
    {
     "data": {
      "text/plain": [
       "[<matplotlib.lines.Line2D at 0x7f57d8494b80>]"
      ]
     },
     "execution_count": 2,
     "metadata": {},
     "output_type": "execute_result"
    },
    {
     "data": {
      "image/png": "[encoded data removed]",
      "text/plain": [
       "<Figure size 432x288 with 1 Axes>"
      ]
     },
     "metadata": {
      "needs_background": "light"
     },
     "output_type": "display_data"
    }
   ],
   "source": [
    "u, y = single_decision(16*3.2/100)\n",
    "plt.plot(u)\n",
    "plt.plot(y)"
   ]
  },
  {
   "cell_type": "code",
   "execution_count": 3,
   "metadata": {
    "scrolled": false
   },
   "outputs": [
    {
     "data": {
      "text/plain": [
       "[<matplotlib.lines.Line2D at 0x7f5883eac340>]"
      ]
     },
     "execution_count": 3,
     "metadata": {},
     "output_type": "execute_result"
    },
    {
     "data": {
      "image/png": "[encoded data removed]",
      "text/plain": [
       "<Figure size 432x288 with 1 Axes>"
      ]
     },
     "metadata": {
      "needs_background": "light"
     },
     "output_type": "display_data"
    }
   ],
   "source": [
    "u, y = parametric(10, 34)\n",
    "plt.plot(u)\n",
    "plt.plot(y)"
   ]
  },
  {
   "cell_type": "code",
   "execution_count": 33,
   "metadata": {},
   "outputs": [
    {
     "data": {
      "text/plain": [
       "[<matplotlib.lines.Line2D at 0x7f57d4b22760>]"
      ]
     },
     "execution_count": 33,
     "metadata": {},
     "output_type": "execute_result"
    },
    {
     "data": {
      "image/png": "[encoded data removed]",
      "text/plain": [
       "<Figure size 432x288 with 1 Axes>"
      ]
     },
     "metadata": {
      "needs_background": "light"
     },
     "output_type": "display_data"
    }
   ],
   "source": [
    "u, y = parametric(10, 34, pause=20)\n",
    "plt.plot(u)\n",
    "plt.plot(y)"
   ]
  },
  {
   "cell_type": "markdown",
   "metadata": {},
   "source": [
    "# RNN Class"
   ]
  },
  {
   "cell_type": "code",
   "execution_count": 4,
   "metadata": {},
   "outputs": [],
   "source": [
    "class RNN(nn.Module):\n",
    "\n",
    "    def __init__(self, network_size=128,rank=1):\n",
    "\n",
    "        super(RNN, self).__init__()\n",
    "        self.network_size = network_size\n",
    "        self.rank=rank\n",
    "\n",
    "        # Weight initialization\n",
    "        #unit rank rnn weight matrix J=mn^T/n\n",
    "#         if rank==1:\n",
    "        self.m = nn.Parameter(torch.Tensor(network_size, rank))\n",
    "        self.n = nn.Parameter(torch.Tensor(network_size, rank))\n",
    "        self.wi = torch.Tensor(network_size)\n",
    "        self.w = torch.Tensor(network_size, 1)\n",
    "        self.x0= torch.Tensor(network_size, 1)\n",
    "#         else:\n",
    "#             self.m = nn.Parameter(torch.Tensor(self.network_size,self.rank))\n",
    "#             self.n = nn.Parameter(torch.Tensor(self.network_size,self.rank))\n",
    "#             self.wi = torch.Tensor(self.network_size,1)\n",
    "#             self.w = torch.Tensor(self.network_size,1)\n",
    "#             self.x0= torch.Tensor(self.network_size,1)\n",
    "\n",
    "                # Parameters for weight update formula\n",
    "        self.tau = 100 #ms\n",
    "        self.dt = 20 #ms\n",
    "\n",
    "        # Activation function\n",
    "        self.activation = nn.Tanh()\n",
    "\n",
    "        with torch.no_grad():\n",
    "            self.m.normal_(std=1)\n",
    "            self.n.normal_(std=1)\n",
    "            self.w.normal_(std=4)\n",
    "            self.x0.zero_()\n",
    "            self.wi.normal_(std=1)\n",
    "\n",
    "    def forward(self, u, visible_activity=False):\n",
    "        \n",
    "        # print(u)\n",
    "        if len(u.shape) == 1:\n",
    "            u = u.unsqueeze(0)\n",
    "            \n",
    "            \n",
    "            \n",
    "        input_len=u.size(1)\n",
    "        batch_size=u.size(0)\n",
    "        \n",
    "        x = torch.zeros(batch_size, self.network_size)\n",
    "        z = torch.zeros(u.shape)\n",
    "\n",
    "        r = self.activation(x)\n",
    "\n",
    "        if visible_activity:\n",
    "            unit_activity = torch.zeros(batch_size, input_len+1, self.network_size)\n",
    "            unit_activity[:,0,:] = x\n",
    "\n",
    "        for i in range(input_len):\n",
    "            delta_x = (\n",
    "                -x\n",
    "                + r.matmul(self.n).matmul(self.m.t()) / self.network_size\n",
    "                + torch.outer(u[:,i], self.wi.squeeze())\n",
    "            ) * (self.dt / self.tau)\n",
    "\n",
    "            x = x + delta_x\n",
    "            r = self.activation(x)\n",
    "            if visible_activity:\n",
    "                unit_activity[:,i+1,:] = x\n",
    "\n",
    "            output = torch.matmul(r, self.w) / self.network_size\n",
    "            z[:, i] = output.squeeze()\n",
    "\n",
    "        if visible_activity:\n",
    "            return z, unit_activity\n",
    "        else:\n",
    "            return z"
   ]
  },
  {
   "cell_type": "markdown",
   "metadata": {},
   "source": [
    "# Rank-One Tests"
   ]
  },
  {
   "cell_type": "code",
   "execution_count": 5,
   "metadata": {},
   "outputs": [
    {
     "name": "stdout",
     "output_type": "stream",
     "text": [
      "loss: 1.009936  [    1/    1]\n"
     ]
    }
   ],
   "source": [
    "sd_single_data = SingleDecisionDataset(1)\n",
    "train_dataloader = DataLoader(sd_single_data, batch_size=1)\n",
    "model = RNN()\n",
    "train(train_dataloader, model, device)"
   ]
  },
  {
   "cell_type": "code",
   "execution_count": 6,
   "metadata": {},
   "outputs": [
    {
     "name": "stdout",
     "output_type": "stream",
     "text": [
      "loss: 0.992655  [    5/    5]\n"
     ]
    }
   ],
   "source": [
    "sd_single_data = SingleDecisionDataset(5)\n",
    "train_dataloader = DataLoader(sd_single_data, batch_size=5)\n",
    "model = RNN()\n",
    "train(train_dataloader, model, device)"
   ]
  },
  {
   "cell_type": "code",
   "execution_count": 7,
   "metadata": {},
   "outputs": [
    {
     "name": "stdout",
     "output_type": "stream",
     "text": [
      "loss: 1.001041  [   32/ 8000]\n",
      "loss: 0.716149  [ 3232/ 8000]\n",
      "loss: 0.000928  [ 6432/ 8000]\n"
     ]
    }
   ],
   "source": [
    "sd_dataset = SingleDecisionDataset(8000)\n",
    "train_dataloader = DataLoader(sd_dataset, batch_size=32)\n",
    "\n",
    "model = RNN()\n",
    "train(train_dataloader, model, device)"
   ]
  },
  {
   "cell_type": "code",
   "execution_count": 8,
   "metadata": {
    "scrolled": false
   },
   "outputs": [
    {
     "name": "stdout",
     "output_type": "stream",
     "text": [
      "torch.Size([75])\n",
      "(1, 76, 128)\n"
     ]
    },
    {
     "data": {
      "image/png": "[encoded data removed]",
      "text/plain": [
       "<Figure size 432x288 with 1 Axes>"
      ]
     },
     "metadata": {
      "needs_background": "light"
     },
     "output_type": "display_data"
    }
   ],
   "source": [
    "strength = -8\n",
    "u, y = single_decision(strength*3.2/100)\n",
    "u, y = torch.Tensor(u), torch.Tensor(y)\n",
    "print(u.shape)\n",
    "\n",
    "z = model(u).squeeze().detach().numpy()\n",
    "plt.plot(u.squeeze())\n",
    "plt.plot(y.squeeze())\n",
    "plt.plot(z)\n",
    "\n",
    "z, u_act = model(u, visible_activity=True)\n",
    "u_act = u_act.detach().numpy()\n",
    "print(u_act.shape)\n"
   ]
  },
  {
   "cell_type": "markdown",
   "metadata": {},
   "source": [
    "# Full rank single_decision"
   ]
  },
  {
   "cell_type": "code",
   "execution_count": 24,
   "metadata": {
    "scrolled": true
   },
   "outputs": [
    {
     "name": "stdout",
     "output_type": "stream",
     "text": [
      "loss: 1.084367  [   32/ 8000]\n",
      "loss: 0.000051  [ 3232/ 8000]\n",
      "loss: 0.000019  [ 6432/ 8000]\n"
     ]
    }
   ],
   "source": [
    "sd_dataset = SingleDecisionDataset(8000)\n",
    "train_dataloader = DataLoader(sd_dataset, batch_size=32)\n",
    "\n",
    "model = RNN(rank=128)\n",
    "train(train_dataloader, model, device)"
   ]
  },
  {
   "cell_type": "code",
   "execution_count": 27,
   "metadata": {},
   "outputs": [
    {
     "name": "stdout",
     "output_type": "stream",
     "text": [
      "torch.Size([75])\n",
      "(1, 76, 128)\n"
     ]
    },
    {
     "data": {
      "image/png": "[encoded data removed]",
      "text/plain": [
       "<Figure size 432x288 with 1 Axes>"
      ]
     },
     "metadata": {
      "needs_background": "light"
     },
     "output_type": "display_data"
    }
   ],
   "source": [
    "strength = -2\n",
    "u, y = single_decision(strength*3.2/100)\n",
    "u, y = torch.Tensor(u), torch.Tensor(y)\n",
    "print(u.shape)\n",
    "\n",
    "z = model(u).squeeze().detach().numpy()\n",
    "plt.plot(u.squeeze())\n",
    "plt.plot(y.squeeze())\n",
    "plt.plot(z)\n",
    "\n",
    "z, u_act = model(u, visible_activity=True)\n",
    "u_act = u_act.detach().numpy()\n",
    "print(u_act.shape)"
   ]
  },
  {
   "cell_type": "markdown",
   "metadata": {},
   "source": [
    "# Rank 2 Parametric"
   ]
  },
  {
   "cell_type": "code",
   "execution_count": 9,
   "metadata": {},
   "outputs": [
    {
     "name": "stdout",
     "output_type": "stream",
     "text": [
      "loss: 0.052848  [    1/    1]\n"
     ]
    }
   ],
   "source": [
    "p_data = ParametricDataset(1)\n",
    "train_dataloader = DataLoader(p_data, batch_size=1)\n",
    "model = RNN(rank=2)\n",
    "train(train_dataloader, model, device)\n"
   ]
  },
  {
   "cell_type": "code",
   "execution_count": 10,
   "metadata": {
    "scrolled": true
   },
   "outputs": [
    {
     "name": "stdout",
     "output_type": "stream",
     "text": [
      "loss: 0.257612  [    5/    5]\n"
     ]
    }
   ],
   "source": [
    "p_data = ParametricDataset(5)\n",
    "train_dataloader = DataLoader(p_data, batch_size=5)\n",
    "model = RNN(rank=2)\n",
    "train(train_dataloader, model, device)"
   ]
  },
  {
   "cell_type": "markdown",
   "metadata": {},
   "source": [
    "### Rank 2 network overfits on 1 sample parametric dataset (GOOD!)"
   ]
  },
  {
   "cell_type": "code",
   "execution_count": 29,
   "metadata": {
    "scrolled": true
   },
   "outputs": [
    {
     "name": "stdout",
     "output_type": "stream",
     "text": [
      "loss: 0.505674  [    1/    1]\n",
      "loss: 0.504746  [    1/    1]\n",
      "loss: 0.503820  [    1/    1]\n",
      "loss: 0.502896  [    1/    1]\n",
      "loss: 0.501973  [    1/    1]\n",
      "loss: 0.501052  [    1/    1]\n",
      "loss: 0.500132  [    1/    1]\n",
      "loss: 0.499213  [    1/    1]\n",
      "loss: 0.498244  [    1/    1]\n",
      "loss: 0.497217  [    1/    1]\n",
      "loss: 0.496134  [    1/    1]\n",
      "loss: 0.494994  [    1/    1]\n",
      "loss: 0.493797  [    1/    1]\n",
      "loss: 0.492543  [    1/    1]\n",
      "loss: 0.491233  [    1/    1]\n",
      "loss: 0.489867  [    1/    1]\n",
      "loss: 0.488445  [    1/    1]\n",
      "loss: 0.486967  [    1/    1]\n",
      "loss: 0.485433  [    1/    1]\n",
      "loss: 0.483843  [    1/    1]\n",
      "loss: 0.482198  [    1/    1]\n",
      "loss: 0.480498  [    1/    1]\n",
      "loss: 0.478742  [    1/    1]\n",
      "loss: 0.476932  [    1/    1]\n",
      "loss: 0.475068  [    1/    1]\n",
      "loss: 0.473149  [    1/    1]\n",
      "loss: 0.471176  [    1/    1]\n",
      "loss: 0.469149  [    1/    1]\n",
      "loss: 0.467068  [    1/    1]\n",
      "loss: 0.464934  [    1/    1]\n",
      "loss: 0.462747  [    1/    1]\n",
      "loss: 0.460508  [    1/    1]\n",
      "loss: 0.458216  [    1/    1]\n",
      "loss: 0.455872  [    1/    1]\n",
      "loss: 0.453476  [    1/    1]\n",
      "loss: 0.451029  [    1/    1]\n",
      "loss: 0.448531  [    1/    1]\n",
      "loss: 0.445983  [    1/    1]\n",
      "loss: 0.443383  [    1/    1]\n",
      "loss: 0.440733  [    1/    1]\n",
      "loss: 0.438033  [    1/    1]\n",
      "loss: 0.435283  [    1/    1]\n",
      "loss: 0.432484  [    1/    1]\n",
      "loss: 0.429636  [    1/    1]\n",
      "loss: 0.426739  [    1/    1]\n",
      "loss: 0.423794  [    1/    1]\n",
      "loss: 0.420800  [    1/    1]\n",
      "loss: 0.417759  [    1/    1]\n",
      "loss: 0.414671  [    1/    1]\n",
      "loss: 0.411537  [    1/    1]\n",
      "loss: 0.408355  [    1/    1]\n",
      "loss: 0.405126  [    1/    1]\n",
      "loss: 0.401851  [    1/    1]\n",
      "loss: 0.398530  [    1/    1]\n",
      "loss: 0.395163  [    1/    1]\n",
      "loss: 0.391750  [    1/    1]\n",
      "loss: 0.388292  [    1/    1]\n",
      "loss: 0.384789  [    1/    1]\n",
      "loss: 0.381242  [    1/    1]\n",
      "loss: 0.377652  [    1/    1]\n",
      "loss: 0.374019  [    1/    1]\n",
      "loss: 0.370343  [    1/    1]\n",
      "loss: 0.366625  [    1/    1]\n",
      "loss: 0.362866  [    1/    1]\n",
      "loss: 0.359065  [    1/    1]\n",
      "loss: 0.355223  [    1/    1]\n",
      "loss: 0.351342  [    1/    1]\n",
      "loss: 0.347422  [    1/    1]\n",
      "loss: 0.343462  [    1/    1]\n",
      "loss: 0.339463  [    1/    1]\n",
      "loss: 0.335425  [    1/    1]\n",
      "loss: 0.331350  [    1/    1]\n",
      "loss: 0.327237  [    1/    1]\n",
      "loss: 0.323088  [    1/    1]\n",
      "loss: 0.318901  [    1/    1]\n",
      "loss: 0.314679  [    1/    1]\n",
      "loss: 0.310420  [    1/    1]\n",
      "loss: 0.306125  [    1/    1]\n",
      "loss: 0.301796  [    1/    1]\n",
      "loss: 0.297433  [    1/    1]\n",
      "loss: 0.293037  [    1/    1]\n",
      "loss: 0.288609  [    1/    1]\n",
      "loss: 0.284150  [    1/    1]\n",
      "loss: 0.279659  [    1/    1]\n",
      "loss: 0.275137  [    1/    1]\n",
      "loss: 0.270586  [    1/    1]\n",
      "loss: 0.266005  [    1/    1]\n",
      "loss: 0.261396  [    1/    1]\n",
      "loss: 0.256759  [    1/    1]\n",
      "loss: 0.252097  [    1/    1]\n",
      "loss: 0.247410  [    1/    1]\n",
      "loss: 0.242699  [    1/    1]\n",
      "loss: 0.237965  [    1/    1]\n",
      "loss: 0.233209  [    1/    1]\n",
      "loss: 0.228433  [    1/    1]\n",
      "loss: 0.223638  [    1/    1]\n",
      "loss: 0.218826  [    1/    1]\n",
      "loss: 0.213999  [    1/    1]\n",
      "loss: 0.209158  [    1/    1]\n",
      "loss: 0.204306  [    1/    1]\n",
      "loss: 0.199443  [    1/    1]\n",
      "loss: 0.194571  [    1/    1]\n",
      "loss: 0.189691  [    1/    1]\n",
      "loss: 0.184805  [    1/    1]\n",
      "loss: 0.179915  [    1/    1]\n",
      "loss: 0.175023  [    1/    1]\n",
      "loss: 0.170130  [    1/    1]\n",
      "loss: 0.165239  [    1/    1]\n",
      "loss: 0.160352  [    1/    1]\n",
      "loss: 0.155472  [    1/    1]\n",
      "loss: 0.150600  [    1/    1]\n",
      "loss: 0.145741  [    1/    1]\n",
      "loss: 0.140896  [    1/    1]\n",
      "loss: 0.136069  [    1/    1]\n",
      "loss: 0.131261  [    1/    1]\n",
      "loss: 0.126476  [    1/    1]\n",
      "loss: 0.121718  [    1/    1]\n",
      "loss: 0.116988  [    1/    1]\n",
      "loss: 0.112291  [    1/    1]\n",
      "loss: 0.107630  [    1/    1]\n",
      "loss: 0.103008  [    1/    1]\n",
      "loss: 0.098428  [    1/    1]\n",
      "loss: 0.093894  [    1/    1]\n",
      "loss: 0.089409  [    1/    1]\n",
      "loss: 0.084976  [    1/    1]\n",
      "loss: 0.080599  [    1/    1]\n",
      "loss: 0.076283  [    1/    1]\n",
      "loss: 0.072031  [    1/    1]\n",
      "loss: 0.067849  [    1/    1]\n",
      "loss: 0.063740  [    1/    1]\n",
      "loss: 0.059711  [    1/    1]\n",
      "loss: 0.055765  [    1/    1]\n",
      "loss: 0.051908  [    1/    1]\n",
      "loss: 0.048145  [    1/    1]\n",
      "loss: 0.044482  [    1/    1]\n",
      "loss: 0.040924  [    1/    1]\n",
      "loss: 0.037477  [    1/    1]\n",
      "loss: 0.034146  [    1/    1]\n",
      "loss: 0.030937  [    1/    1]\n",
      "loss: 0.027855  [    1/    1]\n",
      "loss: 0.024908  [    1/    1]\n",
      "loss: 0.022102  [    1/    1]\n",
      "loss: 0.019442  [    1/    1]\n",
      "loss: 0.016936  [    1/    1]\n",
      "loss: 0.014590  [    1/    1]\n",
      "loss: 0.012412  [    1/    1]\n",
      "loss: 0.010408  [    1/    1]\n",
      "loss: 0.008585  [    1/    1]\n",
      "loss: 0.006950  [    1/    1]\n",
      "loss: 0.005510  [    1/    1]\n",
      "loss: 0.004271  [    1/    1]\n",
      "loss: 0.003239  [    1/    1]\n",
      "loss: 0.002419  [    1/    1]\n",
      "loss: 0.001815  [    1/    1]\n",
      "loss: 0.001430  [    1/    1]\n",
      "loss: 0.001262  [    1/    1]\n",
      "loss: 0.001203  [    1/    1]\n",
      "loss: 0.001161  [    1/    1]\n",
      "loss: 0.001119  [    1/    1]\n",
      "loss: 0.001081  [    1/    1]\n",
      "loss: 0.001045  [    1/    1]\n",
      "loss: 0.001011  [    1/    1]\n",
      "loss: 0.000980  [    1/    1]\n",
      "loss: 0.000948  [    1/    1]\n",
      "loss: 0.000923  [    1/    1]\n",
      "loss: 0.000893  [    1/    1]\n",
      "loss: 0.000874  [    1/    1]\n",
      "loss: 0.000843  [    1/    1]\n",
      "loss: 0.000828  [    1/    1]\n",
      "loss: 0.000799  [    1/    1]\n",
      "loss: 0.000788  [    1/    1]\n",
      "loss: 0.000760  [    1/    1]\n",
      "loss: 0.000751  [    1/    1]\n",
      "loss: 0.000724  [    1/    1]\n",
      "loss: 0.000718  [    1/    1]\n",
      "loss: 0.000690  [    1/    1]\n",
      "loss: 0.000687  [    1/    1]\n",
      "loss: 0.000660  [    1/    1]\n",
      "loss: 0.000660  [    1/    1]\n",
      "loss: 0.000632  [    1/    1]\n",
      "loss: 0.000635  [    1/    1]\n",
      "loss: 0.000607  [    1/    1]\n",
      "loss: 0.000612  [    1/    1]\n",
      "loss: 0.000582  [    1/    1]\n",
      "loss: 0.000590  [    1/    1]\n",
      "loss: 0.000561  [    1/    1]\n",
      "loss: 0.000569  [    1/    1]\n",
      "loss: 0.000541  [    1/    1]\n",
      "loss: 0.000549  [    1/    1]\n",
      "loss: 0.000523  [    1/    1]\n",
      "loss: 0.000530  [    1/    1]\n",
      "loss: 0.000506  [    1/    1]\n",
      "loss: 0.000513  [    1/    1]\n",
      "loss: 0.000491  [    1/    1]\n",
      "loss: 0.000498  [    1/    1]\n",
      "loss: 0.000477  [    1/    1]\n",
      "loss: 0.000485  [    1/    1]\n",
      "loss: 0.000465  [    1/    1]\n",
      "loss: 0.000473  [    1/    1]\n",
      "loss: 0.000455  [    1/    1]\n"
     ]
    }
   ],
   "source": [
    "p_data = ParametricDataset(1)\n",
    "train_dataloader = DataLoader(p_data, batch_size=1)\n",
    "model = RNN(rank=2)\n",
    "\n",
    "for _ in range(200):\n",
    "    train(train_dataloader, model, device, T=5)"
   ]
  },
  {
   "cell_type": "code",
   "execution_count": 34,
   "metadata": {},
   "outputs": [
    {
     "name": "stdout",
     "output_type": "stream",
     "text": [
      "loss: 0.238865  [   32/32000]\n",
      "loss: 0.092928  [ 3232/32000]\n",
      "loss: 0.130170  [ 6432/32000]\n",
      "loss: 0.122584  [ 9632/32000]\n",
      "loss: 0.108070  [12832/32000]\n",
      "loss: 0.102900  [16032/32000]\n",
      "loss: 0.108064  [19232/32000]\n",
      "loss: 0.112366  [22432/32000]\n",
      "loss: 0.071592  [25632/32000]\n",
      "loss: 0.105483  [28832/32000]\n"
     ]
    }
   ],
   "source": [
    "p_data = ParametricDataset(32000)\n",
    "train_dataloader = DataLoader(p_data, batch_size=32)\n",
    "model = RNN(rank=2)\n",
    "train(train_dataloader, model, device, T=5)"
   ]
  },
  {
   "cell_type": "code",
   "execution_count": 22,
   "metadata": {},
   "outputs": [
    {
     "name": "stdout",
     "output_type": "stream",
     "text": [
      "torch.Size([75])\n",
      "(1, 76, 128)\n"
     ]
    },
    {
     "data": {
      "image/png": "[encoded data removed]",
      "text/plain": [
       "<Figure size 432x288 with 1 Axes>"
      ]
     },
     "metadata": {
      "needs_background": "light"
     },
     "output_type": "display_data"
    }
   ],
   "source": [
    "u, y = parametric(14, 30)\n",
    "u, y = torch.Tensor(u), torch.Tensor(y)\n",
    "print(u.shape)\n",
    "\n",
    "z = model(u).squeeze().detach().numpy()\n",
    "plt.plot(u.squeeze())\n",
    "plt.plot(y.squeeze())\n",
    "plt.plot(z)\n",
    "\n",
    "z, u_act = model(u, visible_activity=True)\n",
    "u_act = u_act.detach().numpy()\n",
    "print(u_act.shape)"
   ]
  },
  {
   "cell_type": "code",
   "execution_count": 30,
   "metadata": {},
   "outputs": [
    {
     "name": "stdout",
     "output_type": "stream",
     "text": [
      "loss: 0.236368  [   32/ 6400]\n",
      "loss: 0.157351  [ 3232/ 6400]\n",
      "loss: 0.114686  [   32/ 6400]\n",
      "loss: 0.123613  [ 3232/ 6400]\n",
      "loss: 0.020687  [   32/ 6400]\n",
      "loss: 0.006238  [ 3232/ 6400]\n",
      "loss: 0.003482  [   32/ 6400]\n",
      "loss: 0.004339  [ 3232/ 6400]\n",
      "loss: 0.008086  [   32/ 6400]\n",
      "loss: 0.004512  [ 3232/ 6400]\n",
      "loss: 0.025328  [   32/ 6400]\n",
      "loss: 0.025582  [ 3232/ 6400]\n"
     ]
    }
   ],
   "source": [
    "pause_lengths = np.arange(25, 51, 5)\n",
    "model = RNN(rank=2)\n",
    "\n",
    "for pl in pause_lengths:\n",
    "    p_data = ParametricDataset(6400, pause=pl)\n",
    "    train_dataloader = DataLoader(p_data, batch_size=32)\n",
    "    train(train_dataloader, model, device)\n",
    "    "
   ]
  },
  {
   "cell_type": "code",
   "execution_count": 32,
   "metadata": {},
   "outputs": [
    {
     "name": "stdout",
     "output_type": "stream",
     "text": [
      "torch.Size([75])\n",
      "(1, 76, 128)\n"
     ]
    },
    {
     "data": {
      "image/png": "[encoded data removed]",
      "text/plain": [
       "<Figure size 432x288 with 1 Axes>"
      ]
     },
     "metadata": {
      "needs_background": "light"
     },
     "output_type": "display_data"
    }
   ],
   "source": [
    "u, y = parametric(14, 30)\n",
    "u, y = torch.Tensor(u), torch.Tensor(y)\n",
    "print(u.shape)\n",
    "\n",
    "z = model(u).squeeze().detach().numpy()\n",
    "plt.plot(u.squeeze())\n",
    "plt.plot(y.squeeze())\n",
    "plt.plot(z)\n",
    "\n",
    "z, u_act = model(u, visible_activity=True)\n",
    "u_act = u_act.detach().numpy()\n",
    "print(u_act.shape)"
   ]
  },
  {
   "cell_type": "code",
   "execution_count": null,
   "metadata": {},
   "outputs": [],
   "source": []
  }
 ],
 "metadata": {
  "kernelspec": {
   "display_name": "Python 3",
   "language": "python",
   "name": "python3"
  },
  "language_info": {
   "codemirror_mode": {
    "name": "ipython",
    "version": 3
   },
   "file_extension": ".py",
   "mimetype": "text/x-python",
   "name": "python",
   "nbconvert_exporter": "python",
   "pygments_lexer": "ipython3",
   "version": "3.8.10"
  }
 },
 "nbformat": 4,
 "nbformat_minor": 4
}
