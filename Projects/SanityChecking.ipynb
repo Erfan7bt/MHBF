{
 "cells": [
  {
   "cell_type": "code",
   "execution_count": 302,
   "metadata": {},
   "outputs": [
    {
     "name": "stdout",
     "output_type": "stream",
     "text": [
      "cpu\n"
     ]
    }
   ],
   "source": [
    "import numpy as np\n",
    "import matplotlib.pyplot as plt\n",
    "import torch\n",
    "import torch.nn as nn\n",
    "from torch.utils.data import Dataset\n",
    "from torch.utils.data import DataLoader\n",
    "import numpy.linalg as la\n",
    "\n",
    "from data import *\n",
    "from models import train\n",
    "\n",
    "# Below snippit taken from PyTorch quickstart tutorial\n",
    "device = (\n",
    "    \"cuda\"\n",
    "    if torch.cuda.is_available()\n",
    "    else \"mps\"\n",
    "    if torch.backends.mps.is_available()\n",
    "    else \"cpu\"\n",
    ")\n",
    "print(device)"
   ]
  },
  {
   "cell_type": "markdown",
   "metadata": {},
   "source": [
    "# Data generation functions"
   ]
  },
  {
   "cell_type": "code",
   "execution_count": 303,
   "metadata": {},
   "outputs": [
    {
     "data": {
      "text/plain": [
       "[<matplotlib.lines.Line2D at 0x7fdc5d2a5310>]"
      ]
     },
     "execution_count": 303,
     "metadata": {},
     "output_type": "execute_result"
    },
    {
     "data": {
      "image/png": "[encoded data removed]",
      "text/plain": [
       "<Figure size 432x288 with 1 Axes>"
      ]
     },
     "metadata": {
      "needs_background": "light"
     },
     "output_type": "display_data"
    }
   ],
   "source": [
    "u, y = single_decision(16*3.2/100)\n",
    "plt.plot(u)\n",
    "plt.plot(y)"
   ]
  },
  {
   "cell_type": "code",
   "execution_count": 304,
   "metadata": {
    "scrolled": false
   },
   "outputs": [
    {
     "data": {
      "text/plain": [
       "[<matplotlib.lines.Line2D at 0x7fdc5d216b50>]"
      ]
     },
     "execution_count": 304,
     "metadata": {},
     "output_type": "execute_result"
    },
    {
     "data": {
      "image/png": "[encoded data removed]",
      "text/plain": [
       "<Figure size 432x288 with 1 Axes>"
      ]
     },
     "metadata": {
      "needs_background": "light"
     },
     "output_type": "display_data"
    }
   ],
   "source": [
    "u, y = parametric(10, 34)\n",
    "plt.plot(u)\n",
    "plt.plot(y)"
   ]
  },
  {
   "cell_type": "code",
   "execution_count": 305,
   "metadata": {},
   "outputs": [
    {
     "data": {
      "text/plain": [
       "[<matplotlib.lines.Line2D at 0x7fdc5d3b4f70>]"
      ]
     },
     "execution_count": 305,
     "metadata": {},
     "output_type": "execute_result"
    },
    {
     "data": {
      "image/png": "[encoded data removed]",
      "text/plain": [
       "<Figure size 432x288 with 1 Axes>"
      ]
     },
     "metadata": {
      "needs_background": "light"
     },
     "output_type": "display_data"
    }
   ],
   "source": [
    "u, y = parametric(10, 34, pause=25)\n",
    "plt.plot(u)\n",
    "plt.plot(y)"
   ]
  },
  {
   "cell_type": "markdown",
   "metadata": {},
   "source": [
    "# RNN Class"
   ]
  },
  {
   "cell_type": "code",
   "execution_count": 306,
   "metadata": {},
   "outputs": [],
   "source": [
    "class RNN(nn.Module):\n",
    "\n",
    "    def __init__(self, network_size=128,rank=1):\n",
    "\n",
    "        super(RNN, self).__init__()\n",
    "        self.network_size = network_size\n",
    "        self.rank=rank\n",
    "\n",
    "        # Weight initialization\n",
    "        #unit rank rnn weight matrix J=mn^T/n\n",
    "#         if rank==1:\n",
    "        self.m = nn.Parameter(torch.Tensor(network_size, rank))\n",
    "        self.n = nn.Parameter(torch.Tensor(network_size, rank))\n",
    "        self.wi = torch.Tensor(network_size)\n",
    "        self.w = torch.Tensor(network_size, 1)\n",
    "        self.x0= torch.Tensor(network_size, 1)\n",
    "#         else:\n",
    "#             self.m = nn.Parameter(torch.Tensor(self.network_size,self.rank))\n",
    "#             self.n = nn.Parameter(torch.Tensor(self.network_size,self.rank))\n",
    "#             self.wi = torch.Tensor(self.network_size,1)\n",
    "#             self.w = torch.Tensor(self.network_size,1)\n",
    "#             self.x0= torch.Tensor(self.network_size,1)\n",
    "\n",
    "                # Parameters for weight update formula\n",
    "        self.tau = 100 #ms\n",
    "        self.dt = 20 #ms\n",
    "\n",
    "        # Activation function\n",
    "        self.activation = nn.Tanh()\n",
    "\n",
    "        with torch.no_grad():\n",
    "            self.m.normal_(std=1)\n",
    "            self.n.normal_(std=1)\n",
    "            self.w.normal_(std=4)\n",
    "            self.x0.zero_()\n",
    "            self.wi.normal_(std=1)\n",
    "\n",
    "    def forward(self, u, visible_activity=False):\n",
    "        \n",
    "        # print(u)\n",
    "        if len(u.shape) == 1:\n",
    "            u = u.unsqueeze(0)\n",
    "            \n",
    "            \n",
    "            \n",
    "        input_len=u.size(1)\n",
    "        batch_size=u.size(0)\n",
    "        \n",
    "        x = torch.zeros(batch_size, self.network_size)\n",
    "        z = torch.zeros(u.shape)\n",
    "\n",
    "        r = self.activation(x)\n",
    "\n",
    "        if visible_activity:\n",
    "            unit_activity = torch.zeros(batch_size, input_len+1, self.network_size)\n",
    "            unit_activity[:,0,:] = x\n",
    "\n",
    "        for i in range(input_len):\n",
    "            delta_x = (\n",
    "                -x\n",
    "                + r.matmul(self.n).matmul(self.m.t()) / self.network_size\n",
    "                + torch.outer(u[:,i], self.wi.squeeze())\n",
    "            ) * (self.dt / self.tau)\n",
    "\n",
    "            x = x + delta_x\n",
    "            r = self.activation(x)\n",
    "            if visible_activity:\n",
    "                unit_activity[:,i+1,:] = x\n",
    "\n",
    "            output = torch.matmul(r, self.w) / self.network_size\n",
    "            z[:, i] = output.squeeze()\n",
    "\n",
    "        if visible_activity:\n",
    "            return z, unit_activity\n",
    "        else:\n",
    "            return z"
   ]
  },
  {
   "cell_type": "markdown",
   "metadata": {},
   "source": [
    "# Rank-One Tests"
   ]
  },
  {
   "cell_type": "code",
   "execution_count": 307,
   "metadata": {},
   "outputs": [
    {
     "name": "stdout",
     "output_type": "stream",
     "text": [
      "loss: 0.996888  [    1/    1]\n"
     ]
    }
   ],
   "source": [
    "sd_single_data = SingleDecisionDataset(1)\n",
    "train_dataloader = DataLoader(sd_single_data, batch_size=1)\n",
    "model = RNN()\n",
    "train(train_dataloader, model, device)"
   ]
  },
  {
   "cell_type": "code",
   "execution_count": 308,
   "metadata": {},
   "outputs": [
    {
     "name": "stdout",
     "output_type": "stream",
     "text": [
      "loss: 1.001537  [    5/    5]\n"
     ]
    }
   ],
   "source": [
    "sd_single_data = SingleDecisionDataset(5)\n",
    "train_dataloader = DataLoader(sd_single_data, batch_size=5)\n",
    "model = RNN()\n",
    "train(train_dataloader, model, device)"
   ]
  },
  {
   "cell_type": "code",
   "execution_count": 309,
   "metadata": {},
   "outputs": [
    {
     "name": "stdout",
     "output_type": "stream",
     "text": [
      "loss: 0.998035  [   32/ 8000]\n",
      "loss: 0.473191  [ 3232/ 8000]\n",
      "loss: 0.003908  [ 6432/ 8000]\n"
     ]
    }
   ],
   "source": [
    "sd_dataset = SingleDecisionDataset(8000)\n",
    "train_dataloader = DataLoader(sd_dataset, batch_size=32)\n",
    "\n",
    "model = RNN()\n",
    "train(train_dataloader, model, device)"
   ]
  },
  {
   "cell_type": "code",
   "execution_count": 310,
   "metadata": {
    "scrolled": false
   },
   "outputs": [
    {
     "name": "stdout",
     "output_type": "stream",
     "text": [
      "torch.Size([75])\n",
      "(1, 76, 128)\n"
     ]
    },
    {
     "data": {
      "image/png": "[encoded data removed]",
      "text/plain": [
       "<Figure size 432x288 with 1 Axes>"
      ]
     },
     "metadata": {
      "needs_background": "light"
     },
     "output_type": "display_data"
    }
   ],
   "source": [
    "strength = -8\n",
    "u, y = single_decision(strength*3.2/100)\n",
    "u, y = torch.Tensor(u), torch.Tensor(y)\n",
    "print(u.shape)\n",
    "\n",
    "z = model(u).squeeze().detach().numpy()\n",
    "plt.plot(u.squeeze())\n",
    "plt.plot(y.squeeze())\n",
    "plt.plot(z)\n",
    "\n",
    "z, u_act = model(u, visible_activity=True)\n",
    "u_act = u_act.detach().numpy()\n",
    "print(u_act.shape)\n"
   ]
  },
  {
   "cell_type": "markdown",
   "metadata": {},
   "source": [
    "# Full rank single_decision"
   ]
  },
  {
   "cell_type": "code",
   "execution_count": 311,
   "metadata": {
    "scrolled": true
   },
   "outputs": [
    {
     "name": "stdout",
     "output_type": "stream",
     "text": [
      "loss: 1.081836  [   32/ 8000]\n",
      "loss: 0.000028  [ 3232/ 8000]\n",
      "loss: 0.000014  [ 6432/ 8000]\n"
     ]
    }
   ],
   "source": [
    "sd_dataset = SingleDecisionDataset(8000)\n",
    "train_dataloader = DataLoader(sd_dataset, batch_size=32)\n",
    "\n",
    "model = RNN(rank=128)\n",
    "train(train_dataloader, model, device)"
   ]
  },
  {
   "cell_type": "code",
   "execution_count": 312,
   "metadata": {},
   "outputs": [
    {
     "name": "stdout",
     "output_type": "stream",
     "text": [
      "torch.Size([75])\n",
      "(1, 76, 128)\n"
     ]
    },
    {
     "data": {
      "image/png": "[encoded data removed]",
      "text/plain": [
       "<Figure size 432x288 with 1 Axes>"
      ]
     },
     "metadata": {
      "needs_background": "light"
     },
     "output_type": "display_data"
    }
   ],
   "source": [
    "strength = -2\n",
    "\n",
    "u, y = single_decision(strength*3.2/100)\n",
    "u, y = torch.Tensor(u), torch.Tensor(y)\n",
    "print(u.shape)\n",
    "\n",
    "z = model(u).squeeze().detach().numpy()\n",
    "plt.plot(u.squeeze())\n",
    "plt.plot(y.squeeze())\n",
    "plt.plot(z)\n",
    "\n",
    "z, u_act = model(u, visible_activity=True)\n",
    "u_act = u_act.detach().numpy()\n",
    "print(u_act.shape)"
   ]
  },
  {
   "cell_type": "markdown",
   "metadata": {},
   "source": [
    "# Rank 2 Parametric"
   ]
  },
  {
   "cell_type": "code",
   "execution_count": 313,
   "metadata": {},
   "outputs": [
    {
     "name": "stdout",
     "output_type": "stream",
     "text": [
      "loss: 0.003243  [    1/    1]\n"
     ]
    }
   ],
   "source": [
    "p_data = ParametricDataset(1)\n",
    "train_dataloader = DataLoader(p_data, batch_size=1)\n",
    "model = RNN(rank=2)\n",
    "train(train_dataloader, model, device)\n"
   ]
  },
  {
   "cell_type": "code",
   "execution_count": 314,
   "metadata": {
    "scrolled": true
   },
   "outputs": [
    {
     "name": "stdout",
     "output_type": "stream",
     "text": [
      "loss: 0.134980  [    5/    5]\n"
     ]
    }
   ],
   "source": [
    "p_data = ParametricDataset(5)\n",
    "train_dataloader = DataLoader(p_data, batch_size=5)\n",
    "model = RNN(rank=2)\n",
    "train(train_dataloader, model, device)"
   ]
  },
  {
   "cell_type": "markdown",
   "metadata": {},
   "source": [
    "### Rank 2 network overfits on 1 sample parametric dataset (GOOD!)"
   ]
  },
  {
   "cell_type": "code",
   "execution_count": 315,
   "metadata": {
    "scrolled": true
   },
   "outputs": [
    {
     "name": "stdout",
     "output_type": "stream",
     "text": [
      "loss: 0.024404  [    1/    1]\n",
      "loss: 0.024300  [    1/    1]\n",
      "loss: 0.024199  [    1/    1]\n",
      "loss: 0.024098  [    1/    1]\n",
      "loss: 0.023998  [    1/    1]\n",
      "loss: 0.023890  [    1/    1]\n",
      "loss: 0.023769  [    1/    1]\n",
      "loss: 0.023634  [    1/    1]\n",
      "loss: 0.023485  [    1/    1]\n",
      "loss: 0.023323  [    1/    1]\n",
      "loss: 0.023147  [    1/    1]\n",
      "loss: 0.022958  [    1/    1]\n",
      "loss: 0.022755  [    1/    1]\n",
      "loss: 0.022540  [    1/    1]\n",
      "loss: 0.022312  [    1/    1]\n",
      "loss: 0.022071  [    1/    1]\n",
      "loss: 0.021817  [    1/    1]\n",
      "loss: 0.021552  [    1/    1]\n",
      "loss: 0.021274  [    1/    1]\n",
      "loss: 0.020984  [    1/    1]\n",
      "loss: 0.020683  [    1/    1]\n",
      "loss: 0.020370  [    1/    1]\n",
      "loss: 0.020046  [    1/    1]\n",
      "loss: 0.019711  [    1/    1]\n",
      "loss: 0.019366  [    1/    1]\n",
      "loss: 0.019010  [    1/    1]\n",
      "loss: 0.018645  [    1/    1]\n",
      "loss: 0.018269  [    1/    1]\n",
      "loss: 0.017885  [    1/    1]\n",
      "loss: 0.017492  [    1/    1]\n",
      "loss: 0.017090  [    1/    1]\n",
      "loss: 0.016680  [    1/    1]\n",
      "loss: 0.016262  [    1/    1]\n",
      "loss: 0.015837  [    1/    1]\n",
      "loss: 0.015405  [    1/    1]\n",
      "loss: 0.014966  [    1/    1]\n",
      "loss: 0.014522  [    1/    1]\n",
      "loss: 0.014073  [    1/    1]\n",
      "loss: 0.013618  [    1/    1]\n",
      "loss: 0.013159  [    1/    1]\n",
      "loss: 0.012697  [    1/    1]\n",
      "loss: 0.012231  [    1/    1]\n",
      "loss: 0.011763  [    1/    1]\n",
      "loss: 0.011292  [    1/    1]\n",
      "loss: 0.010821  [    1/    1]\n",
      "loss: 0.010348  [    1/    1]\n",
      "loss: 0.009876  [    1/    1]\n",
      "loss: 0.009404  [    1/    1]\n",
      "loss: 0.008933  [    1/    1]\n",
      "loss: 0.008465  [    1/    1]\n",
      "loss: 0.007999  [    1/    1]\n",
      "loss: 0.007537  [    1/    1]\n",
      "loss: 0.007080  [    1/    1]\n",
      "loss: 0.006628  [    1/    1]\n",
      "loss: 0.006182  [    1/    1]\n",
      "loss: 0.005744  [    1/    1]\n",
      "loss: 0.005313  [    1/    1]\n",
      "loss: 0.004892  [    1/    1]\n",
      "loss: 0.004480  [    1/    1]\n",
      "loss: 0.004080  [    1/    1]\n",
      "loss: 0.003692  [    1/    1]\n",
      "loss: 0.003317  [    1/    1]\n",
      "loss: 0.002956  [    1/    1]\n",
      "loss: 0.002611  [    1/    1]\n",
      "loss: 0.002283  [    1/    1]\n",
      "loss: 0.001973  [    1/    1]\n",
      "loss: 0.001682  [    1/    1]\n",
      "loss: 0.001411  [    1/    1]\n",
      "loss: 0.001162  [    1/    1]\n",
      "loss: 0.000936  [    1/    1]\n",
      "loss: 0.000735  [    1/    1]\n",
      "loss: 0.000560  [    1/    1]\n",
      "loss: 0.000412  [    1/    1]\n",
      "loss: 0.000294  [    1/    1]\n",
      "loss: 0.000207  [    1/    1]\n",
      "loss: 0.000153  [    1/    1]\n",
      "loss: 0.000133  [    1/    1]\n",
      "loss: 0.000128  [    1/    1]\n",
      "loss: 0.000131  [    1/    1]\n",
      "loss: 0.000126  [    1/    1]\n",
      "loss: 0.000127  [    1/    1]\n",
      "loss: 0.000123  [    1/    1]\n",
      "loss: 0.000124  [    1/    1]\n",
      "loss: 0.000121  [    1/    1]\n",
      "loss: 0.000121  [    1/    1]\n",
      "loss: 0.000119  [    1/    1]\n",
      "loss: 0.000119  [    1/    1]\n",
      "loss: 0.000117  [    1/    1]\n",
      "loss: 0.000117  [    1/    1]\n",
      "loss: 0.000115  [    1/    1]\n",
      "loss: 0.000115  [    1/    1]\n",
      "loss: 0.000113  [    1/    1]\n",
      "loss: 0.000112  [    1/    1]\n",
      "loss: 0.000110  [    1/    1]\n",
      "loss: 0.000110  [    1/    1]\n",
      "loss: 0.000108  [    1/    1]\n",
      "loss: 0.000108  [    1/    1]\n",
      "loss: 0.000106  [    1/    1]\n",
      "loss: 0.000106  [    1/    1]\n",
      "loss: 0.000104  [    1/    1]\n",
      "loss: 0.000104  [    1/    1]\n",
      "loss: 0.000103  [    1/    1]\n",
      "loss: 0.000102  [    1/    1]\n",
      "loss: 0.000101  [    1/    1]\n",
      "loss: 0.000100  [    1/    1]\n",
      "loss: 0.000099  [    1/    1]\n",
      "loss: 0.000099  [    1/    1]\n",
      "loss: 0.000097  [    1/    1]\n",
      "loss: 0.000097  [    1/    1]\n",
      "loss: 0.000095  [    1/    1]\n",
      "loss: 0.000095  [    1/    1]\n",
      "loss: 0.000093  [    1/    1]\n",
      "loss: 0.000093  [    1/    1]\n",
      "loss: 0.000092  [    1/    1]\n",
      "loss: 0.000091  [    1/    1]\n",
      "loss: 0.000090  [    1/    1]\n",
      "loss: 0.000090  [    1/    1]\n",
      "loss: 0.000088  [    1/    1]\n",
      "loss: 0.000088  [    1/    1]\n",
      "loss: 0.000087  [    1/    1]\n",
      "loss: 0.000086  [    1/    1]\n",
      "loss: 0.000085  [    1/    1]\n",
      "loss: 0.000085  [    1/    1]\n",
      "loss: 0.000084  [    1/    1]\n",
      "loss: 0.000083  [    1/    1]\n",
      "loss: 0.000082  [    1/    1]\n",
      "loss: 0.000082  [    1/    1]\n",
      "loss: 0.000081  [    1/    1]\n",
      "loss: 0.000080  [    1/    1]\n",
      "loss: 0.000080  [    1/    1]\n",
      "loss: 0.000079  [    1/    1]\n",
      "loss: 0.000078  [    1/    1]\n",
      "loss: 0.000078  [    1/    1]\n",
      "loss: 0.000077  [    1/    1]\n",
      "loss: 0.000076  [    1/    1]\n",
      "loss: 0.000076  [    1/    1]\n",
      "loss: 0.000075  [    1/    1]\n",
      "loss: 0.000074  [    1/    1]\n",
      "loss: 0.000074  [    1/    1]\n",
      "loss: 0.000073  [    1/    1]\n",
      "loss: 0.000073  [    1/    1]\n",
      "loss: 0.000072  [    1/    1]\n",
      "loss: 0.000072  [    1/    1]\n",
      "loss: 0.000071  [    1/    1]\n",
      "loss: 0.000070  [    1/    1]\n",
      "loss: 0.000070  [    1/    1]\n",
      "loss: 0.000069  [    1/    1]\n",
      "loss: 0.000069  [    1/    1]\n",
      "loss: 0.000068  [    1/    1]\n",
      "loss: 0.000068  [    1/    1]\n",
      "loss: 0.000067  [    1/    1]\n",
      "loss: 0.000067  [    1/    1]\n",
      "loss: 0.000066  [    1/    1]\n",
      "loss: 0.000066  [    1/    1]\n",
      "loss: 0.000065  [    1/    1]\n",
      "loss: 0.000064  [    1/    1]\n",
      "loss: 0.000064  [    1/    1]\n",
      "loss: 0.000063  [    1/    1]\n",
      "loss: 0.000063  [    1/    1]\n",
      "loss: 0.000062  [    1/    1]\n",
      "loss: 0.000062  [    1/    1]\n",
      "loss: 0.000061  [    1/    1]\n",
      "loss: 0.000061  [    1/    1]\n",
      "loss: 0.000060  [    1/    1]\n",
      "loss: 0.000060  [    1/    1]\n",
      "loss: 0.000059  [    1/    1]\n",
      "loss: 0.000060  [    1/    1]\n",
      "loss: 0.000058  [    1/    1]\n",
      "loss: 0.000059  [    1/    1]\n",
      "loss: 0.000058  [    1/    1]\n",
      "loss: 0.000058  [    1/    1]\n",
      "loss: 0.000057  [    1/    1]\n",
      "loss: 0.000057  [    1/    1]\n",
      "loss: 0.000056  [    1/    1]\n",
      "loss: 0.000056  [    1/    1]\n",
      "loss: 0.000055  [    1/    1]\n",
      "loss: 0.000055  [    1/    1]\n",
      "loss: 0.000054  [    1/    1]\n",
      "loss: 0.000054  [    1/    1]\n",
      "loss: 0.000053  [    1/    1]\n",
      "loss: 0.000054  [    1/    1]\n",
      "loss: 0.000052  [    1/    1]\n",
      "loss: 0.000053  [    1/    1]\n",
      "loss: 0.000052  [    1/    1]\n",
      "loss: 0.000052  [    1/    1]\n",
      "loss: 0.000051  [    1/    1]\n",
      "loss: 0.000051  [    1/    1]\n",
      "loss: 0.000050  [    1/    1]\n",
      "loss: 0.000050  [    1/    1]\n",
      "loss: 0.000049  [    1/    1]\n",
      "loss: 0.000050  [    1/    1]\n",
      "loss: 0.000049  [    1/    1]\n",
      "loss: 0.000049  [    1/    1]\n",
      "loss: 0.000048  [    1/    1]\n",
      "loss: 0.000048  [    1/    1]\n",
      "loss: 0.000047  [    1/    1]\n",
      "loss: 0.000047  [    1/    1]\n",
      "loss: 0.000047  [    1/    1]\n",
      "loss: 0.000047  [    1/    1]\n",
      "loss: 0.000046  [    1/    1]\n"
     ]
    }
   ],
   "source": [
    "p_data = ParametricDataset(1)\n",
    "train_dataloader = DataLoader(p_data, batch_size=1)\n",
    "model = RNN(rank=2)\n",
    "\n",
    "for _ in range(200):\n",
    "    train(train_dataloader, model, device, T=5)"
   ]
  },
  {
   "cell_type": "code",
   "execution_count": 316,
   "metadata": {},
   "outputs": [
    {
     "data": {
      "text/plain": [
       "[<matplotlib.lines.Line2D at 0x7fdc5cab4580>]"
      ]
     },
     "execution_count": 316,
     "metadata": {},
     "output_type": "execute_result"
    },
    {
     "data": {
      "image/png": "[encoded data removed]",
      "text/plain": [
       "<Figure size 432x288 with 1 Axes>"
      ]
     },
     "metadata": {
      "needs_background": "light"
     },
     "output_type": "display_data"
    }
   ],
   "source": [
    "\n",
    "z=model(p_data.u).squeeze().detach().numpy()\n",
    "plt.plot(p_data.u.squeeze())\n",
    "plt.plot(p_data.y.squeeze())\n",
    "plt.plot(z)"
   ]
  },
  {
   "cell_type": "code",
   "execution_count": 317,
   "metadata": {},
   "outputs": [
    {
     "name": "stdout",
     "output_type": "stream",
     "text": [
      "loss: 0.179457  [   32/32000]\n",
      "loss: 0.101851  [ 3232/32000]\n",
      "loss: 0.096022  [ 6432/32000]\n",
      "loss: 0.119895  [ 9632/32000]\n",
      "loss: 0.124411  [12832/32000]\n",
      "loss: 0.114053  [16032/32000]\n",
      "loss: 0.104642  [19232/32000]\n",
      "loss: 0.123390  [22432/32000]\n",
      "loss: 0.103982  [25632/32000]\n",
      "loss: 0.123028  [28832/32000]\n"
     ]
    }
   ],
   "source": [
    "p_data = ParametricDataset(32000)\n",
    "train_dataloader = DataLoader(p_data, batch_size=32)\n",
    "model = RNN(rank=2)\n",
    "train(train_dataloader, model, device, T=10)"
   ]
  },
  {
   "cell_type": "code",
   "execution_count": 318,
   "metadata": {},
   "outputs": [
    {
     "data": {
      "text/plain": [
       "[<matplotlib.lines.Line2D at 0x7fdc5ca75be0>]"
      ]
     },
     "execution_count": 318,
     "metadata": {},
     "output_type": "execute_result"
    },
    {
     "data": {
      "image/png": "[encoded data removed]",
      "text/plain": [
       "<Figure size 432x288 with 1 Axes>"
      ]
     },
     "metadata": {
      "needs_background": "light"
     },
     "output_type": "display_data"
    }
   ],
   "source": [
    "u, y = parametric(10, 34)\n",
    "u, y = torch.Tensor(u), torch.Tensor(y)\n",
    "z=model(u).squeeze().detach().numpy()\n",
    "plt.plot(u.squeeze())\n",
    "plt.plot(y.squeeze())\n",
    "plt.plot(z)"
   ]
  },
  {
   "cell_type": "code",
   "execution_count": 319,
   "metadata": {},
   "outputs": [
    {
     "name": "stdout",
     "output_type": "stream",
     "text": [
      "torch.Size([75])\n",
      "(1, 76, 128)\n"
     ]
    },
    {
     "data": {
      "image/png": "[encoded data removed]",
      "text/plain": [
       "<Figure size 432x288 with 1 Axes>"
      ]
     },
     "metadata": {
      "needs_background": "light"
     },
     "output_type": "display_data"
    }
   ],
   "source": [
    "u, y = parametric(26, 30)\n",
    "u, y = torch.Tensor(u), torch.Tensor(y)\n",
    "print(u.shape)\n",
    "\n",
    "z = model(u).squeeze().detach().numpy()\n",
    "plt.plot(u.squeeze())\n",
    "plt.plot(y.squeeze())\n",
    "plt.plot(z)\n",
    "\n",
    "z, u_act = model(u, visible_activity=True)\n",
    "u_act = u_act.detach().numpy()\n",
    "print(u_act.shape)"
   ]
  },
  {
   "cell_type": "code",
   "execution_count": 320,
   "metadata": {},
   "outputs": [
    {
     "name": "stdout",
     "output_type": "stream",
     "text": [
      "loss: 0.184885  [   32/ 6400]\n",
      "loss: 0.122156  [ 3232/ 6400]\n",
      "loss: 0.149864  [   32/ 6400]\n",
      "loss: 0.172831  [ 3232/ 6400]\n",
      "loss: 0.134163  [   32/ 6400]\n",
      "loss: 0.102974  [ 3232/ 6400]\n",
      "loss: 0.120469  [   32/ 6400]\n",
      "loss: 0.026481  [ 3232/ 6400]\n",
      "loss: 0.017444  [   32/ 6400]\n",
      "loss: 0.011992  [ 3232/ 6400]\n",
      "loss: 0.033093  [   32/ 6400]\n",
      "loss: 0.027349  [ 3232/ 6400]\n"
     ]
    }
   ],
   "source": [
    "pause_lengths = np.arange(25, 51, 5)\n",
    "model = RNN(rank=2)\n",
    "\n",
    "for pl in pause_lengths:\n",
    "    p_data = ParametricDataset(6400, pause=pl)\n",
    "    train_dataloader = DataLoader(p_data, batch_size=32)\n",
    "    train(train_dataloader, model, device)\n",
    "    "
   ]
  },
  {
   "cell_type": "code",
   "execution_count": 321,
   "metadata": {},
   "outputs": [
    {
     "name": "stdout",
     "output_type": "stream",
     "text": [
      "torch.Size([75])\n",
      "(1, 76, 128)\n"
     ]
    },
    {
     "data": {
      "image/png": "[encoded data removed]",
      "text/plain": [
       "<Figure size 432x288 with 1 Axes>"
      ]
     },
     "metadata": {
      "needs_background": "light"
     },
     "output_type": "display_data"
    }
   ],
   "source": [
    "u, y = parametric(14, 34)\n",
    "u, y = torch.Tensor(u), torch.Tensor(y)\n",
    "print(u.shape)\n",
    "\n",
    "z = model(u).squeeze().detach().numpy()\n",
    "plt.plot(u.squeeze())\n",
    "plt.plot(y.squeeze())\n",
    "plt.plot(z)\n",
    "\n",
    "z, u_act = model(u, visible_activity=True)\n",
    "u_act = u_act.detach().numpy()\n",
    "print(u_act.shape)"
   ]
  },
  {
   "cell_type": "code",
   "execution_count": 336,
   "metadata": {},
   "outputs": [
    {
     "data": {
      "text/plain": [
       "<matplotlib.colorbar.Colorbar at 0x7fdc5d4086d0>"
      ]
     },
     "execution_count": 336,
     "metadata": {},
     "output_type": "execute_result"
    },
    {
     "data": {
      "image/png": "[encoded data removed]",
      "text/plain": [
       "<Figure size 1080x1080 with 2 Axes>"
      ]
     },
     "metadata": {
      "needs_background": "light"
     },
     "output_type": "display_data"
    }
   ],
   "source": [
    "m=model.m.detach().numpy()\n",
    "m1=m[:,0]\n",
    "m2=m[:,1]\n",
    "\n",
    "\n",
    "n=model.n.detach().numpy()\n",
    "n1=n[:,0]\n",
    "n2=n[:,1]\n",
    "\n",
    "\n",
    "wi=model.wi.detach().numpy()\n",
    "\n",
    "w=model.w.detach().numpy()\n",
    "w=w.squeeze()\n",
    "\n",
    "\n",
    "\n",
    "vector=[wi,n1,n2,m1,m2,w]\n",
    "cov=np.cov(vector)\n",
    "cov=np.triu(cov,k=1)\n",
    "cov=cov[0:5,1:6]\n",
    "\n",
    "# cov[cov==0]=np.Inf\n",
    "bound = np.max((np.abs(np.min(cov)), np.abs(np.max(cov))))\n",
    "\n",
    "plt.figure(figsize=(15,15))\n",
    "plt.imshow(cov, cmap='RdBu', vmin=-bound, vmax=bound)\n",
    "ax=plt.gca()\n",
    "ax.yaxis.tick_right()\n",
    "ax.xaxis.tick_top()\n",
    "ax.set_aspect('equal','box')\n",
    "plt.xticks(np.arange(0, 5, step=1), ['n1', 'n2', 'm1','m2','w'], fontsize=20)\n",
    "plt.yticks(np.arange(0, 5, step=1), ['I','n1', 'n2', 'm1','m2'], fontsize=20)\n",
    "plt.colorbar()\n"
   ]
  }
 ],
 "metadata": {
  "kernelspec": {
   "display_name": "Python 3",
   "language": "python",
   "name": "python3"
  },
  "language_info": {
   "codemirror_mode": {
    "name": "ipython",
    "version": 3
   },
   "file_extension": ".py",
   "mimetype": "text/x-python",
   "name": "python",
   "nbconvert_exporter": "python",
   "pygments_lexer": "ipython3",
   "version": "3.8.10"
  }
 },
 "nbformat": 4,
 "nbformat_minor": 4
}
