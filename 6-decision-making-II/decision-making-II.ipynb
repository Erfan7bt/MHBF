{
 "cells": [
  {
   "attachments": {},
   "cell_type": "markdown",
   "metadata": {},
   "source": [
    "<div>\n",
    "  <img style=\"float: left;\"  width=\"140\" src=\" data:image/png;base64,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\">\n",
    "</div>\n",
    " \n",
    "<h1 id=\"course-title-heading\">\n",
    "    <div style=\"text-align: right\">\n",
    "        Models of Higher Brain Functions\n",
    "        <br>Computer Course\n",
    "        <br>\n",
    "    </div>\n",
    "</h1>\n",
    "    \n",
    "---\n",
    "<div style=\"text-align: left; float: left\">\n",
    "    Lecturer: Prof. Dr. Henning Sprekeler\n",
    "</div>\n",
    "\n",
    "<div style=\"text-align: right\">\n",
    "    Assistant: Jarek Liesen\n",
    "    <br>(jarek@bccn-berlin.de)\n",
    "</div>\n",
    "\n"
   ]
  },
  {
   "attachments": {},
   "cell_type": "markdown",
   "metadata": {},
   "source": [
    "## General exercise instructions\n",
    "These exercises should be completed entirely in this Jupyter Notebook (comprising source code, discussion and interpretation). Submission should be done through the Moodle interface and should consist only of this notebook (**a single `.ipynb` file**). This Jupyter Notebook was provided inside a `.zip` file, alongside additional files. Do not change the relative paths of these files when working on the assignment (meaning that e.g. `./helper.py` should always be in the same directory as this notebook).\n",
    "\n",
    "Submission deadline is the start of the next lectue (**10:15 am on Fridays**).\n",
    "\n",
    "Before you turn this problem in, make sure everything runs as expected. First, **restart the kernel** (in the menubar, select Kernel$\\rightarrow$Restart) and then **run all cells** (in the menubar, select Cell$\\rightarrow$Run All).\n",
    "\n",
    "Some of the exercises will be automatically graded. Make sure that you:\n",
    "1. Fill in any place that says `YOUR CODE HERE` or \"YOUR ANSWER HERE\"\n",
    "2. Remove all `raise NotImplementedError` lines once you inserted your solution\n",
    "3. Don't use variable names starting with underscore (e.g. `_myvar`) in your code, which could interfere with the automatic grading system.\n",
    "\n",
    "Before you start, please fill in below your names and the name of your group as shown on Moodle. Example:\n",
    "```\n",
    "NAMES = [\"Martina Musterfrau\", \"John Smith\"]\n",
    "GROUP = \"A\"\n",
    "```\n",
    "\n",
    "If you have any questions about the exercises, please ask them **on the Moodle forum** of the course."
   ]
  },
  {
   "cell_type": "code",
   "execution_count": null,
   "metadata": {},
   "outputs": [],
   "source": [
    "NAMES = [\"Ines Pont Sanchis\", \"Erfan Baradarantohidi\"]\n",
    "GROUP = \"B\""
   ]
  },
  {
   "cell_type": "code",
   "execution_count": 1,
   "metadata": {},
   "outputs": [],
   "source": [
    "# These are a few tests to make sure that your installed Python software is not too old\n",
    "import sys\n",
    "assert sys.version_info.major >= 3, \"Your Python version is too old, please update it.\"\n",
    "\n",
    "import IPython\n",
    "assert IPython.version_info[0] >= 3, \"Your IPython version is too old, please update it.\""
   ]
  },
  {
   "attachments": {},
   "cell_type": "markdown",
   "metadata": {},
   "source": [
    "---"
   ]
  },
  {
   "attachments": {},
   "cell_type": "markdown",
   "metadata": {
    "deletable": false,
    "editable": false,
    "nbgrader": {
     "cell_type": "markdown",
     "checksum": "2f7809bb10ae9a23187f772e53d80807",
     "grade": false,
     "grade_id": "intro",
     "locked": true,
     "schema_version": 3,
     "solution": false,
     "task": false
    }
   },
   "source": [
    "# Week 6: Decision Making II"
   ]
  },
  {
   "attachments": {},
   "cell_type": "markdown",
   "metadata": {
    "deletable": false,
    "editable": false,
    "nbgrader": {
     "cell_type": "markdown",
     "checksum": "1602af51a598d18d2a58e1cbf36c5527",
     "grade": false,
     "grade_id": "toc",
     "locked": true,
     "schema_version": 3,
     "solution": false,
     "task": false
    },
    "toc": true
   },
   "source": [
    "<h2>Table of Contents<span class=\"tocSkip\"></span></h2>\n",
    "<div class=\"toc\"><ul class=\"toc-item\"><li><span><a href=\"#Exercise-1:-Chapman-Kolmogorov-(12-points)\" data-toc-modified-id=\"Exercise-1:-Chapman-Kolmogorov-(12-points)-1\">Exercise 1: Chapman-Kolmogorov (12 points)</a></span><ul class=\"toc-item\"><li><span><a href=\"#1.1-Define-an-array-that-will-store-your-time-dependent-distribution-(1-point)\" data-toc-modified-id=\"1.1-Define-an-array-that-will-store-your-time-dependent-distribution-(1-point)-1.1\">1.1 Define an array that will store your time-dependent distribution (1 point)</a></span></li><li><span><a href=\"#1.2-Define-the-transition-probability-matrix-(1-point)\" data-toc-modified-id=\"1.2-Define-the-transition-probability-matrix-(1-point)-1.2\">1.2 Define the transition probability matrix (1 point)</a></span></li><li><span><a href=\"#1.3-Compute-the-time-dependent-distribution\" data-toc-modified-id=\"1.3-Compute-the-time-dependent-distribution-1.3\">1.3 Compute the time-dependent distribution</a></span><ul class=\"toc-item\"><li><span><a href=\"#1.3-a)-Compute-the-probability-distribution-for-all-time-steps-(1-point)\" data-toc-modified-id=\"1.3-a)-Compute-the-probability-distribution-for-all-time-steps-(1-point)-1.3.1\">1.3 a) Compute the probability distribution for all time steps (1 point)</a></span></li><li><span><a href=\"#1.3-b)-Plot-your-results-(1-point)\" data-toc-modified-id=\"1.3-b)-Plot-your-results-(1-point)-1.3.2\">1.3 b) Plot your results (1 point)</a></span></li></ul></li><li><span><a href=\"#1.4-Discuss-the-implemented-boundary-conditions-(2-points)\" data-toc-modified-id=\"1.4-Discuss-the-implemented-boundary-conditions-(2-points)-1.4\">1.4 Discuss the implemented boundary conditions (2 points)</a></span></li><li><span><a href=\"#1.5-Study-the-sum-of-probabilities-as-a-function-of-time\" data-toc-modified-id=\"1.5-Study-the-sum-of-probabilities-as-a-function-of-time-1.5\">1.5 Study the sum of probabilities as a function of time</a></span><ul class=\"toc-item\"><li><span><a href=\"#1.5-a)-Plot-the-sum-of-probabilities-(1-point)\" data-toc-modified-id=\"1.5-a)-Plot-the-sum-of-probabilities-(1-point)-1.5.1\">1.5 a) Plot the sum of probabilities (1 point)</a></span></li><li><span><a href=\"#1.5-b)-Discuss-your-result-(1-point)\" data-toc-modified-id=\"1.5-b)-Discuss-your-result-(1-point)-1.5.2\">1.5 b) Discuss your result (1 point)</a></span></li></ul></li><li><span><a href=\"#1.-6-Study-the-derivative-of-the-sum-of-probability\" data-toc-modified-id=\"1.-6-Study-the-derivative-of-the-sum-of-probability-1.6\">1. 6 Study the derivative of the sum of probability</a></span><ul class=\"toc-item\"><li><span><a href=\"#1.6-a)-Plot-the-derivative-(1-point)\" data-toc-modified-id=\"1.6-a)-Plot-the-derivative-(1-point)-1.6.1\">1.6 a) Plot the derivative (1 point)</a></span></li><li><span><a href=\"#1.6-b)-Compare-the-result-to-reaction-time-distributions-(1-point)\" data-toc-modified-id=\"1.6-b)-Compare-the-result-to-reaction-time-distributions-(1-point)-1.6.2\">1.6 b) Compare the result to reaction time distributions (1 point)</a></span></li></ul></li><li><span><a href=\"#1.7-Discuss-your-results-(2-points)\" data-toc-modified-id=\"1.7-Discuss-your-results-(2-points)-1.7\">1.7 Discuss your results (2 points)</a></span></li></ul></li><li><span><a href=\"#Exercise-2:-Fokker-Planck-(8-points-+-1-bonus-point)\" data-toc-modified-id=\"Exercise-2:-Fokker-Planck-(8-points-+-1-bonus-point)-2\">Exercise 2: Fokker-Planck (8 points + 1 bonus point)</a></span><ul class=\"toc-item\"><li><span><a href=\"#2.1-Generate-another-matrix-for-your-time-dependent-distribution-(0-points)\" data-toc-modified-id=\"2.1-Generate-another-matrix-for-your-time-dependent-distribution-(0-points)-2.1\">2.1 Generate another matrix for your time-dependent distribution (0 points)</a></span></li><li><span><a href=\"#2.2-Implement-the-Fokker-Planck-differential-operator-(1-point)\" data-toc-modified-id=\"2.2-Implement-the-Fokker-Planck-differential-operator-(1-point)-2.2\">2.2 Implement the Fokker-Planck differential operator (1 point)</a></span></li><li><span><a href=\"#2.3-Compute-the-time-dependent-distribution\" data-toc-modified-id=\"2.3-Compute-the-time-dependent-distribution-2.3\">2.3 Compute the time-dependent distribution</a></span><ul class=\"toc-item\"><li><span><a href=\"#2.3-a)-Compute-the-probability-distribution-for-all-time-steps-(1-point)\" data-toc-modified-id=\"2.3-a)-Compute-the-probability-distribution-for-all-time-steps-(1-point)-2.3.1\">2.3 a) Compute the probability distribution for all time steps (1 point)</a></span></li><li><span><a href=\"#2.3-b)-Discuss-your-results-(1-point)\" data-toc-modified-id=\"2.3-b)-Discuss-your-results-(1-point)-2.3.2\">2.3 b) Discuss your results (1 point)</a></span></li></ul></li><li><span><a href=\"#2.4-Repeat-with-a-different-integration-time-step\" data-toc-modified-id=\"2.4-Repeat-with-a-different-integration-time-step-2.4\">2.4 Repeat with a different integration time step</a></span><ul class=\"toc-item\"><li><span><a href=\"#2.4-a)-Recompute-the-integration-(1-point)\" data-toc-modified-id=\"2.4-a)-Recompute-the-integration-(1-point)-2.4.1\">2.4 a) Recompute the integration (1 point)</a></span></li><li><span><a href=\"#2.4-b)-Discuss-your-results-(1-point)\" data-toc-modified-id=\"2.4-b)-Discuss-your-results-(1-point)-2.4.2\">2.4 b) Discuss your results (1 point)</a></span></li></ul></li><li><span><a href=\"#2.5-Compare-Chapman-Kolmogorov-and-Fokker-Planck-results\" data-toc-modified-id=\"2.5-Compare-Chapman-Kolmogorov-and-Fokker-Planck-results-2.5\">2.5 Compare Chapman-Kolmogorov and Fokker-Planck results</a></span><ul class=\"toc-item\"><li><span><a href=\"#2.5-a)-Plot-the-results-together-(0.5-points)\" data-toc-modified-id=\"2.5-a)-Plot-the-results-together-(0.5-points)-2.5.1\">2.5 a) Plot the results together (0.5 points)</a></span></li><li><span><a href=\"#2.5-b)-How-to-they-differ?-(0.5-points)\" data-toc-modified-id=\"2.5-b)-How-to-they-differ?-(0.5-points)-2.5.2\">2.5 b) How to they differ? (0.5 points)</a></span></li></ul></li><li><span><a href=\"#2.6-Implement-a-different-initial-condition\" data-toc-modified-id=\"2.6-Implement-a-different-initial-condition-2.6\">2.6 Implement a different initial condition</a></span><ul class=\"toc-item\"><li><span><a href=\"#2.6-a)-Implement-a-Gaussian-initial-condition-(1-point)\" data-toc-modified-id=\"2.6-a)-Implement-a-Gaussian-initial-condition-(1-point)-2.6.1\">2.6 a) Implement a Gaussian initial condition (1 point)</a></span></li><li><span><a href=\"#2.6-b)-Integrate-and-plot-(1-point)\" data-toc-modified-id=\"2.6-b)-Integrate-and-plot-(1-point)-2.6.2\">2.6 b) Integrate and plot (1 point)</a></span></li><li><span><a href=\"#2.6-c)-Discuss-your-results-(1-bonus-point)\" data-toc-modified-id=\"2.6-c)-Discuss-your-results-(1-bonus-point)-2.6.3\">2.6 c) Discuss your results (1 bonus point)</a></span></li></ul></li></ul></li></ul></div>"
   ]
  },
  {
   "cell_type": "code",
   "execution_count": 2,
   "metadata": {
    "deletable": false,
    "editable": false,
    "nbgrader": {
     "cell_type": "code",
     "checksum": "2edfca0803fe53c7ea4fc108acaba177",
     "grade": false,
     "grade_id": "imports",
     "locked": true,
     "schema_version": 3,
     "solution": false,
     "task": false
    }
   },
   "outputs": [],
   "source": [
    "# Necessary imports for this exercise, you can't modify these\n",
    "import numpy as np\n",
    "import matplotlib.pyplot as plt\n",
    "\n",
    "# Import functions defined in the ./helpers.py file\n",
    "from helpers import assert_var_defined"
   ]
  },
  {
   "cell_type": "code",
   "execution_count": 3,
   "metadata": {},
   "outputs": [],
   "source": [
    "# You can add your additional package imports here\n",
    "\n",
    "# Create plots inline in the Jupyter notebook\n",
    "%matplotlib inline"
   ]
  },
  {
   "attachments": {},
   "cell_type": "markdown",
   "metadata": {
    "deletable": false,
    "editable": false,
    "nbgrader": {
     "cell_type": "markdown",
     "checksum": "5af9b8760c35c2789933ec44e3aa4d24",
     "grade": false,
     "grade_id": "1-intro",
     "locked": true,
     "schema_version": 3,
     "solution": false,
     "task": false
    }
   },
   "source": [
    "## Exercise 1: Chapman-Kolmogorov (12 points)\n",
    "\n",
    "In this exercise we will use the Chapman-Kolmogorov equation to find the time-dependent distribution of the decision variable in a drift-diffusion model for decision making.\n",
    "\n",
    "The Chapman-Kolmogorov equation is defined as\n",
    "\n",
    "$$\n",
    "P(x, t + \\Delta t | x_0) = \\int P(x | x'; \\Delta t) P(x', t | x_0) dx',\n",
    "$$\n",
    "\n",
    "where \n",
    "\n",
    "$$\n",
    "P(x | x'; \\Delta t)\n",
    "$$\n",
    "\n",
    "is the transition probability from $x'$ to $x$ in the small time interval $\\Delta t$ and $x_0$ is the initial condition of $x$.\n"
   ]
  },
  {
   "attachments": {},
   "cell_type": "markdown",
   "metadata": {
    "deletable": false,
    "editable": false,
    "nbgrader": {
     "cell_type": "markdown",
     "checksum": "0800e11b9758104d2c1baa522bcc5936",
     "grade": false,
     "grade_id": "1-1-task",
     "locked": true,
     "schema_version": 3,
     "solution": false,
     "task": false
    }
   },
   "source": [
    "### 1.1 Define an array that will store your time-dependent distribution (1 point)\n",
    "\n",
    "Since we are interested in the time evolution of the distribution, you should first generate an N × M matrix for $P(x, t)$, where the first column contains an initial condition ensuring the particle rests in the center bin. \n",
    "Use $N = 2 \\cdot 50 + 1$ dimensionless positions (each a distance of $1$ apart, so $\\Delta x = 1$) and $M = \\frac{1000}{\\Delta t}$ time steps, where $\\Delta t$ = 1. Call this matrix `P1`."
   ]
  },
  {
   "cell_type": "code",
   "execution_count": 4,
   "metadata": {
    "deletable": false,
    "nbgrader": {
     "cell_type": "code",
     "checksum": "ec31040721d341e762d35fbc734fb34c",
     "grade": false,
     "grade_id": "1-1-answer",
     "locked": false,
     "schema_version": 3,
     "solution": true,
     "task": false
    }
   },
   "outputs": [],
   "source": [
    "# YOUR CODE HERE\n",
    "#define a n*m matrix P1\n",
    "n= 2*50 + 1\n",
    "dt=1.\n",
    "m=1000\n",
    "P1=np.zeros((n,m))\n",
    "P1[:,0]=0.0\n",
    "P1[51,0]=1\n",
    "# assumimg that x0 is the center position, so in t=0, the probability of being in the center is 1\n",
    "# raise NotImplementedError()"
   ]
  },
  {
   "cell_type": "code",
   "execution_count": 5,
   "metadata": {
    "deletable": false,
    "editable": false,
    "nbgrader": {
     "cell_type": "code",
     "checksum": "74e5d4907c21f90da24ec0589820c692",
     "grade": true,
     "grade_id": "1-1-tests",
     "locked": true,
     "points": 1,
     "schema_version": 3,
     "solution": false,
     "task": false
    }
   },
   "outputs": [],
   "source": [
    "\"\"\" Test that variable `P1` is defined \"\"\"\n",
    "\n",
    "assert_var_defined(\"P1\")"
   ]
  },
  {
   "attachments": {},
   "cell_type": "markdown",
   "metadata": {
    "deletable": false,
    "editable": false,
    "nbgrader": {
     "cell_type": "markdown",
     "checksum": "13257e9ec34d282054edd5704692e2eb",
     "grade": false,
     "grade_id": "1-2-task",
     "locked": true,
     "schema_version": 3,
     "solution": false,
     "task": false
    }
   },
   "source": [
    "### 1.2 Define the transition probability matrix (1 point)\n",
    "\n",
    "Use the transition probability for the standard drift diffusion model\n",
    "\n",
    "$$\n",
    "P(x|x' ; \\Delta t) = \\frac{1}{\\sqrt{2\\pi \\sigma^{2} \\Delta t}}exp\\{- \\frac{(x-x ' - \\mu \\Delta t)^{2}}{2 \\sigma^{2} \\Delta t}\\}\n",
    "$$\n",
    "\n",
    "to compute the matrix of probabilities of transitioning to any $x$ from any $x'$ (take $\\mu$ = 0.1, $\\sigma$ = 1.0). This should result in an N × N matrix where each row contains the probabilities of transition from a particular $x'$ (the columns) into the corresponding $x$ (the row) in the next time step. Call this matrix `P1_transition`."
   ]
  },
  {
   "cell_type": "code",
   "execution_count": 6,
   "metadata": {
    "deletable": false,
    "nbgrader": {
     "cell_type": "code",
     "checksum": "acf6b35459a5e9cf27713b4f6eaf1efa",
     "grade": false,
     "grade_id": "1-2-answer",
     "locked": false,
     "schema_version": 3,
     "solution": true,
     "task": false
    }
   },
   "outputs": [],
   "source": [
    "# YOUR CODE HERE\n",
    "P1_transition=np.zeros((n,n))\n",
    "\n",
    "miu=0.1\n",
    "sigma=1.0\n",
    "\n",
    "for x in range(n):\n",
    "    for x_prime in range(n):\n",
    "        P1_transition[x,x_prime]=1/(np.sqrt(2*np.pi*sigma**2*dt))*np.exp(-((x-x_prime-miu*dt)**2)/(2*sigma**2*dt))\n",
    "# raise NotImplementedError()"
   ]
  },
  {
   "cell_type": "code",
   "execution_count": null,
   "metadata": {
    "deletable": false,
    "editable": false,
    "nbgrader": {
     "cell_type": "code",
     "checksum": "b7ecc36f50b3c7e6014e9be08a1a0301",
     "grade": true,
     "grade_id": "1-2-tests",
     "locked": true,
     "points": 1,
     "schema_version": 3,
     "solution": false,
     "task": false
    }
   },
   "outputs": [],
   "source": [
    "\"\"\" Test that variable `P1_transision` is defined \"\"\"\n",
    "\n",
    "assert_var_defined(\"P1_transition\")"
   ]
  },
  {
   "attachments": {},
   "cell_type": "markdown",
   "metadata": {
    "deletable": false,
    "editable": false,
    "nbgrader": {
     "cell_type": "markdown",
     "checksum": "6a0ec91e91a7d4cf15e704b462746b89",
     "grade": false,
     "grade_id": "1-3-a-task",
     "locked": true,
     "schema_version": 3,
     "solution": false,
     "task": false
    }
   },
   "source": [
    "### 1.3 Compute the time-dependent distribution\n",
    "\n",
    "#### 1.3 a) Compute the probability distribution for all time steps (1 point)\n",
    "Now use your transition matrix to compute the distribution at each successive time step for all t. Your results should be store in your `P1` matrix."
   ]
  },
  {
   "cell_type": "code",
   "execution_count": 17,
   "metadata": {
    "deletable": false,
    "nbgrader": {
     "cell_type": "code",
     "checksum": "586e9b083d71c7c56c42ea24011245be",
     "grade": false,
     "grade_id": "1-3-a-answer",
     "locked": false,
     "schema_version": 3,
     "solution": true,
     "task": false
    }
   },
   "outputs": [],
   "source": [
    "# YOUR CODE HERE\n",
    "for t in range(1,m):\n",
    "    P1[:,t]=np.dot(P1_transition,P1[:,t-1])\n",
    "    # normaliziation of the probability\n",
    "# for t in range(m):\n",
    "#     P1[:,t]=P1[:,t]/np.sum(P1[:,t])\n",
    "\n",
    "\n",
    "    # print(P1[0,t])\n",
    "    # print(P1[50,t])\n",
    "\n",
    "# raise NotImplementedError()"
   ]
  },
  {
   "cell_type": "code",
   "execution_count": null,
   "metadata": {
    "deletable": false,
    "editable": false,
    "nbgrader": {
     "cell_type": "code",
     "checksum": "728bc45cf9c145ec47ae4576add4c55c",
     "grade": true,
     "grade_id": "1-3-a-tests",
     "locked": true,
     "points": 1,
     "schema_version": 3,
     "solution": false,
     "task": false
    }
   },
   "outputs": [],
   "source": [
    "\"\"\" Test that variable `P1` is defined \"\"\"\n",
    "\n",
    "assert_var_defined(\"P1\")"
   ]
  },
  {
   "attachments": {},
   "cell_type": "markdown",
   "metadata": {
    "deletable": false,
    "editable": false,
    "nbgrader": {
     "cell_type": "markdown",
     "checksum": "29227dfc6298bae4392a40c587d556a8",
     "grade": false,
     "grade_id": "1-3-b-task",
     "locked": true,
     "schema_version": 3,
     "solution": false,
     "task": false
    }
   },
   "source": [
    "#### 1.3 b) Plot your results (1 point)\n",
    "\n",
    "Generate two plots:\n",
    "1. Plot your result using imshow. Process your data in some fashion to ensure that the distribution is well visualized past the first 100 steps.\n",
    "2. Plot your distribution over $x$ at several different time points that illustrate the development over time."
   ]
  },
  {
   "cell_type": "code",
   "execution_count": 19,
   "metadata": {
    "deletable": false,
    "nbgrader": {
     "cell_type": "code",
     "checksum": "78c33e42ebaac2bf55a212b800a88001",
     "grade": true,
     "grade_id": "1-3-b-answer",
     "locked": false,
     "points": 1,
     "schema_version": 3,
     "solution": true,
     "task": false
    }
   },
   "outputs": [
    {
     "name": "stdout",
     "output_type": "stream",
     "text": [
      "[[ True  True  True ...  True  True  True]\n",
      " [ True  True  True ...  True  True  True]\n",
      " [ True  True  True ...  True  True  True]\n",
      " ...\n",
      " [ True  True  True ...  True  True  True]\n",
      " [ True  True  True ...  True  True  True]\n",
      " [ True  True  True ...  True  True  True]]\n"
     ]
    },
    {
     "data": {
      "text/plain": [
       "Text(0.5, 1.0, 'time=800')"
      ]
     },
     "execution_count": 19,
     "metadata": {},
     "output_type": "execute_result"
    },
    {
     "data": {
      "image/png": "[encoded data removed]",
      "text/plain": [
       "<Figure size 2880x7200 with 1 Axes>"
      ]
     },
     "metadata": {
      "needs_background": "light"
     },
     "output_type": "display_data"
    },
    {
     "data": {
      "image/png": "[encoded data removed]",
      "text/plain": [
       "<Figure size 1440x720 with 4 Axes>"
      ]
     },
     "metadata": {
      "needs_background": "light"
     },
     "output_type": "display_data"
    }
   ],
   "source": [
    "# YOUR CODE HERE\n",
    "visual_P1=np.zeros((n,m))\n",
    "\n",
    "for t in range(m):\n",
    "    visual_P1[:,t]=(P1[:,t]-np.min(P1[:,t]))/(np.max(P1[:,t])-np.min(P1[:,t]))\n",
    "\n",
    "print(visual_P1==P1)\n",
    "\n",
    "plt.figure(figsize=(40,100))\n",
    "plt.imshow(P1, cmap='afmhot', origin='lower')\n",
    "plt.xlabel('time')\n",
    "plt.ylabel('position')\n",
    "plt.title('time-position probability distribution')\n",
    "\n",
    "\n",
    "\n",
    "plt.figure(figsize=(20,10))\n",
    "plt.subplot(1,4,1)\n",
    "plt.plot(P1[:,0])\n",
    "plt.xlabel('position')\n",
    "plt.ylabel('probability')\n",
    "plt.title('time=0')\n",
    "\n",
    "plt.subplot(1,4,2)\n",
    "plt.plot(P1[:,20])\n",
    "plt.xlabel('position')  \n",
    "plt.ylabel('probability')\n",
    "plt.title('time=20')\n",
    "\n",
    "plt.subplot(1,4,3)\n",
    "plt.plot(P1[:,150])\n",
    "plt.xlabel('position')  \n",
    "plt.ylabel('probability')\n",
    "plt.title('time=150')\n",
    "\n",
    "plt.subplot(1,4,4)\n",
    "plt.plot(P1[:,800])\n",
    "plt.xlabel('position')  \n",
    "plt.ylabel('probability')\n",
    "plt.title('time=800')"
   ]
  },
  {
   "attachments": {},
   "cell_type": "markdown",
   "metadata": {
    "deletable": false,
    "editable": false,
    "nbgrader": {
     "cell_type": "markdown",
     "checksum": "2bbcb4b1e130d08e114cfbbcc031aa37",
     "grade": false,
     "grade_id": "1-4-task",
     "locked": true,
     "schema_version": 3,
     "solution": false,
     "task": false
    }
   },
   "source": [
    "### 1.4 Discuss the implemented boundary conditions (2 points)\n",
    "\n",
    "- If you look at the results, which boundary condition do you think you have implemented?\n",
    "- Which part of the code is responsible for that?\n",
    "- Does the implemented boundary condition make sense for what we want to simulate?"
   ]
  },
  {
   "attachments": {},
   "cell_type": "markdown",
   "metadata": {
    "deletable": false,
    "nbgrader": {
     "cell_type": "markdown",
     "checksum": "7ab633031fe0813f1e55add151179e61",
     "grade": true,
     "grade_id": "1-4-answer",
     "locked": false,
     "points": 2,
     "schema_version": 3,
     "solution": true,
     "task": false
    }
   },
   "source": [
    "* we observe that the $P(x, t)$ at $abs(x)>100$ and $abs(x)<0$ is 0 and when $x$ reaches 0 it is still zero so we have absorbing bc at $x=0$ but we don't get 0 at $x=100$ over t\n",
    "* the Transiton matrix, and choice of values of $\\mu$\n",
    "* we need to have absorbing bv in both +a and -a so no!"
   ]
  },
  {
   "attachments": {},
   "cell_type": "markdown",
   "metadata": {
    "deletable": false,
    "editable": false,
    "nbgrader": {
     "cell_type": "markdown",
     "checksum": "4c0e08454278912be4cdae44518f1ae7",
     "grade": false,
     "grade_id": "1-5-task",
     "locked": true,
     "schema_version": 3,
     "solution": false,
     "task": false
    }
   },
   "source": [
    "### 1.5 Study the sum of probabilities as a function of time\n",
    "\n",
    "#### 1.5 a) Plot the sum of probabilities (1 point)\n",
    "\n",
    "Plot the sum of the probabilities as a function of time (that is, sum along the position axis).\n"
   ]
  },
  {
   "cell_type": "code",
   "execution_count": null,
   "metadata": {
    "deletable": false,
    "nbgrader": {
     "cell_type": "code",
     "checksum": "25ff77bf502841bdd08d4aac7b36b586",
     "grade": true,
     "grade_id": "1-5-answer",
     "locked": false,
     "points": 1,
     "schema_version": 3,
     "solution": true,
     "task": false
    }
   },
   "outputs": [],
   "source": [
    "# YOUR CODE HERE\n",
    "sum_P1=np.empty((m,1))\n",
    "for t in range(m):\n",
    "    #get the column sum of P1 at column t\n",
    "    sum_P1[t]=np.sum(P1[:,t],axis=0)\n",
    "plt.figure(figsize=(20,10))\n",
    "plt.plot(sum_P1)\n",
    "# raise NotImplementedError()"
   ]
  },
  {
   "attachments": {},
   "cell_type": "markdown",
   "metadata": {
    "deletable": false,
    "editable": false,
    "nbgrader": {
     "cell_type": "markdown",
     "checksum": "a96f26ab82b7d85dd29b302bc95fabbe",
     "grade": false,
     "grade_id": "1-5-b-task",
     "locked": true,
     "schema_version": 3,
     "solution": false,
     "task": false
    }
   },
   "source": [
    "#### 1.5 b) Discuss your result (1 point)\n",
    "\n",
    "Why are the probabilities not normalized? How can you interpret this plot?"
   ]
  },
  {
   "attachments": {},
   "cell_type": "markdown",
   "metadata": {
    "deletable": false,
    "nbgrader": {
     "cell_type": "markdown",
     "checksum": "371cd38f4f4926e8768f54eb33edabde",
     "grade": true,
     "grade_id": "1-5-b-answer",
     "locked": false,
     "points": 1,
     "schema_version": 3,
     "solution": true,
     "task": false
    }
   },
   "source": [
    "we are propagating a delta distribution at $t=0$ by a normal transition distribution which do not keep all the values in [-a,a] and is basically it has a probability over the real line"
   ]
  },
  {
   "attachments": {},
   "cell_type": "markdown",
   "metadata": {
    "deletable": false,
    "editable": false,
    "nbgrader": {
     "cell_type": "markdown",
     "checksum": "3ccde786e9c83ce9e30ab82d7a8e716e",
     "grade": false,
     "grade_id": "1-6-task",
     "locked": true,
     "schema_version": 3,
     "solution": false,
     "task": false
    }
   },
   "source": [
    "### 1. 6 Study the derivative of the sum of probability\n",
    "\n",
    "#### 1.6 a) Plot the derivative (1 point)\n",
    "\n",
    "Plot the negative derivative (use `np.diff` for the derivative) of the summed probability computed in the previous step."
   ]
  },
  {
   "cell_type": "code",
   "execution_count": null,
   "metadata": {
    "deletable": false,
    "nbgrader": {
     "cell_type": "code",
     "checksum": "00b6049316582bc9b09e94be1024cc78",
     "grade": true,
     "grade_id": "1-6-answer",
     "locked": false,
     "points": 1,
     "schema_version": 3,
     "solution": true,
     "task": false
    }
   },
   "outputs": [],
   "source": [
    "# YOUR CODE HERE\n",
    "d_sum_P1=np.diff(sum_P1,axis=0)\n",
    "plt.figure()\n",
    "plt.plot(-d_sum_P1)\n",
    "# raise NotImplementedError()"
   ]
  },
  {
   "attachments": {},
   "cell_type": "markdown",
   "metadata": {
    "deletable": false,
    "editable": false,
    "nbgrader": {
     "cell_type": "markdown",
     "checksum": "e6c2a2f20f93cd3286864066d4895380",
     "grade": false,
     "grade_id": "1-6-b-task",
     "locked": true,
     "schema_version": 3,
     "solution": false,
     "task": false
    }
   },
   "source": [
    "#### 1.6 b) Compare the result to reaction time distributions (1 point)\n",
    "Compare this plot to the histogram of response times obtained in exercise 1.4 of the *Decision Making I* sheet. What can you infer about their relationship?"
   ]
  },
  {
   "attachments": {},
   "cell_type": "markdown",
   "metadata": {
    "deletable": false,
    "nbgrader": {
     "cell_type": "markdown",
     "checksum": "7b1f08b72aaadc75d4082c429cbabd5e",
     "grade": true,
     "grade_id": "1-6-b-answer",
     "locked": false,
     "points": 1,
     "schema_version": 3,
     "solution": true,
     "task": false
    }
   },
   "source": [
    "YOUR ANSWER HERE"
   ]
  },
  {
   "attachments": {},
   "cell_type": "markdown",
   "metadata": {
    "deletable": false,
    "editable": false,
    "nbgrader": {
     "cell_type": "markdown",
     "checksum": "a7ce59d0ccba0711b7ceae7fd66f2747",
     "grade": false,
     "grade_id": "1-7-task",
     "locked": true,
     "schema_version": 3,
     "solution": false,
     "task": false
    }
   },
   "source": [
    "### 1.7 Discuss your results (2 points)\n",
    "\n",
    "Could you determine from these results, how the probability of making each of the two decisions evolves over time?\n",
    "If not, how could you modify your solution to make this possible?"
   ]
  },
  {
   "attachments": {},
   "cell_type": "markdown",
   "metadata": {
    "deletable": false,
    "nbgrader": {
     "cell_type": "markdown",
     "checksum": "3375776a41859e8b3817c20b6e1b69e4",
     "grade": true,
     "grade_id": "1-7-answer",
     "locked": false,
     "points": 2,
     "schema_version": 3,
     "solution": true,
     "task": false
    }
   },
   "source": [
    "YOUR ANSWER HERE"
   ]
  },
  {
   "attachments": {},
   "cell_type": "markdown",
   "metadata": {
    "deletable": false,
    "editable": false,
    "nbgrader": {
     "cell_type": "markdown",
     "checksum": "7d635185334c2943ab605e085564eb5f",
     "grade": false,
     "grade_id": "2-intro",
     "locked": true,
     "schema_version": 3,
     "solution": false,
     "task": false
    }
   },
   "source": [
    "## Exercise 2: Fokker-Planck (8 points + 1 bonus point)\n",
    "\n",
    "In this exercise we will integrate the Fokker-Planck equation to accomplish the same as\n",
    "in Exercise 1."
   ]
  },
  {
   "attachments": {},
   "cell_type": "markdown",
   "metadata": {
    "deletable": false,
    "editable": false,
    "nbgrader": {
     "cell_type": "markdown",
     "checksum": "36ae2db3813fbd8e885d706669865fad",
     "grade": false,
     "grade_id": "2-1-task",
     "locked": true,
     "schema_version": 3,
     "solution": false,
     "task": false
    }
   },
   "source": [
    "### 2.1 Generate another matrix for your time-dependent distribution (0 points)\n",
    "\n",
    "Once again create a matrix for the distribution over time as per 1.1. Call this matrix `P2`."
   ]
  },
  {
   "cell_type": "code",
   "execution_count": null,
   "metadata": {
    "deletable": false,
    "nbgrader": {
     "cell_type": "code",
     "checksum": "b591472aaacf69ebe13c586622b714be",
     "grade": false,
     "grade_id": "2-1-answer",
     "locked": false,
     "schema_version": 3,
     "solution": true,
     "task": false
    }
   },
   "outputs": [],
   "source": [
    "# YOUR CODE HERE\n",
    "raise NotImplementedError()"
   ]
  },
  {
   "cell_type": "code",
   "execution_count": null,
   "metadata": {
    "deletable": false,
    "editable": false,
    "nbgrader": {
     "cell_type": "code",
     "checksum": "a91b62f14da103bd3573ffbc62181042",
     "grade": true,
     "grade_id": "2-1-tests",
     "locked": true,
     "points": 0,
     "schema_version": 3,
     "solution": false,
     "task": false
    }
   },
   "outputs": [],
   "source": [
    "\"\"\" Test that variable `P2` is defined \"\"\"\n",
    "\n",
    "assert_var_defined(\"P2\")"
   ]
  },
  {
   "attachments": {},
   "cell_type": "markdown",
   "metadata": {
    "deletable": false,
    "editable": false,
    "nbgrader": {
     "cell_type": "markdown",
     "checksum": "1d3c127b4b37cc92e322596d488aa9f1",
     "grade": false,
     "grade_id": "2-2-task",
     "locked": true,
     "schema_version": 3,
     "solution": false,
     "task": false
    }
   },
   "source": [
    "### 2.2 Implement the Fokker-Planck differential operator (1 point)\n",
    "\n",
    "Instead of using the Chapman-Kolmogorov equation to determine the transition probabilities, this time we will integrate the Fokker-Planck equation for the drift diffusion model:\n",
    "\n",
    "$$\n",
    "\\frac{\\partial P(x,t|x_{0})}{\\partial t} = - \\mu \\frac{\\partial P(x,t|x_{0})}{\\partial x} + \\frac{1}{2} \\sigma^{2} \\frac{\\partial^{2}P(x,t|x_{0})}{\\partial x}.\n",
    "$$\n",
    "\n",
    "If one performs a discrete integration using the [FTCS method](https://en.wikipedia.org/wiki/FTCS_scheme) (a form of the Euler method), the distribution evolves according to:\n",
    "\n",
    "$$\n",
    "\\begin{align}\n",
    "    P(x,t+ \\Delta t) = \\Big[ &(1 - r \\sigma^{2})P(x,t) \\\\\n",
    "    &+ \\frac{1}{2}(-\\Delta xr\\mu + r\\sigma^{2})P(x + \\Delta x, t) \\\\\n",
    "    &+ \\frac{1}{2}(\\Delta xr \\mu + r \\sigma^{2})P(x - \\Delta x, t) \\Big]\n",
    "\\end{align}\n",
    "$$\n",
    "\n",
    "where $r = \\frac{\\Delta t}{\\Delta x^{2}}$.\n",
    "\n",
    "Create an $N × N$ matrix that implements this discretized Fokker-Planck differential operator (hint: the rows should be zero everywhere aside from the three values centered on the diagonal). Call this transition matrix `P2_transition`."
   ]
  },
  {
   "cell_type": "code",
   "execution_count": null,
   "metadata": {
    "deletable": false,
    "nbgrader": {
     "cell_type": "code",
     "checksum": "0f179f7919976edaa4cfd774bee2f736",
     "grade": false,
     "grade_id": "2-2-answer",
     "locked": false,
     "schema_version": 3,
     "solution": true,
     "task": false
    }
   },
   "outputs": [],
   "source": [
    "# YOUR CODE HERE\n",
    "raise NotImplementedError()"
   ]
  },
  {
   "cell_type": "code",
   "execution_count": null,
   "metadata": {
    "deletable": false,
    "editable": false,
    "nbgrader": {
     "cell_type": "code",
     "checksum": "5c67444943f75f7f69dabc4dfbfd0157",
     "grade": true,
     "grade_id": "2-2-tests",
     "locked": true,
     "points": 1,
     "schema_version": 3,
     "solution": false,
     "task": false
    }
   },
   "outputs": [],
   "source": [
    "\"\"\" Test that variable `P2_transision` is defined \"\"\"\n",
    "\n",
    "assert_var_defined(\"P2_transition\")"
   ]
  },
  {
   "attachments": {},
   "cell_type": "markdown",
   "metadata": {
    "deletable": false,
    "editable": false,
    "nbgrader": {
     "cell_type": "markdown",
     "checksum": "7d626b92701257554af4e309a3a1d2c3",
     "grade": false,
     "grade_id": "2-3-task",
     "locked": true,
     "schema_version": 3,
     "solution": false,
     "task": false
    }
   },
   "source": [
    "### 2.3 Compute the time-dependent distribution\n",
    "\n",
    "#### 2.3 a) Compute the probability distribution for all time steps (1 point)\n",
    "Use the transition matrix from the previous step to compute the time-dependent distribution and plot your results as in exercise 1.3.\n"
   ]
  },
  {
   "cell_type": "code",
   "execution_count": null,
   "metadata": {
    "deletable": false,
    "nbgrader": {
     "cell_type": "code",
     "checksum": "a3da7ea4da3a548beeac5838535f8d94",
     "grade": true,
     "grade_id": "2-3-answer",
     "locked": false,
     "points": 1,
     "schema_version": 3,
     "solution": true,
     "task": false
    }
   },
   "outputs": [],
   "source": [
    "# YOUR CODE HERE\n",
    "raise NotImplementedError()"
   ]
  },
  {
   "attachments": {},
   "cell_type": "markdown",
   "metadata": {
    "deletable": false,
    "editable": false,
    "nbgrader": {
     "cell_type": "markdown",
     "checksum": "52cedb954e6d38c84d170677ad7b19cc",
     "grade": false,
     "grade_id": "2-3-b-task",
     "locked": true,
     "schema_version": 3,
     "solution": false,
     "task": false
    }
   },
   "source": [
    "#### 2.3 b) Discuss your results (1 point)\n",
    "\n",
    "Look closely at the first several time steps, and comment on whether the system behaves as you expect."
   ]
  },
  {
   "cell_type": "code",
   "execution_count": null,
   "metadata": {
    "deletable": false,
    "nbgrader": {
     "cell_type": "code",
     "checksum": "7c9592d90c1e1bee9a0e3adeecd7004e",
     "grade": true,
     "grade_id": "2-3-b-answer1",
     "locked": false,
     "points": 0,
     "schema_version": 3,
     "solution": true,
     "task": false
    }
   },
   "outputs": [],
   "source": [
    "# YOUR CODE HERE\n",
    "raise NotImplementedError()"
   ]
  },
  {
   "attachments": {},
   "cell_type": "markdown",
   "metadata": {
    "deletable": false,
    "nbgrader": {
     "cell_type": "markdown",
     "checksum": "4a72a35bab3b158cfd21e06e91111493",
     "grade": true,
     "grade_id": "2-3-answer2",
     "locked": false,
     "points": 1,
     "schema_version": 3,
     "solution": true,
     "task": false
    }
   },
   "source": [
    "YOUR ANSWER HERE"
   ]
  },
  {
   "attachments": {},
   "cell_type": "markdown",
   "metadata": {
    "deletable": false,
    "editable": false,
    "nbgrader": {
     "cell_type": "markdown",
     "checksum": "91e394308f2b12896de6fb81176a34d1",
     "grade": false,
     "grade_id": "2-4-task",
     "locked": true,
     "schema_version": 3,
     "solution": false,
     "task": false
    }
   },
   "source": [
    "### 2.4 Repeat with a different integration time step\n",
    "\n",
    "#### 2.4 a) Recompute the integration (1 point)\n",
    "\n",
    "Recompute the N × N transition matrix but with $\\Delta t  = 0.5$ (you’ll also need a new N × M matrix for the distribution).\n"
   ]
  },
  {
   "cell_type": "code",
   "execution_count": null,
   "metadata": {
    "deletable": false,
    "nbgrader": {
     "cell_type": "code",
     "checksum": "fdf78a1c776da411a7b5940366581388",
     "grade": true,
     "grade_id": "2-4-answer",
     "locked": false,
     "points": 1,
     "schema_version": 3,
     "solution": true,
     "task": false
    }
   },
   "outputs": [],
   "source": [
    "# YOUR CODE HERE\n",
    "raise NotImplementedError()"
   ]
  },
  {
   "attachments": {},
   "cell_type": "markdown",
   "metadata": {
    "deletable": false,
    "editable": false,
    "nbgrader": {
     "cell_type": "markdown",
     "checksum": "09b4433d925cee847d3fa1227dd4f304",
     "grade": false,
     "grade_id": "2-4-b-task",
     "locked": true,
     "schema_version": 3,
     "solution": false,
     "task": false
    }
   },
   "source": [
    "#### 2.4 b) Discuss your results (1 point)\n",
    "Did this improve on the previous result? Can you guess why this might be?"
   ]
  },
  {
   "attachments": {},
   "cell_type": "markdown",
   "metadata": {
    "deletable": false,
    "nbgrader": {
     "cell_type": "markdown",
     "checksum": "e7eea5ac7f6820d7eff1213d830cdb29",
     "grade": true,
     "grade_id": "2-4-b-answer",
     "locked": false,
     "points": 1,
     "schema_version": 3,
     "solution": true,
     "task": false
    }
   },
   "source": [
    "YOUR ANSWER HERE"
   ]
  },
  {
   "attachments": {},
   "cell_type": "markdown",
   "metadata": {
    "deletable": false,
    "editable": false,
    "nbgrader": {
     "cell_type": "markdown",
     "checksum": "98b445defdcf585aab89e14da1be3b57",
     "grade": false,
     "grade_id": "2-5-task",
     "locked": true,
     "schema_version": 3,
     "solution": false,
     "task": false
    }
   },
   "source": [
    "### 2.5 Compare Chapman-Kolmogorov and Fokker-Planck results\n",
    "\n",
    "#### 2.5 a) Plot the results together (0.5 points)\n",
    "\n",
    "Plot\n",
    "$$\n",
    "\\frac{-1}{\\log (P(t) + \\epsilon))}\n",
    "$$\n",
    "\n",
    "for a few early time steps for the Fokker-Planck solution (pick some very small but non-zero $\\epsilon$). Make the same plots for the Chapman-Kolmogorov solution and plot them together such that you can compare the solutions for different time points.\n"
   ]
  },
  {
   "cell_type": "code",
   "execution_count": null,
   "metadata": {
    "deletable": false,
    "nbgrader": {
     "cell_type": "code",
     "checksum": "dd3e3bd34a41ae1eecf99990a2a63647",
     "grade": true,
     "grade_id": "2-5-answer",
     "locked": false,
     "points": 0.5,
     "schema_version": 3,
     "solution": true,
     "task": false
    }
   },
   "outputs": [],
   "source": [
    "# YOUR CODE HERE\n",
    "raise NotImplementedError()"
   ]
  },
  {
   "attachments": {},
   "cell_type": "markdown",
   "metadata": {
    "deletable": false,
    "editable": false,
    "nbgrader": {
     "cell_type": "markdown",
     "checksum": "d724028699891053bc6edfbad9c67d02",
     "grade": false,
     "grade_id": "2-5-b-task",
     "locked": true,
     "schema_version": 3,
     "solution": false,
     "task": false
    }
   },
   "source": [
    "#### 2.5 b) How to they differ? (0.5 points)\n",
    "\n",
    "How are they different? Can you explain why? (Hint: Look closely at the two transformation matrices)."
   ]
  },
  {
   "attachments": {},
   "cell_type": "markdown",
   "metadata": {
    "deletable": false,
    "nbgrader": {
     "cell_type": "markdown",
     "checksum": "846c2c470679b7deb82e72d0f69e5910",
     "grade": true,
     "grade_id": "2-5-b-answer",
     "locked": false,
     "points": 0.5,
     "schema_version": 3,
     "solution": true,
     "task": false
    }
   },
   "source": [
    "YOUR ANSWER HERE"
   ]
  },
  {
   "attachments": {},
   "cell_type": "markdown",
   "metadata": {
    "deletable": false,
    "editable": false,
    "nbgrader": {
     "cell_type": "markdown",
     "checksum": "c5c690f85b0a5983c6c5f0840db11ebe",
     "grade": false,
     "grade_id": "2-6-task",
     "locked": true,
     "schema_version": 3,
     "solution": false,
     "task": false
    }
   },
   "source": [
    "### 2.6 Implement a different initial condition\n",
    "\n",
    "Now let’s try a different initial condition. \n",
    "\n",
    "#### 2.6 a) Implement a Gaussian initial condition (1 point)\n",
    "Create a new N × M matrix for the distribution over time (using the new $\\Delta t$), but this time use an initial distribution $P(x,t=0)$ which is Gaussian, centered at the midpoint with $\\sigma$ = 2. Call your matrix `P_gaussian`."
   ]
  },
  {
   "cell_type": "code",
   "execution_count": null,
   "metadata": {
    "deletable": false,
    "nbgrader": {
     "cell_type": "code",
     "checksum": "717e95bf711a3b16cc38785dac284320",
     "grade": false,
     "grade_id": "2-6-answer",
     "locked": false,
     "schema_version": 3,
     "solution": true,
     "task": false
    }
   },
   "outputs": [],
   "source": [
    "# YOUR CODE HERE\n",
    "raise NotImplementedError()"
   ]
  },
  {
   "cell_type": "code",
   "execution_count": null,
   "metadata": {
    "deletable": false,
    "editable": false,
    "nbgrader": {
     "cell_type": "code",
     "checksum": "01a5f40a9853bb5a2b926848631d4651",
     "grade": true,
     "grade_id": "2-6-tests",
     "locked": true,
     "points": 1,
     "schema_version": 3,
     "solution": false,
     "task": false
    }
   },
   "outputs": [],
   "source": [
    "\"\"\" Test that variable `P_gaussian` is defined \"\"\"\n",
    "\n",
    "assert_var_defined(\"P_gaussian\")"
   ]
  },
  {
   "attachments": {},
   "cell_type": "markdown",
   "metadata": {
    "deletable": false,
    "editable": false,
    "nbgrader": {
     "cell_type": "markdown",
     "checksum": "205fb2bf5cb21ae4ddc5fef6db5632c6",
     "grade": false,
     "grade_id": "2-7-task",
     "locked": true,
     "schema_version": 3,
     "solution": false,
     "task": false
    }
   },
   "source": [
    "#### 2.6 b) Integrate and plot (1 point)\n",
    "\n",
    "Use the Fokker-Planck differential operator to compute the time-dependent distribution. Again plot\n",
    "$$\n",
    "\\frac{-1}{\\log (P(t) + \\epsilon))}\n",
    "$$\n",
    "\n",
    "at several time points."
   ]
  },
  {
   "cell_type": "code",
   "execution_count": null,
   "metadata": {
    "deletable": false,
    "nbgrader": {
     "cell_type": "code",
     "checksum": "9bc7bba0b4a2308ef937fb8bc2efe918",
     "grade": true,
     "grade_id": "2-7-answer",
     "locked": false,
     "points": 1,
     "schema_version": 3,
     "solution": true,
     "task": false
    }
   },
   "outputs": [],
   "source": [
    "# YOUR CODE HERE\n",
    "raise NotImplementedError()"
   ]
  },
  {
   "attachments": {},
   "cell_type": "markdown",
   "metadata": {
    "deletable": false,
    "editable": false,
    "nbgrader": {
     "cell_type": "markdown",
     "checksum": "294bc2310c7781c996ab5b3995a398dd",
     "grade": false,
     "grade_id": "2-8-task",
     "locked": true,
     "schema_version": 3,
     "solution": false,
     "task": false
    }
   },
   "source": [
    "#### 2.6 c) Discuss your results (1 bonus point)\n",
    "\n",
    "This last question can gain you one bonus point for this exercise. You won't loose any points if you can't answer this question.\n",
    "\n",
    "Why does the initial condition have this effect on the computed distributions? Look at the derivation of the Fokker-Planck equation from the lecture and pay close attention to which step could fail for the first initial condition."
   ]
  },
  {
   "attachments": {},
   "cell_type": "markdown",
   "metadata": {
    "deletable": false,
    "nbgrader": {
     "cell_type": "markdown",
     "checksum": "93cce063e904f7803a5a8e137eee416c",
     "grade": true,
     "grade_id": "2-8-answer",
     "locked": false,
     "points": 0,
     "schema_version": 3,
     "solution": true,
     "task": false
    }
   },
   "source": [
    "YOUR ANSWER HERE"
   ]
  }
 ],
 "metadata": {
  "kernelspec": {
   "display_name": "Python 3 (ipykernel)",
   "language": "python",
   "name": "python3"
  },
  "language_info": {
   "codemirror_mode": {
    "name": "ipython",
    "version": 3
   },
   "file_extension": ".py",
   "mimetype": "text/x-python",
   "name": "python",
   "nbconvert_exporter": "python",
   "pygments_lexer": "ipython3",
   "version": "3.8.10"
  },
  "toc": {
   "base_numbering": 1,
   "nav_menu": {},
   "number_sections": false,
   "sideBar": true,
   "skip_h1_title": true,
   "title_cell": "Table of Contents",
   "title_sidebar": "Contents",
   "toc_cell": true,
   "toc_position": {},
   "toc_section_display": true,
   "toc_window_display": true
  }
 },
 "nbformat": 4,
 "nbformat_minor": 4
}
