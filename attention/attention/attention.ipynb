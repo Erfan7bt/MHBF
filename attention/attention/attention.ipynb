{
 "cells": [
  {
   "cell_type": "markdown",
   "metadata": {},
   "source": [
    "<div>\n",
    "  <img style=\"float: left;\"  width=\"140\" src=\" data:image/png;base64,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\">\n",
    "</div>\n",
    " \n",
    "<h1 id=\"course-title-heading\">\n",
    "    <div style=\"text-align: right\">\n",
    "        Models of Higher Brain Functions\n",
    "        <br>Computer Course\n",
    "        <br>\n",
    "    </div>\n",
    "</h1>\n",
    "    \n",
    "---\n",
    "<div style=\"text-align: left; float: left\">\n",
    "    Lecturer: Prof. Dr. Henning Sprekeler\n",
    "</div>\n",
    "\n",
    "<div style=\"text-align: right\">\n",
    "    Assistant: Jarek Liesen\n",
    "    <br>(jarek@bccn-berlin.de)\n",
    "</div>\n",
    "\n"
   ]
  },
  {
   "cell_type": "markdown",
   "metadata": {},
   "source": [
    "## General exercise instructions\n",
    "These exercises should be completed entirely in this Jupyter Notebook (comprising source code, discussion and interpretation). Submission should be done through the Moodle interface and should consist only of this notebook (**a single `.ipynb` file**). This Jupyter Notebook was provided inside a `.zip` file, alongside additional files. Do not change the relative paths of these files when working on the assignment (meaning that e.g. `./helper.py` should always be in the same directory as this notebook).\n",
    "\n",
    "Submission deadline is the start of the next lectue (**10:15 am on Fridays**).\n",
    "\n",
    "Before you turn this problem in, make sure everything runs as expected. First, **restart the kernel** (in the menubar, select Kernel$\\rightarrow$Restart) and then **run all cells** (in the menubar, select Cell$\\rightarrow$Run All).\n",
    "\n",
    "Some of the exercises will be automatically graded. Make sure that you:\n",
    "1. Fill in any place that says `YOUR CODE HERE` or \"YOUR ANSWER HERE\"\n",
    "2. Remove all `raise NotImplementedError` lines once you inserted your solution\n",
    "3. Don't use variable names starting with underscore (e.g. `_myvar`) in your code, which could interfere with the automatic grading system.\n",
    "\n",
    "Before you start, please fill in below your names and the name of your group as shown on Moodle. Example:\n",
    "```\n",
    "NAMES = [\"Martina Musterfrau\", \"John Smith\"]\n",
    "GROUP = \"A\"\n",
    "```\n",
    "\n",
    "If you have any questions about the exercises, please ask them **on the Moodle forum** of the course."
   ]
  },
  {
   "cell_type": "code",
   "execution_count": null,
   "metadata": {},
   "outputs": [],
   "source": [
    "NAMES = [\"\", \"\"]\n",
    "GROUP = \"\""
   ]
  },
  {
   "cell_type": "code",
   "execution_count": null,
   "metadata": {},
   "outputs": [],
   "source": [
    "# These are a few tests to make sure that your installed Python software is not too old\n",
    "import sys\n",
    "assert sys.version_info.major >= 3, \"Your Python version is too old, please update it.\"\n",
    "\n",
    "import IPython\n",
    "assert IPython.version_info[0] >= 3, \"Your IPython version is too old, please update it.\""
   ]
  },
  {
   "cell_type": "markdown",
   "metadata": {},
   "source": [
    "---"
   ]
  },
  {
   "cell_type": "markdown",
   "metadata": {
    "deletable": false,
    "editable": false,
    "nbgrader": {
     "cell_type": "markdown",
     "checksum": "29428fb9264d0ff9a637befdb6d2be17",
     "grade": false,
     "grade_id": "week-title",
     "locked": true,
     "schema_version": 3,
     "solution": false,
     "task": false
    }
   },
   "source": [
    "# Week 3: Saliency"
   ]
  },
  {
   "cell_type": "markdown",
   "metadata": {
    "deletable": false,
    "editable": false,
    "nbgrader": {
     "cell_type": "markdown",
     "checksum": "b9423f85bfe8dac9792a97a4e033fcc3",
     "grade": false,
     "grade_id": "toc",
     "locked": true,
     "schema_version": 3,
     "solution": false,
     "task": false
    },
    "toc": true
   },
   "source": [
    "<h2>Table of Contents<span class=\"tocSkip\"></span></h2>\n",
    "<div class=\"toc\"><ul class=\"toc-item\"><li><span><a href=\"#Exercise-1:-Saliency-Maps-from-Local-Standard-Deviation-(20-points)\" data-toc-modified-id=\"Exercise-1:-Saliency-Maps-from-Local-Standard-Deviation-(20-points)-1\"><span class=\"toc-item-num\">1&nbsp;&nbsp;</span>Exercise 1: Saliency Maps from Local Standard Deviation (20 points)</a></span><ul class=\"toc-item\"><li><span><a href=\"#1.1-Correlations-in-an-RGB-image\" data-toc-modified-id=\"1.1-Correlations-in-an-RGB-image-1.1\"><span class=\"toc-item-num\">1.1&nbsp;&nbsp;</span>1.1 Correlations in an RGB image</a></span><ul class=\"toc-item\"><li><span><a href=\"#1.1-a)-Plot-an-RGB-image-(1-point)\" data-toc-modified-id=\"1.1-a)-Plot-an-RGB-image-(1-point)-1.1.1\"><span class=\"toc-item-num\">1.1.1&nbsp;&nbsp;</span>1.1 a) Plot an RGB image (1 point)</a></span></li><li><span><a href=\"#1.1-b)-Compute-the-correlation-coefficients-in-an-RGB-image-(1-point)\" data-toc-modified-id=\"1.1-b)-Compute-the-correlation-coefficients-in-an-RGB-image-(1-point)-1.1.2\"><span class=\"toc-item-num\">1.1.2&nbsp;&nbsp;</span>1.1 b) Compute the correlation coefficients in an RGB image (1 point)</a></span></li><li><span><a href=\"#1.1-c)-What-do-you-observer?-(1-point)\" data-toc-modified-id=\"1.1-c)-What-do-you-observer?-(1-point)-1.1.3\"><span class=\"toc-item-num\">1.1.3&nbsp;&nbsp;</span>1.1 c) What do you observer? (1 point)</a></span></li></ul></li><li><span><a href=\"#1.2.-Correlations-in-HSV-image\" data-toc-modified-id=\"1.2.-Correlations-in-HSV-image-1.2\"><span class=\"toc-item-num\">1.2&nbsp;&nbsp;</span>1.2. Correlations in HSV image</a></span><ul class=\"toc-item\"><li><span><a href=\"#1.2-a)-Plot-your-image-in-HSV-space-and-compute-the-channel-correlations-(2-point)\" data-toc-modified-id=\"1.2-a)-Plot-your-image-in-HSV-space-and-compute-the-channel-correlations-(2-point)-1.2.1\"><span class=\"toc-item-num\">1.2.1&nbsp;&nbsp;</span>1.2 a) Plot your image in HSV space and compute the channel correlations (2 point)</a></span></li><li><span><a href=\"#1.2-b)-What-do-you-observer?\" data-toc-modified-id=\"1.2-b)-What-do-you-observer?-1.2.2\"><span class=\"toc-item-num\">1.2.2&nbsp;&nbsp;</span>1.2 b) What do you observer?</a></span></li></ul></li><li><span><a href=\"#1.3-Compute-saliency-maps\" data-toc-modified-id=\"1.3-Compute-saliency-maps-1.3\"><span class=\"toc-item-num\">1.3&nbsp;&nbsp;</span>1.3 Compute saliency maps</a></span><ul class=\"toc-item\"><li><span><a href=\"#1.3.-a)-Write-a-function-to-compute-saliency-maps\" data-toc-modified-id=\"1.3.-a)-Write-a-function-to-compute-saliency-maps-1.3.1\"><span class=\"toc-item-num\">1.3.1&nbsp;&nbsp;</span>1.3. a) Write a function to compute saliency maps</a></span></li><li><span><a href=\"#1.3-b)-Compute-and-plot-saliency-maps-for-the-HSV-channels-(1-point)\" data-toc-modified-id=\"1.3-b)-Compute-and-plot-saliency-maps-for-the-HSV-channels-(1-point)-1.3.2\"><span class=\"toc-item-num\">1.3.2&nbsp;&nbsp;</span>1.3 b) Compute and plot saliency maps for the HSV channels (1 point)</a></span></li><li><span><a href=\"#1.3-c)-What-do-you-observe?\" data-toc-modified-id=\"1.3-c)-What-do-you-observe?-1.3.3\"><span class=\"toc-item-num\">1.3.3&nbsp;&nbsp;</span>1.3 c) What do you observe?</a></span></li></ul></li><li><span><a href=\"#1.4-Combine-the-saliency-maps-(1-point)\" data-toc-modified-id=\"1.4-Combine-the-saliency-maps-(1-point)-1.4\"><span class=\"toc-item-num\">1.4&nbsp;&nbsp;</span>1.4 Combine the saliency maps (1 point)</a></span></li><li><span><a href=\"#1.5-Use-a-Gaussian-filter-to-smooth-the-saliency-map-(1-point)\" data-toc-modified-id=\"1.5-Use-a-Gaussian-filter-to-smooth-the-saliency-map-(1-point)-1.5\"><span class=\"toc-item-num\">1.5&nbsp;&nbsp;</span>1.5 Use a Gaussian filter to smooth the saliency map (1 point)</a></span></li><li><span><a href=\"#1.6-Compare-your-saliency-map-with-the-original-image\" data-toc-modified-id=\"1.6-Compare-your-saliency-map-with-the-original-image-1.6\"><span class=\"toc-item-num\">1.6&nbsp;&nbsp;</span>1.6 Compare your saliency map with the original image</a></span><ul class=\"toc-item\"><li><span><a href=\"#1.6-a)-Overlay-the-original-image-with-the-computed-saliency-contours-(3-point)\" data-toc-modified-id=\"1.6-a)-Overlay-the-original-image-with-the-computed-saliency-contours-(3-point)-1.6.1\"><span class=\"toc-item-num\">1.6.1&nbsp;&nbsp;</span>1.6 a) Overlay the original image with the computed saliency contours (3 point)</a></span></li><li><span><a href=\"#1.6-b)-What-do-you-observe?-(1-point)\" data-toc-modified-id=\"1.6-b)-What-do-you-observe?-(1-point)-1.6.2\"><span class=\"toc-item-num\">1.6.2&nbsp;&nbsp;</span>1.6 b) What do you observe? (1 point)</a></span></li></ul></li><li><span><a href=\"#1.7-How-well-does-the-proposed-saliency-algorithm-perform?\" data-toc-modified-id=\"1.7-How-well-does-the-proposed-saliency-algorithm-perform?-1.7\"><span class=\"toc-item-num\">1.7&nbsp;&nbsp;</span>1.7 How well does the proposed saliency algorithm perform?</a></span><ul class=\"toc-item\"><li><span><a href=\"#1.7-a)-Compute-the-saliency-maps-for-all-provided-images-(1-point)\" data-toc-modified-id=\"1.7-a)-Compute-the-saliency-maps-for-all-provided-images-(1-point)-1.7.1\"><span class=\"toc-item-num\">1.7.1&nbsp;&nbsp;</span>1.7 a) Compute the saliency maps for all provided images (1 point)</a></span></li><li><span><a href=\"#1.7-b)-What-are-the-shortcoming-of-the-proposed-saliency-algorithm?-(2-points)\" data-toc-modified-id=\"1.7-b)-What-are-the-shortcoming-of-the-proposed-saliency-algorithm?-(2-points)-1.7.2\"><span class=\"toc-item-num\">1.7.2&nbsp;&nbsp;</span>1.7 b) What are the shortcoming of the proposed saliency algorithm? (2 points)</a></span></li><li><span><a href=\"#1.7-c)-How-could-you-improve-the-algorithm?-(1-point)\" data-toc-modified-id=\"1.7-c)-How-could-you-improve-the-algorithm?-(1-point)-1.7.3\"><span class=\"toc-item-num\">1.7.3&nbsp;&nbsp;</span>1.7 c) How could you improve the algorithm? (1 point)</a></span></li></ul></li></ul></li><li><span><a href=\"#Exercise-2-(optional-bonus-task):-Mexican-hat-convolution-(5-points)\" data-toc-modified-id=\"Exercise-2-(optional-bonus-task):-Mexican-hat-convolution-(5-points)-2\"><span class=\"toc-item-num\">2&nbsp;&nbsp;</span>Exercise 2 (optional bonus task): Mexican-hat convolution (5 points)</a></span></li></ul></div>"
   ]
  },
  {
   "cell_type": "code",
   "execution_count": null,
   "metadata": {
    "deletable": false,
    "editable": false,
    "nbgrader": {
     "cell_type": "code",
     "checksum": "ae1ac060ed4e2990296ecc79251f7081",
     "grade": false,
     "grade_id": "fixed-imports",
     "locked": true,
     "schema_version": 3,
     "solution": false,
     "task": false
    }
   },
   "outputs": [],
   "source": [
    "# Necessary imports for this exercise, you can't modify these\n",
    "import numpy as np\n",
    "import matplotlib.pyplot as plt\n",
    "\n",
    "# Import functions defined in the ./helpers.py file\n",
    "from helpers import assert_var_defined\n",
    "\n",
    "# Make sure the images folder is where it is supposed to be\n",
    "try:\n",
    "    _ = plt.imread(\"images/salience_01.png\")\n",
    "except FileNotFoundError as error:\n",
    "    raise FileNotFoundError(\n",
    "        \"Don't change the relative path of the provided images!\"\n",
    "    ) from error"
   ]
  },
  {
   "cell_type": "code",
   "execution_count": null,
   "metadata": {},
   "outputs": [],
   "source": [
    "# You can add your additional package imports here\n",
    "\n",
    "# Create plots inline in the Jupyter notebook\n",
    "%matplotlib inline"
   ]
  },
  {
   "cell_type": "markdown",
   "metadata": {
    "deletable": false,
    "editable": false,
    "nbgrader": {
     "cell_type": "markdown",
     "checksum": "019577a912608155dc6687530c3347d4",
     "grade": false,
     "grade_id": "intro-1",
     "locked": true,
     "schema_version": 3,
     "solution": false,
     "task": false
    }
   },
   "source": [
    "## Exercise 1: Saliency Maps from Local Standard Deviation (20 points)\n",
    "\n",
    "In this exercise, we will compute saliency maps for natural images which provide an estimate of where subjects will (not) move their eyes. High values in a saliency map correspond to positions in an image which attract the viewer, and low values where they are unlikely to attend. We will program a purely bottom-up, i.e. physically driven and task-independent, saliency map, similar to the one proposed by [Itti, Koch \\& Niebur (1998)](http://pages.cs.wisc.edu/~dyer/cs534/papers/itti98-saliency.pdf) (but excluding directional image information)."
   ]
  },
  {
   "cell_type": "markdown",
   "metadata": {
    "deletable": false,
    "editable": false,
    "nbgrader": {
     "cell_type": "markdown",
     "checksum": "05bb19ea868291da43bfbe79a43c3999",
     "grade": false,
     "grade_id": "task-1-1-a",
     "locked": true,
     "schema_version": 3,
     "solution": false,
     "task": false
    }
   },
   "source": [
    "### 1.1 Correlations in an RGB image \n",
    "#### 1.1 a) Plot an RGB image (1 point)\n",
    "Pick one of the provided [color images](./images) and import it as a 3D-array (`99x150x3` entries) using e.g. [`matplotlib.pyplot.imread`](https://matplotlib.org/stable/api/_as_gen/matplotlib.pyplot.imread.html) or [`scipy.misc.imread`](https://docs.scipy.org/doc/scipy/reference/).\n",
    "The third dimension represents the three colors red, green and blue.\n",
    "Plot the color image as well as the three channels separately as a gray level image into a single figure (4 figure panels). Define a function for this plot, you will reuse it below.\n"
   ]
  },
  {
   "cell_type": "code",
   "execution_count": null,
   "metadata": {
    "deletable": false,
    "nbgrader": {
     "cell_type": "code",
     "checksum": "90aea3fe393f258e9b9f2f080259d435",
     "grade": true,
     "grade_id": "answer-1-1a",
     "locked": false,
     "points": 1,
     "schema_version": 3,
     "solution": true,
     "task": false
    }
   },
   "outputs": [],
   "source": [
    "# YOUR CODE HERE\n",
    "raise NotImplementedError()"
   ]
  },
  {
   "cell_type": "markdown",
   "metadata": {
    "deletable": false,
    "editable": false,
    "nbgrader": {
     "cell_type": "markdown",
     "checksum": "8484c730cf2f1b64f211e13db988345f",
     "grade": false,
     "grade_id": "task-1-1-b",
     "locked": true,
     "schema_version": 3,
     "solution": false,
     "task": false
    }
   },
   "source": [
    "#### 1.1 b) Compute the correlation coefficients in an RGB image (1 point)\n",
    "You may notice that the information between the color channels is highly redundant.\n",
    "To quantify the redundancy, compute the three pairwise correlation coefficients between each of the three color channels across all pixels. Complete the function `get_channel_correlations` below (hint: use the function [`flatten`](https://numpy.org/doc/stable/reference/generated/numpy.ndarray.flatten.html) to convert each image channel into a 1D array and then apply [`numpy.corrcoef`](https://numpy.org/doc/stable/reference/generated/numpy.corrcoef.html) to obtain the correlation coefficients). Use this function to compute the channel correlation coefficients for the RGB image you imported.\n"
   ]
  },
  {
   "cell_type": "code",
   "execution_count": null,
   "metadata": {
    "deletable": false,
    "nbgrader": {
     "cell_type": "code",
     "checksum": "f0795f7a28662f0a95f19c77ceccd902",
     "grade": false,
     "grade_id": "answer-1-1-b",
     "locked": false,
     "schema_version": 3,
     "solution": true,
     "task": false
    }
   },
   "outputs": [],
   "source": [
    "def get_channel_correlations(image):\n",
    "    \"\"\"\n",
    "    Compute the pairwise correlation coefficients between each of the three image\n",
    "    channels across all pixels.\n",
    "    \n",
    "    Parameters\n",
    "    ----------\n",
    "    image : numpy.ndarray\n",
    "        A 3D array of shape `(num_pixels_x, num_pixels_y, 3)`, where the last dimension\n",
    "        corresponds to the three image channels\n",
    "    \n",
    "    Returns\n",
    "    -------\n",
    "    channel_correlations : numpy.ndarray\n",
    "        A 3x3 matrix of pairwise correlations coefficients\n",
    "    \"\"\"\n",
    "    \n",
    "    # YOUR CODE HERE\n",
    "    raise NotImplementedError()\n",
    "\n",
    "    return channel_correlations\n",
    "\n",
    "\n",
    "# Compute and print the pairwise channel correlations for the RGB image you imported\n",
    "\n",
    "# YOUR CODE HERE\n",
    "raise NotImplementedError()"
   ]
  },
  {
   "cell_type": "code",
   "execution_count": null,
   "metadata": {
    "deletable": false,
    "editable": false,
    "nbgrader": {
     "cell_type": "code",
     "checksum": "966557f8d86119baecd7b09bf0e8c6c3",
     "grade": true,
     "grade_id": "tests-1-1-b",
     "locked": true,
     "points": 1,
     "schema_version": 3,
     "solution": false,
     "task": false
    }
   },
   "outputs": [],
   "source": [
    "\"\"\" Test that the function `get_channel_corrlelations` is defined \"\"\"\n",
    "\n",
    "assert_var_defined(\"get_channel_correlations\", func=True)"
   ]
  },
  {
   "cell_type": "markdown",
   "metadata": {
    "deletable": false,
    "editable": false,
    "nbgrader": {
     "cell_type": "markdown",
     "checksum": "6c044f2b1a7584eae05e700ebd44ed44",
     "grade": false,
     "grade_id": "task-1-1c",
     "locked": true,
     "schema_version": 3,
     "solution": false,
     "task": false
    }
   },
   "source": [
    "#### 1.1 c) What do you observer? (1 point)\n",
    "Is there anything striking in the correlations?\n",
    "Why is this not surprising given the way natural images arise (hint: think about what determines the content of a photograph of a natural scene)?"
   ]
  },
  {
   "cell_type": "markdown",
   "metadata": {
    "deletable": false,
    "nbgrader": {
     "cell_type": "markdown",
     "checksum": "cb7d0e0051b64fc0265c741aa01710a1",
     "grade": true,
     "grade_id": "answer-1-1-c",
     "locked": false,
     "points": 1,
     "schema_version": 3,
     "solution": true,
     "task": false
    }
   },
   "source": [
    "YOUR ANSWER HERE"
   ]
  },
  {
   "cell_type": "markdown",
   "metadata": {
    "deletable": false,
    "editable": false,
    "nbgrader": {
     "cell_type": "markdown",
     "checksum": "50b231fee880ed337d718335d08f52f6",
     "grade": false,
     "grade_id": "task-1-2-a",
     "locked": true,
     "schema_version": 3,
     "solution": false,
     "task": false
    }
   },
   "source": [
    "### 1.2. Correlations in HSV image\n",
    "#### 1.2 a) Plot your image in HSV space and compute the channel correlations (1 point)\n",
    "To decrease the interdependence between channels, convert the image from RGB- to HSV-space (hint: use the function [`matplotlib.colors.rgb_to_hsv`](https://matplotlib.org/stable/api/_as_gen/matplotlib.colors.rgb_to_hsv.html)).\n",
    "Once more, plot the three channels separately as gray level images into a single figure together with the RGB color image.\n",
    "To quantify whether the dependence has truly decreased, compute the pairwise correlation coefficients between the new HSV-channels. Use the functions you defined in exercise 1.1."
   ]
  },
  {
   "cell_type": "code",
   "execution_count": null,
   "metadata": {
    "deletable": false,
    "nbgrader": {
     "cell_type": "code",
     "checksum": "6b6b8bc09426db154a7cc1f63d1118ce",
     "grade": true,
     "grade_id": "answer-1-2-a",
     "locked": false,
     "points": 1,
     "schema_version": 3,
     "solution": true,
     "task": false
    }
   },
   "outputs": [],
   "source": [
    "# YOUR CODE HERE\n",
    "raise NotImplementedError()"
   ]
  },
  {
   "cell_type": "markdown",
   "metadata": {
    "deletable": false,
    "editable": false,
    "nbgrader": {
     "cell_type": "markdown",
     "checksum": "9de4d7230d0aa2faf50ed5cdf9c40761",
     "grade": false,
     "grade_id": "task-1-2-b",
     "locked": true,
     "schema_version": 3,
     "solution": false,
     "task": false
    }
   },
   "source": [
    "#### 1.2 b) What do you observer? (2 points)\n",
    "Explain why there is less correlation now! If you are not familiar with the HSV-representation, have a look at [Wikipedia: HSL and HSV](http://en.wikipedia.org/wiki/HSL_and_HSV)."
   ]
  },
  {
   "cell_type": "markdown",
   "metadata": {
    "deletable": false,
    "nbgrader": {
     "cell_type": "markdown",
     "checksum": "ae2168cbb9c749a5cd082db7fb4838b3",
     "grade": true,
     "grade_id": "answer-1-2-b",
     "locked": false,
     "points": 2,
     "schema_version": 3,
     "solution": true,
     "task": false
    }
   },
   "source": [
    "YOUR ANSWER HERE"
   ]
  },
  {
   "cell_type": "markdown",
   "metadata": {
    "deletable": false,
    "editable": false,
    "nbgrader": {
     "cell_type": "markdown",
     "checksum": "8cd71e896cadc5098b88557bed6f3481",
     "grade": false,
     "grade_id": "task-1-3",
     "locked": true,
     "schema_version": 3,
     "solution": false,
     "task": false
    }
   },
   "source": [
    "### 1.3 Compute saliency maps\n",
    "\n",
    "We will now compute three independent saliency maps for the image using the HSV-representation. For each channel, we will compute the saliency at each pixel as the standard deviation across a surrounding patch of 15x15 pixels."
   ]
  },
  {
   "cell_type": "markdown",
   "metadata": {
    "deletable": false,
    "editable": false,
    "nbgrader": {
     "cell_type": "markdown",
     "checksum": "75f5d87841aea7c745f312d11facabf3",
     "grade": false,
     "grade_id": "task-1-3-a",
     "locked": true,
     "schema_version": 3,
     "solution": false,
     "task": false
    }
   },
   "source": [
    "#### 1.3. a) Write a function to compute saliency maps (3 points)\n",
    "Complete the function `compute_std_saliency_maps` below. It takes as input a an HSV image and should perform the following computations for each image channel separately:\n",
    "1. For each pixel in the image, extract the surrounding $15\\times 15$ pixel image patch. Ignore the edges of the image for which no full patches can be obtained.\n",
    "2. For each patch compute the standard deviation of the pixel values. Note that the Hue-channel (but not the Saturation- or Value-channels) represents a circular variable (\"color circle\"), so that computing the ordinary standard deviation (the function [`numpy.std`](https://numpy.org/doc/stable/reference/generated/numpy.std.html)) may result in artifacts. Use circular standard deviation for the Hue-channel instead (hint: the function [`scipy.stats.circstd`](https://docs.scipy.org/doc/scipy/reference/generated/scipy.stats.circstd.html) is of help here, but be sure to set parameter `high=1`).\n",
    "3. Store the standard deviation of the patches around each pixel in a new 2D \"saliency image\". Both dimensions should be 14 (patch size - 1) pixels smaller than in the original image."
   ]
  },
  {
   "cell_type": "code",
   "execution_count": null,
   "metadata": {
    "deletable": false,
    "nbgrader": {
     "cell_type": "code",
     "checksum": "526bd5bca0b2498edb61ee091e007843",
     "grade": false,
     "grade_id": "answer-1-3-a",
     "locked": false,
     "schema_version": 3,
     "solution": true,
     "task": false
    }
   },
   "outputs": [],
   "source": [
    "import scipy.stats\n",
    "\n",
    "def compute_std_saliency_maps(hsv_image):\n",
    "    \"\"\"\n",
    "    Compute the saliency map of each channel of an HSV image separately by calculating \n",
    "    the standard deviation across image patches of 15x15 pixels.\n",
    "\n",
    "    Parameters\n",
    "    ----------\n",
    "    hsv_image : numpy.ndarray\n",
    "        Image in HSV-space, with shape `(size_x, size_y, 3)`, where `size_x` and `size_y`\n",
    "        are the number of pixels in x- and y-dimension, respectively and the last\n",
    "        dimension corresponds to the hue, saturation and value channels.\n",
    "    \n",
    "    Returns\n",
    "    -------\n",
    "    saliency_maps : numpy.ndarray\n",
    "        3D array of saliency values with shape `(size_x - 14, size_y - 14, 3)`\n",
    "    \"\"\"\n",
    "    # YOUR CODE HERE\n",
    "    raise NotImplementedError()\n",
    "            \n",
    "    return saliency_maps"
   ]
  },
  {
   "cell_type": "code",
   "execution_count": null,
   "metadata": {
    "deletable": false,
    "editable": false,
    "nbgrader": {
     "cell_type": "code",
     "checksum": "6252ff006b397a26d4562c2970defb31",
     "grade": true,
     "grade_id": "tests-1-3-a",
     "locked": true,
     "points": 3,
     "schema_version": 3,
     "solution": false,
     "task": false
    }
   },
   "outputs": [],
   "source": [
    "\"\"\" Test that the function `compute_std_saliency_maps` is defined \"\"\"\n",
    "\n",
    "assert_var_defined(\"compute_std_saliency_maps\", func=True)"
   ]
  },
  {
   "cell_type": "markdown",
   "metadata": {
    "deletable": false,
    "editable": false,
    "nbgrader": {
     "cell_type": "markdown",
     "checksum": "f868548adf546c52701edc14a63d2191",
     "grade": false,
     "grade_id": "task-1-3-b",
     "locked": true,
     "schema_version": 3,
     "solution": false,
     "task": false
    }
   },
   "source": [
    "#### 1.3 b) Compute and plot saliency maps for the HSV channels (1 point)\n",
    "Use `compute_std_saliency_map` to compute a saliency image for each channel of your HSV image. Plot the separate saliency images into a single figure."
   ]
  },
  {
   "cell_type": "code",
   "execution_count": null,
   "metadata": {
    "deletable": false,
    "nbgrader": {
     "cell_type": "code",
     "checksum": "021193be9e24c7347b75f9b0ce5a9296",
     "grade": true,
     "grade_id": "answer-1-3-b",
     "locked": false,
     "points": 1,
     "schema_version": 3,
     "solution": true,
     "task": false
    }
   },
   "outputs": [],
   "source": [
    "# YOUR CODE HERE\n",
    "raise NotImplementedError()"
   ]
  },
  {
   "cell_type": "markdown",
   "metadata": {
    "deletable": false,
    "editable": false,
    "nbgrader": {
     "cell_type": "markdown",
     "checksum": "df1d120ea2dd426f88eabc2ca3885d10",
     "grade": false,
     "grade_id": "task-1-3-c",
     "locked": true,
     "schema_version": 3,
     "solution": false,
     "task": false
    }
   },
   "source": [
    "#### 1.3 c) What do you observe? (1 point)\n",
    "How is each of the three saliency maps related to the visual properties of the original image?"
   ]
  },
  {
   "cell_type": "markdown",
   "metadata": {
    "deletable": false,
    "nbgrader": {
     "cell_type": "markdown",
     "checksum": "9748a59f535e9d6bc1b1630945799a66",
     "grade": true,
     "grade_id": "answer-1-3-c",
     "locked": false,
     "points": 1,
     "schema_version": 3,
     "solution": true,
     "task": false
    }
   },
   "source": [
    "YOUR ANSWER HERE"
   ]
  },
  {
   "cell_type": "markdown",
   "metadata": {
    "deletable": false,
    "editable": false,
    "nbgrader": {
     "cell_type": "markdown",
     "checksum": "ae5b754e620f51778909c1167164b5a2",
     "grade": false,
     "grade_id": "task-1-4",
     "locked": true,
     "schema_version": 3,
     "solution": false,
     "task": false
    }
   },
   "source": [
    "### 1.4 Combine the saliency maps (1 point)\n",
    "Compute a joint saliency map by summing the separate saliency images you have computed.\n",
    "This joint map represents the \"attractiveness\" of each position in the image when considering the information in all three image channels. Plot this joint saliency map."
   ]
  },
  {
   "cell_type": "code",
   "execution_count": null,
   "metadata": {
    "deletable": false,
    "nbgrader": {
     "cell_type": "code",
     "checksum": "d30e0572df32885dd54fa13f34b44932",
     "grade": true,
     "grade_id": "answer-1-4",
     "locked": false,
     "points": 1,
     "schema_version": 3,
     "solution": true,
     "task": false
    }
   },
   "outputs": [],
   "source": [
    "# YOUR CODE HERE\n",
    "raise NotImplementedError()"
   ]
  },
  {
   "cell_type": "markdown",
   "metadata": {
    "deletable": false,
    "editable": false,
    "nbgrader": {
     "cell_type": "markdown",
     "checksum": "9a61505c65a43d34a93c850c1133f1f2",
     "grade": false,
     "grade_id": "task-1-5",
     "locked": true,
     "schema_version": 3,
     "solution": false,
     "task": false
    }
   },
   "source": [
    "### 1.5 Use a Gaussian filter to smooth the saliency map (1 point)\n",
    "You will see that the combined saliency image still contains a lot of detail.\n",
    "To generate a more naturally behaving saliency map, smooth this image by low-pass filtering (hint: you can use [`scipy.ndimage.gaussian_filter`](https://docs.scipy.org/doc/scipy/reference/generated/scipy.ndimage.gaussian_filter.html). Experiment with different sigmas and padding modes). Plot the smoothed image."
   ]
  },
  {
   "cell_type": "code",
   "execution_count": null,
   "metadata": {
    "deletable": false,
    "nbgrader": {
     "cell_type": "code",
     "checksum": "ffec71e0a506e541b4290130fc7c97eb",
     "grade": true,
     "grade_id": "answer-1-5",
     "locked": false,
     "points": 1,
     "schema_version": 3,
     "solution": true,
     "task": false
    }
   },
   "outputs": [],
   "source": [
    "# YOUR CODE HERE\n",
    "raise NotImplementedError()"
   ]
  },
  {
   "cell_type": "markdown",
   "metadata": {
    "deletable": false,
    "editable": false,
    "nbgrader": {
     "cell_type": "markdown",
     "checksum": "185330bfbbca07a3948e2797f3e87450",
     "grade": false,
     "grade_id": "task-1-6",
     "locked": true,
     "schema_version": 3,
     "solution": false,
     "task": false
    }
   },
   "source": [
    "### 1.6 Compare your saliency map with the original image\n",
    "\n",
    "#### 1.6 a) Overlay the original image with the computed saliency contours (2 point)\n",
    "1. Plot the original image and overlay the contours of the smoothed saliency map (hint: remember that the saliency map is smaller than the original image. Correct for this and then use the function [`matplotlib.pyplot.contour`](https://matplotlib.org/stable/api/_as_gen/matplotlib.pyplot.contour.html) to plot the contour map upon the image).\n",
    "2. From the smoothed saliency map, extract the positions the subject will most likely and least likely look at (hint: use [`numpy.argmax`](https://numpy.org/doc/stable/reference/generated/numpy.argmax.html) and [`numpy.argmin`](https://numpy.org/doc/stable/reference/generated/numpy.argmin.html) in conjunction with [`numpy.unravel_index`](https://numpy.org/doc/stable/reference/generated/numpy.unravel_index.html) to locate the indices of those points within the image). Mark those points with a red and blue dot, respectively (hint: function [`matplotlib.pyplot.plot`](https://matplotlib.org/stable/api/_as_gen/matplotlib.pyplot.plot.html) with `marker='o'` works well)."
   ]
  },
  {
   "cell_type": "code",
   "execution_count": null,
   "metadata": {
    "deletable": false,
    "nbgrader": {
     "cell_type": "code",
     "checksum": "5f6a2a7b99d86e5e3783aa5e3b8dfb0c",
     "grade": true,
     "grade_id": "answer-1-6",
     "locked": false,
     "points": 2,
     "schema_version": 3,
     "solution": true,
     "task": false
    }
   },
   "outputs": [],
   "source": [
    "# YOUR CODE HERE\n",
    "raise NotImplementedError()"
   ]
  },
  {
   "cell_type": "markdown",
   "metadata": {
    "deletable": false,
    "editable": false,
    "nbgrader": {
     "cell_type": "markdown",
     "checksum": "a37e751abdd15f2f89f7087c25be2144",
     "grade": false,
     "grade_id": "cell-721e47cde24aafa1",
     "locked": true,
     "schema_version": 3,
     "solution": false,
     "task": false
    }
   },
   "source": [
    "#### 1.6 b) What do you observe? (1 point)\n",
    "How do you interpret the completed image?"
   ]
  },
  {
   "cell_type": "markdown",
   "metadata": {
    "deletable": false,
    "nbgrader": {
     "cell_type": "markdown",
     "checksum": "3594cd427d8607aee211fd94d1c94523",
     "grade": true,
     "grade_id": "cell-986ad201e53a391b",
     "locked": false,
     "points": 1,
     "schema_version": 3,
     "solution": true,
     "task": false
    }
   },
   "source": [
    "YOUR ANSWER HERE"
   ]
  },
  {
   "cell_type": "markdown",
   "metadata": {
    "deletable": false,
    "editable": false,
    "nbgrader": {
     "cell_type": "markdown",
     "checksum": "ee5148cb5c2ca82732d0171c33eca1e0",
     "grade": false,
     "grade_id": "task-1-7-a",
     "locked": true,
     "schema_version": 3,
     "solution": false,
     "task": false
    }
   },
   "source": [
    "### 1.7 How well does the proposed saliency algorithm perform?\n",
    "\n",
    "#### 1.7 a) Compute the saliency maps for all provided images (1 point)\n",
    "Repeat the above procedures to plot a saliency map onto the complete set of color images provided (in the `images` folder)."
   ]
  },
  {
   "cell_type": "code",
   "execution_count": null,
   "metadata": {
    "deletable": false,
    "nbgrader": {
     "cell_type": "code",
     "checksum": "1f6f2cae493517faaca6002612128da4",
     "grade": true,
     "grade_id": "answer-1-7-a",
     "locked": false,
     "points": 1,
     "schema_version": 3,
     "solution": true,
     "task": false
    }
   },
   "outputs": [],
   "source": [
    "# YOUR CODE HERE\n",
    "raise NotImplementedError()"
   ]
  },
  {
   "cell_type": "markdown",
   "metadata": {
    "deletable": false,
    "editable": false,
    "nbgrader": {
     "cell_type": "markdown",
     "checksum": "e6ba6d296e5a0e7061fec3e8193ffad6",
     "grade": false,
     "grade_id": "task-1-7-b",
     "locked": true,
     "schema_version": 3,
     "solution": false,
     "task": false
    }
   },
   "source": [
    "#### 1.7 b) What are the shortcoming of the proposed saliency algorithm? (2 points)\n",
    "Discuss possible shortcomings of the proposed saliency algorithm.\n",
    "To this end, pick images for which the most salient position according to the algorithm does not conform with your expectation of how human attention works.\n",
    "Name at least two different image features the algorithm does not take into account and illustrate each with a different image."
   ]
  },
  {
   "cell_type": "markdown",
   "metadata": {
    "deletable": false,
    "nbgrader": {
     "cell_type": "markdown",
     "checksum": "77e6c24708372edb3e757a824016bf23",
     "grade": true,
     "grade_id": "answer-1-7-b",
     "locked": false,
     "points": 2,
     "schema_version": 3,
     "solution": true,
     "task": false
    }
   },
   "source": [
    "YOUR ANSWER HERE"
   ]
  },
  {
   "cell_type": "markdown",
   "metadata": {
    "deletable": false,
    "editable": false,
    "nbgrader": {
     "cell_type": "markdown",
     "checksum": "2ff79a96d89cd4e2d14ad88f4d2564c7",
     "grade": false,
     "grade_id": "task-1-7-c",
     "locked": true,
     "schema_version": 3,
     "solution": false,
     "task": false
    }
   },
   "source": [
    "#### 1.7 c) How could you improve the algorithm? (1 point)\n",
    "We know from experiments that subjects are much more likely to first attend the center of an image, instead of the borders.\n",
    "Please outline in words how this information could be included in the above saliency-map analysis to better predict eye-movements."
   ]
  },
  {
   "cell_type": "markdown",
   "metadata": {
    "deletable": false,
    "nbgrader": {
     "cell_type": "markdown",
     "checksum": "547c713044c5fe33dd2de9ab03200c84",
     "grade": true,
     "grade_id": "answer-1-7-c",
     "locked": false,
     "points": 1,
     "schema_version": 3,
     "solution": true,
     "task": false
    }
   },
   "source": [
    "YOUR ANSWER HERE"
   ]
  },
  {
   "cell_type": "markdown",
   "metadata": {
    "deletable": false,
    "editable": false,
    "nbgrader": {
     "cell_type": "markdown",
     "checksum": "7d8ec91dd66df23bed84c33812bb6385",
     "grade": false,
     "grade_id": "task-2",
     "locked": true,
     "points": 0,
     "schema_version": 3,
     "solution": false,
     "task": true
    }
   },
   "source": [
    "---\n",
    "## Exercise 2 (optional bonus task): Mexican-hat convolution (5 points)\n",
    "In the above exercise, we used a shortcut to compute saliency by simply determining\n",
    "the standard deviation on small image patches. A more advanced technique relies on a\n",
    "2D-convolution of the separate image channels with a *mexican hat* filter as presented\n",
    "during the lecture. If you are interested how this works in practice, you are invited to\n",
    "do this optional exercise and score up to 5 bonus points. Essentially, this exercise corresponds to a different version of task 1.3, everything else should be performed in the same way as in exercise 1.\n",
    "\n",
    "1. As a preparation for the following task, generate an array representing a *mexican hat* filter using the function `mexican_hat` (which is provided in [`helpers.py`](helpers.py)) with a size of 20x20 pixels and a width of 3. The filter returned from the helper function is its spatial-domain representation and need not be transformed.\n",
    "2. For each image channel in your HSV image, repeat the following procedure: Convolve the image with the prepared *mexican hat* filter (hint: use [scipy.signal.convolve2d](https://docs.scipy.org/doc/scipy/reference/generated/scipy.signal.convolve2d.html)). Try out what happens with different boundary conditions and explain which one produces the best result. Choose the mode parameter appropriately to get a result that is the same size as the original image.\n",
    "3. The resulting convolution image will have negative as well as positive values. Apply the absolute value function in order to obtain a positive saliency map for each channel.\n",
    "4. Plot the three resulting saliency maps into a single figure, and also add the combined saliency map that you obtain by summation. In which aspects do the saliency maps obtained by convolution differ from the saliency maps that you obtained by computing standard deviation on image patches. Can you give an intuition why?\n",
    "5. Perform the low-pass filtering and the analysis of attracting and repelling image positions as described in exercise 1. Plot the obtained saliency contours and computed image positions onto the original images and compare the resulting graphs with those of the previous exercise. Do you think that computing the standard deviation across patches is a valid shortcut? What is the disadvantage of using the convolution technique on HSV-represented images?"
   ]
  },
  {
   "cell_type": "code",
   "execution_count": null,
   "metadata": {
    "deletable": false,
    "nbgrader": {
     "cell_type": "code",
     "checksum": "41c6b5a50c752589ed32cda4fb333730",
     "grade": true,
     "grade_id": "answer-2",
     "locked": false,
     "points": 0,
     "schema_version": 3,
     "solution": true,
     "task": false
    }
   },
   "outputs": [],
   "source": [
    "# YOUR CODE HERE\n",
    "raise NotImplementedError()"
   ]
  }
 ],
 "metadata": {
  "kernelspec": {
   "display_name": "nbgrader",
   "language": "python",
   "name": "nbgrader"
  },
  "language_info": {
   "codemirror_mode": {
    "name": "ipython",
    "version": 3
   },
   "file_extension": ".py",
   "mimetype": "text/x-python",
   "name": "python",
   "nbconvert_exporter": "python",
   "pygments_lexer": "ipython3",
   "version": "3.10.4"
  },
  "toc": {
   "base_numbering": 1,
   "nav_menu": {},
   "number_sections": true,
   "sideBar": true,
   "skip_h1_title": true,
   "title_cell": "Table of Contents",
   "title_sidebar": "Contents",
   "toc_cell": true,
   "toc_position": {
    "height": "calc(100% - 180px)",
    "left": "10px",
    "top": "150px",
    "width": "440.591px"
   },
   "toc_section_display": true,
   "toc_window_display": true
  }
 },
 "nbformat": 4,
 "nbformat_minor": 4
}
