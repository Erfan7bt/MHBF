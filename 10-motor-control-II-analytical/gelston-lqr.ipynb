{
 "cells": [
  {
   "cell_type": "code",
   "execution_count": 1,
   "metadata": {},
   "outputs": [],
   "source": [
    "import numpy as np"
   ]
  },
  {
   "cell_type": "code",
   "execution_count": 2,
   "metadata": {},
   "outputs": [],
   "source": [
    "def lqr(A, B, F, N, N_T):\n",
    "    \"\"\"\n",
    "    Calculate the feedback gains by backpropagation of the Riccati equation\n",
    "    Accept:\n",
    "        F: state cost in final position, size (n,n)\n",
    "        A: dynamics matrix, size (n,n)\n",
    "        B: input matrix, size (n,d)\n",
    "        N: cost of control, size (d,d)\n",
    "        N_T: number of time steps, int.\n",
    "    Returns:\n",
    "        V: sequence of cost matrices, size (n,n,N_T)\n",
    "        L: sequence of feedback matrix, size (d,n,N_T)\n",
    "    \"\"\"\n",
    "    n, d = B.shape\n",
    "    V = np.zeros((n,n,N_T))\n",
    "    L = np.zeros((d,n,N_T))\n",
    "    \n",
    "    V[:,:,-1] = F\n",
    "    # Run backward in time\n",
    "    for t in range(N_T-2,0,-1):\n",
    "        \"\"\" Your code here \"\"\"\n",
    "    \n",
    "        \n",
    "    return V, L"
   ]
  },
  {
   "cell_type": "code",
   "execution_count": 3,
   "metadata": {},
   "outputs": [],
   "source": [
    "def simulate(x0, x0_est, A_real, A, B, C, L, \n",
    "                obs_noise, dyn_noise, init_var):\n",
    "    \"\"\"\n",
    "    Simultaneously simulate the trajectory forward and estimate the state\n",
    "    Accepts:\n",
    "        x0: initial position, size (n, )\n",
    "        x0_est: estimate of initial position, size (n, )\n",
    "        A_real: dynamics matrix - real, size (n,n)\n",
    "        A: dynamics matrix - assumed, size (n,n)\n",
    "        B: input matrix, size (n,d)\n",
    "        C: observation matrix, size (d, n)\n",
    "        L: sequence of feedback matrices, size (d, n, N_T)\n",
    "        obs_noise: observation noise, float >=0\n",
    "        dyn_noise: dynamics noise, float >=0\n",
    "        init_var: initial variance of filter, float >=0\n",
    "    Returns:\n",
    "        x: true state, size (n, N_T)\n",
    "        x_est: estimated state, size (n, N_T)\n",
    "        x_var_est: sequence of posterior variances, size (n, n, N_T)\n",
    "        kalman_gain: feedback matrices, size (n, d, N_T)\n",
    "        u: controls, size (d, N_T)\n",
    "    \"\"\"\n",
    "    # Initialize variables\n",
    "    d, n, N_T = L.shape\n",
    "    x = np.zeros((n,N_T))\n",
    "    u = np.zeros((d,N_T-1))\n",
    "    x_est = np.zeros((n,N_T))\n",
    "    x_var_est = np.zeros((n,n,N_T))\n",
    "    kalman_gain = np.zeros((n,d,N_T))\n",
    "    \n",
    "    x[:,0] = x0 # the true state\n",
    "    x_est[:,0] = x0_est # system does not know where it is\n",
    "    x_var_est[:,:,0] = init_var * np.eye(n) # very large state uncertainty at the beginning. \n",
    "    # observation noise matrix\n",
    "    Q = obs_noise * dt * np.eye(d)\n",
    "    # dynamics noise matrix\n",
    "    R = dyn_noise * dt * np.eye(n)\n",
    "\n",
    "    # Run forward in time\n",
    "    for t in range(1, N_T):\n",
    "        \"\"\" Your code here \"\"\"\n",
    "    \n",
    "    \n",
    "    return x, x_est, x_var_est, kalman_gain, u"
   ]
  }
 ],
 "metadata": {
  "kernelspec": {
   "display_name": "Python 3",
   "language": "python",
   "name": "python3"
  },
  "language_info": {
   "codemirror_mode": {
    "name": "ipython",
    "version": 3
   },
   "file_extension": ".py",
   "mimetype": "text/x-python",
   "name": "python",
   "nbconvert_exporter": "python",
   "pygments_lexer": "ipython3",
   "version": "3.8.10"
  }
 },
 "nbformat": 4,
 "nbformat_minor": 4
}
